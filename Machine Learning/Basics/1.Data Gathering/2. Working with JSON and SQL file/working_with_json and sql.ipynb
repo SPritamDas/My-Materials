{
 "cells": [
  {
   "cell_type": "markdown",
   "id": "913847f1",
   "metadata": {},
   "source": [
    "## Working with JSON and SQL files.\n",
    "~Shuvendu Pritam Das"
   ]
  },
  {
   "cell_type": "code",
   "execution_count": 1,
   "id": "a0f1534d",
   "metadata": {},
   "outputs": [],
   "source": [
    "import pandas as pd"
   ]
  },
  {
   "cell_type": "markdown",
   "id": "49082008",
   "metadata": {},
   "source": [
    "# Working with `JSON`"
   ]
  },
  {
   "cell_type": "markdown",
   "id": "6ea94e26",
   "metadata": {},
   "source": [
    "## From Local Sysyem"
   ]
  },
  {
   "cell_type": "code",
   "execution_count": 5,
   "id": "e4b1aa20",
   "metadata": {
    "scrolled": true
   },
   "outputs": [
    {
     "data": {
      "text/html": [
       "<div>\n",
       "<style scoped>\n",
       "    .dataframe tbody tr th:only-of-type {\n",
       "        vertical-align: middle;\n",
       "    }\n",
       "\n",
       "    .dataframe tbody tr th {\n",
       "        vertical-align: top;\n",
       "    }\n",
       "\n",
       "    .dataframe thead th {\n",
       "        text-align: right;\n",
       "    }\n",
       "</style>\n",
       "<table border=\"1\" class=\"dataframe\">\n",
       "  <thead>\n",
       "    <tr style=\"text-align: right;\">\n",
       "      <th></th>\n",
       "      <th>id</th>\n",
       "      <th>cuisine</th>\n",
       "      <th>ingredients</th>\n",
       "    </tr>\n",
       "  </thead>\n",
       "  <tbody>\n",
       "    <tr>\n",
       "      <th>0</th>\n",
       "      <td>10259</td>\n",
       "      <td>greek</td>\n",
       "      <td>[romaine lettuce, black olives, grape tomatoes...</td>\n",
       "    </tr>\n",
       "    <tr>\n",
       "      <th>1</th>\n",
       "      <td>25693</td>\n",
       "      <td>southern_us</td>\n",
       "      <td>[plain flour, ground pepper, salt, tomatoes, g...</td>\n",
       "    </tr>\n",
       "  </tbody>\n",
       "</table>\n",
       "</div>"
      ],
      "text/plain": [
       "      id      cuisine                                        ingredients\n",
       "0  10259        greek  [romaine lettuce, black olives, grape tomatoes...\n",
       "1  25693  southern_us  [plain flour, ground pepper, salt, tomatoes, g..."
      ]
     },
     "execution_count": 5,
     "metadata": {},
     "output_type": "execute_result"
    }
   ],
   "source": [
    "df = pd.read_json(r\"C:\\Users\\shuve\\Desktop\\Prep_fr_Bst\\Data Science Role\\Machine Learning\\Data Gathering\\Working with JSON and SQL file\\train.json\")\n",
    "df.head(2)"
   ]
  },
  {
   "cell_type": "markdown",
   "id": "032d9dee",
   "metadata": {},
   "source": [
    "## From URL"
   ]
  },
  {
   "cell_type": "code",
   "execution_count": 13,
   "id": "a0558a61",
   "metadata": {},
   "outputs": [
    {
     "data": {
      "text/html": [
       "<div>\n",
       "<style scoped>\n",
       "    .dataframe tbody tr th:only-of-type {\n",
       "        vertical-align: middle;\n",
       "    }\n",
       "\n",
       "    .dataframe tbody tr th {\n",
       "        vertical-align: top;\n",
       "    }\n",
       "\n",
       "    .dataframe thead th {\n",
       "        text-align: right;\n",
       "    }\n",
       "</style>\n",
       "<table border=\"1\" class=\"dataframe\">\n",
       "  <thead>\n",
       "    <tr style=\"text-align: right;\">\n",
       "      <th></th>\n",
       "      <th>name</th>\n",
       "      <th>language</th>\n",
       "      <th>id</th>\n",
       "      <th>bio</th>\n",
       "      <th>version</th>\n",
       "    </tr>\n",
       "  </thead>\n",
       "  <tbody>\n",
       "    <tr>\n",
       "      <th>0</th>\n",
       "      <td>Adeel Solangi</td>\n",
       "      <td>Sindhi</td>\n",
       "      <td>V59OF92YF627HFY0</td>\n",
       "      <td>Donec lobortis eleifend condimentum. Cras dict...</td>\n",
       "      <td>6.10</td>\n",
       "    </tr>\n",
       "    <tr>\n",
       "      <th>1</th>\n",
       "      <td>Afzal Ghaffar</td>\n",
       "      <td>Sindhi</td>\n",
       "      <td>ENTOCR13RSCLZ6KU</td>\n",
       "      <td>Aliquam sollicitudin ante ligula, eget malesua...</td>\n",
       "      <td>1.88</td>\n",
       "    </tr>\n",
       "  </tbody>\n",
       "</table>\n",
       "</div>"
      ],
      "text/plain": [
       "            name language                id  \\\n",
       "0  Adeel Solangi   Sindhi  V59OF92YF627HFY0   \n",
       "1  Afzal Ghaffar   Sindhi  ENTOCR13RSCLZ6KU   \n",
       "\n",
       "                                                 bio  version  \n",
       "0  Donec lobortis eleifend condimentum. Cras dict...     6.10  \n",
       "1  Aliquam sollicitudin ante ligula, eget malesua...     1.88  "
      ]
     },
     "execution_count": 13,
     "metadata": {},
     "output_type": "execute_result"
    }
   ],
   "source": [
    "df2 = pd.read_json('https://microsoftedge.github.io/Demos/json-dummy-data/64KB.json')\n",
    "df2.head(2)"
   ]
  },
  {
   "cell_type": "markdown",
   "id": "2e753ea4",
   "metadata": {},
   "source": [
    "# Working with `SQL`"
   ]
  },
  {
   "cell_type": "code",
   "execution_count": 17,
   "id": "5d50b7d5",
   "metadata": {},
   "outputs": [
    {
     "name": "stdout",
     "output_type": "stream",
     "text": [
      "Defaulting to user installation because normal site-packages is not writeable\n",
      "Collecting mysql.connector\n",
      "  Downloading mysql-connector-2.2.9.tar.gz (11.9 MB)\n",
      "     ---------------------------------------- 0.0/11.9 MB ? eta -:--:--\n",
      "     ---------------------------------------- 0.0/11.9 MB ? eta -:--:--\n",
      "     --------------------------------------- 0.0/11.9 MB 435.7 kB/s eta 0:00:28\n",
      "     --------------------------------------- 0.1/11.9 MB 939.4 kB/s eta 0:00:13\n",
      "      --------------------------------------- 0.2/11.9 MB 1.5 MB/s eta 0:00:08\n",
      "     - -------------------------------------- 0.5/11.9 MB 2.4 MB/s eta 0:00:05\n",
      "     --- ------------------------------------ 1.0/11.9 MB 4.1 MB/s eta 0:00:03\n",
      "     ---- ----------------------------------- 1.2/11.9 MB 4.0 MB/s eta 0:00:03\n",
      "     ------ --------------------------------- 1.8/11.9 MB 5.3 MB/s eta 0:00:02\n",
      "     ------ --------------------------------- 2.0/11.9 MB 5.6 MB/s eta 0:00:02\n",
      "     -------- ------------------------------- 2.5/11.9 MB 5.8 MB/s eta 0:00:02\n",
      "     ---------- ----------------------------- 3.1/11.9 MB 6.6 MB/s eta 0:00:02\n",
      "     ---------- ----------------------------- 3.3/11.9 MB 6.1 MB/s eta 0:00:02\n",
      "     ------------- -------------------------- 3.9/11.9 MB 6.8 MB/s eta 0:00:02\n",
      "     -------------- ------------------------- 4.3/11.9 MB 7.2 MB/s eta 0:00:02\n",
      "     --------------- ------------------------ 4.6/11.9 MB 6.9 MB/s eta 0:00:02\n",
      "     ----------------- ---------------------- 5.3/11.9 MB 7.4 MB/s eta 0:00:01\n",
      "     ------------------ --------------------- 5.4/11.9 MB 7.5 MB/s eta 0:00:01\n",
      "     -------------------- ------------------- 6.0/11.9 MB 7.4 MB/s eta 0:00:01\n",
      "     --------------------- ------------------ 6.3/11.9 MB 7.4 MB/s eta 0:00:01\n",
      "     --------------------- ------------------ 6.3/11.9 MB 7.4 MB/s eta 0:00:01\n",
      "     --------------------- ------------------ 6.3/11.9 MB 6.7 MB/s eta 0:00:01\n",
      "     --------------------- ------------------ 6.3/11.9 MB 6.7 MB/s eta 0:00:01\n",
      "     ------------------------- -------------- 7.6/11.9 MB 7.2 MB/s eta 0:00:01\n",
      "     -------------------------- ------------- 7.8/11.9 MB 7.4 MB/s eta 0:00:01\n",
      "     --------------------------- ------------ 8.1/11.9 MB 7.1 MB/s eta 0:00:01\n",
      "     ----------------------------- ---------- 8.7/11.9 MB 7.3 MB/s eta 0:00:01\n",
      "     ------------------------------ --------- 8.9/11.9 MB 7.3 MB/s eta 0:00:01\n",
      "     -------------------------------- ------- 9.5/11.9 MB 7.4 MB/s eta 0:00:01\n",
      "     -------------------------------- ------- 9.7/11.9 MB 7.5 MB/s eta 0:00:01\n",
      "     ---------------------------------- ----- 10.2/11.9 MB 7.4 MB/s eta 0:00:01\n",
      "     ----------------------------------- ---- 10.6/11.9 MB 8.2 MB/s eta 0:00:01\n",
      "     ------------------------------------- -- 11.2/11.9 MB 8.3 MB/s eta 0:00:01\n",
      "     -------------------------------------- - 11.5/11.9 MB 8.5 MB/s eta 0:00:01\n",
      "     ---------------------------------------  11.8/11.9 MB 8.5 MB/s eta 0:00:01\n",
      "     ---------------------------------------  11.8/11.9 MB 8.5 MB/s eta 0:00:01\n",
      "     ---------------------------------------  11.8/11.9 MB 8.5 MB/s eta 0:00:01\n",
      "     ---------------------------------------  11.8/11.9 MB 8.5 MB/s eta 0:00:01\n",
      "     ---------------------------------------  11.8/11.9 MB 8.5 MB/s eta 0:00:01\n",
      "     ---------------------------------------  11.8/11.9 MB 8.5 MB/s eta 0:00:01\n",
      "     ---------------------------------------  11.8/11.9 MB 8.5 MB/s eta 0:00:01\n",
      "     ---------------------------------------  11.8/11.9 MB 8.5 MB/s eta 0:00:01\n",
      "     ---------------------------------------  11.8/11.9 MB 8.5 MB/s eta 0:00:01\n",
      "     ---------------------------------------  11.8/11.9 MB 8.5 MB/s eta 0:00:01\n",
      "     ---------------------------------------  11.8/11.9 MB 8.5 MB/s eta 0:00:01\n",
      "     ---------------------------------------  11.8/11.9 MB 8.5 MB/s eta 0:00:01\n",
      "     ---------------------------------------  11.8/11.9 MB 8.5 MB/s eta 0:00:01\n",
      "     ---------------------------------------  11.8/11.9 MB 8.5 MB/s eta 0:00:01\n",
      "     ---------------------------------------  11.8/11.9 MB 8.5 MB/s eta 0:00:01\n",
      "     ---------------------------------------  11.8/11.9 MB 8.5 MB/s eta 0:00:01\n",
      "     ---------------------------------------  11.8/11.9 MB 8.5 MB/s eta 0:00:01\n",
      "     ---------------------------------------  11.8/11.9 MB 8.5 MB/s eta 0:00:01\n",
      "     ---------------------------------------  11.8/11.9 MB 8.5 MB/s eta 0:00:01\n",
      "     ---------------------------------------  11.8/11.9 MB 8.5 MB/s eta 0:00:01\n",
      "     ---------------------------------------  11.8/11.9 MB 8.5 MB/s eta 0:00:01\n",
      "     ---------------------------------------  11.8/11.9 MB 8.5 MB/s eta 0:00:01\n",
      "     ---------------------------------------  11.8/11.9 MB 8.5 MB/s eta 0:00:01\n",
      "     ---------------------------------------  11.8/11.9 MB 8.5 MB/s eta 0:00:01\n",
      "     ---------------------------------------  11.8/11.9 MB 8.5 MB/s eta 0:00:01\n",
      "     ---------------------------------------  11.8/11.9 MB 8.5 MB/s eta 0:00:01\n",
      "     ---------------------------------------  11.8/11.9 MB 8.5 MB/s eta 0:00:01\n",
      "     ---------------------------------------- 11.9/11.9 MB 3.9 MB/s eta 0:00:00\n",
      "  Preparing metadata (setup.py): started\n",
      "  Preparing metadata (setup.py): finished with status 'done'\n",
      "Building wheels for collected packages: mysql.connector\n",
      "  Building wheel for mysql.connector (setup.py): started\n",
      "  Building wheel for mysql.connector (setup.py): finished with status 'done'\n",
      "  Created wheel for mysql.connector: filename=mysql_connector-2.2.9-cp311-cp311-win_amd64.whl size=247958 sha256=77a744c8ca338301aed9fd198155b1299fad3a5762f0bb7f977c6faee83e0de8\n",
      "  Stored in directory: c:\\users\\shuve\\appdata\\local\\pip\\cache\\wheels\\17\\cd\\ed\\2d49e9bac69cf09382e4c7cc20a2511202b48324b87db26019\n",
      "Successfully built mysql.connector\n",
      "Installing collected packages: mysql.connector\n",
      "Successfully installed mysql.connector-2.2.9\n"
     ]
    }
   ],
   "source": [
    "! pip install mysql.connector"
   ]
  },
  {
   "cell_type": "code",
   "execution_count": 18,
   "id": "9dfaf7a7",
   "metadata": {},
   "outputs": [],
   "source": [
    "import mysql.connector"
   ]
  },
  {
   "cell_type": "code",
   "execution_count": 22,
   "id": "eabbd7e3",
   "metadata": {},
   "outputs": [],
   "source": [
    "# mysql.connector.connect()\n",
    "#host = 'localhost' or 'ip address'\n",
    "#user = 'root'\n",
    "#password = ''\n",
    "#database = 'world'"
   ]
  },
  {
   "cell_type": "code",
   "execution_count": 21,
   "id": "be52fdc7",
   "metadata": {},
   "outputs": [],
   "source": [
    "# save the connection object\n",
    "# conn"
   ]
  },
  {
   "cell_type": "code",
   "execution_count": 20,
   "id": "d5b9bc32",
   "metadata": {},
   "outputs": [],
   "source": [
    "# df = pd.read_sql_query(\"SELECT * FROM CITY WHERE COUNTRYCODE = 'INDIA' and LIFEEXPECTENCY > 60\",conn)"
   ]
  }
 ],
 "metadata": {
  "kernelspec": {
   "display_name": "Python 3 (ipykernel)",
   "language": "python",
   "name": "python3"
  },
  "language_info": {
   "codemirror_mode": {
    "name": "ipython",
    "version": 3
   },
   "file_extension": ".py",
   "mimetype": "text/x-python",
   "name": "python",
   "nbconvert_exporter": "python",
   "pygments_lexer": "ipython3",
   "version": "3.11.5"
  }
 },
 "nbformat": 4,
 "nbformat_minor": 5
}

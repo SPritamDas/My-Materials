{
 "cells": [
  {
   "cell_type": "markdown",
   "id": "2bb60f5e",
   "metadata": {},
   "source": [
    "# Webscrapping\n",
    "~Shuvendu Pritam Das"
   ]
  },
  {
   "cell_type": "code",
   "execution_count": 1,
   "id": "071dacb3",
   "metadata": {},
   "outputs": [],
   "source": [
    "import pandas as pd\n",
    "import requests\n",
    "from bs4 import BeautifulSoup"
   ]
  },
  {
   "cell_type": "code",
   "execution_count": 2,
   "id": "dc4ad7b8",
   "metadata": {},
   "outputs": [
    {
     "data": {
      "text/plain": [
       "<Response [403]>"
      ]
     },
     "execution_count": 2,
     "metadata": {},
     "output_type": "execute_result"
    }
   ],
   "source": [
    "requests.get(\"https://www.ambitionbox.com/list-of-companies?campaign=desktop_nav&page=1\")"
   ]
  },
  {
   "cell_type": "code",
   "execution_count": 3,
   "id": "7b7ff69e",
   "metadata": {
    "scrolled": false
   },
   "outputs": [
    {
     "data": {
      "text/plain": [
       "'<HTML><HEAD>\\n<TITLE>Access Denied</TITLE>\\n</HEAD><BODY>\\n<H1>Access Denied</H1>\\n \\nYou don\\'t have permission to access \"http&#58;&#47;&#47;www&#46;ambitionbox&#46;com&#47;list&#45;of&#45;companies&#63;\" on this server.<P>\\nReference&#32;&#35;18&#46;334c3917&#46;1724275850&#46;7aa20fa8\\n<P>https&#58;&#47;&#47;errors&#46;edgesuite&#46;net&#47;18&#46;334c3917&#46;1724275850&#46;7aa20fa8</P>\\n</BODY>\\n</HTML>\\n'"
      ]
     },
     "execution_count": 3,
     "metadata": {},
     "output_type": "execute_result"
    }
   ],
   "source": [
    "response = requests.get(\"https://www.ambitionbox.com/list-of-companies?campaign=desktop_nav&page=1\")\n",
    "response.text"
   ]
  },
  {
   "cell_type": "markdown",
   "id": "b1afffaf",
   "metadata": {},
   "source": [
    "We are going to do something such that the web will feel the data is requested by the site not by the bot."
   ]
  },
  {
   "cell_type": "code",
   "execution_count": 4,
   "id": "17b697c9",
   "metadata": {},
   "outputs": [],
   "source": [
    "# headers = {\"User-Agent\": 'Mozilla/5.0 (Windows NT 10.0; Win64; x64) AppleWebKit/537.36 (KHTML, like Gecko) Chrome/94.0.4606.81 Safari/537.36'}\n",
    "# webpage = requests.get(\"https://www.ambitionbox.com/list-of-companies?campaign=desktop_nav&page=3\",headers = headers)"
   ]
  },
  {
   "cell_type": "code",
   "execution_count": null,
   "id": "64632858",
   "metadata": {},
   "outputs": [],
   "source": [
    "headers = {\"User-Agent\": 'Mozilla/5.0 (Windows NT 10.0; Win64; x64) AppleWebKit/537.36 (KHTML, like Gecko) Chrome/94.0.4606.81 Safari/537.36'}\n",
    "webpage_olx = requests.get(\"https://www.olx.in/en-in/cars_c84\",headers = headers)"
   ]
  },
  {
   "cell_type": "code",
   "execution_count": null,
   "id": "0ad6555d",
   "metadata": {},
   "outputs": [],
   "source": [
    "webpage_olx"
   ]
  }
 ],
 "metadata": {
  "kernelspec": {
   "display_name": "Python 3 (ipykernel)",
   "language": "python",
   "name": "python3"
  },
  "language_info": {
   "codemirror_mode": {
    "name": "ipython",
    "version": 3
   },
   "file_extension": ".py",
   "mimetype": "text/x-python",
   "name": "python",
   "nbconvert_exporter": "python",
   "pygments_lexer": "ipython3",
   "version": "3.11.5"
  }
 },
 "nbformat": 4,
 "nbformat_minor": 5
}

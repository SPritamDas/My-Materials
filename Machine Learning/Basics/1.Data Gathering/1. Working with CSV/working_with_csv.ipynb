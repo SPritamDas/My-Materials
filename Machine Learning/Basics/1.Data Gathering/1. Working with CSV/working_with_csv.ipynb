{
 "cells": [
  {
   "cell_type": "markdown",
   "id": "5cd8704a",
   "metadata": {},
   "source": [
    "Imporing `.csv` file and handling different issues.\n",
    "~ Shuvendu Pritam Das"
   ]
  },
  {
   "cell_type": "code",
   "execution_count": 1,
   "id": "8b218504",
   "metadata": {},
   "outputs": [],
   "source": [
    "import pandas as pd"
   ]
  },
  {
   "cell_type": "markdown",
   "id": "0d248fb9",
   "metadata": {},
   "source": [
    "## Opening from Local System"
   ]
  },
  {
   "cell_type": "code",
   "execution_count": 2,
   "id": "15bb93db",
   "metadata": {},
   "outputs": [],
   "source": [
    "# df = pd.read_csv(\"\") # default separation is ','"
   ]
  },
  {
   "cell_type": "markdown",
   "id": "d13b9782",
   "metadata": {},
   "source": [
    "## From an URL"
   ]
  },
  {
   "cell_type": "code",
   "execution_count": 3,
   "id": "ebc8785b",
   "metadata": {},
   "outputs": [
    {
     "name": "stdout",
     "output_type": "stream",
     "text": [
      "   id  location_id              address_1 address_2          city  \\\n",
      "0   1            1  2600 Middlefield Road       NaN  Redwood City   \n",
      "1   2            2       24 Second Avenue       NaN     San Mateo   \n",
      "\n",
      "  state_province postal_code country  \n",
      "0             CA       94063      US  \n",
      "1             CA       94401      US  \n"
     ]
    }
   ],
   "source": [
    "import requests\n",
    "from io import StringIO\n",
    "##raw data url from github\n",
    "url = \"https://raw.githubusercontent.com/codeforamerica/ohana-api/master/data/sample-csv/addresses.csv\"\n",
    "headers = {\"User-Agent\": \"Mozilla/5.0 (Macintosh; Intel Mac OS X 10.14; rv:66.0) Gecko/20100101 Firefox/66.0\"}\n",
    "req = requests.get(url, headers=headers)\n",
    "data = StringIO(req.text)\n",
    "\n",
    "df = pd.read_csv(data) # default separation is ','\n",
    "print(df.head(2))"
   ]
  },
  {
   "cell_type": "markdown",
   "id": "0a40ea9e",
   "metadata": {},
   "source": [
    "## Sep Parameter for .tsv file"
   ]
  },
  {
   "cell_type": "code",
   "execution_count": 4,
   "id": "97b21112",
   "metadata": {},
   "outputs": [
    {
     "name": "stdout",
     "output_type": "stream",
     "text": [
      "  Some parameter  Other parameter  Last parameter\n",
      "0          CONST           123456           12.45\n"
     ]
    }
   ],
   "source": [
    "import requests\n",
    "from io import StringIO\n",
    "##raw data url from github\n",
    "url = \"https://gist.githubusercontent.com/cdroulers/1a919d7f9ce701a716b0/raw/77dbd5e7e3db7017ae64e3f420e53f7e8b90aca1/Sample.tsv\"\n",
    "headers = {\"User-Agent\": \"Mozilla/5.0 (Macintosh; Intel Mac OS X 10.14; rv:66.0) Gecko/20100101 Firefox/66.0\"}\n",
    "req = requests.get(url, headers=headers)\n",
    "data = StringIO(req.text)\n",
    "\n",
    "df = pd.read_csv(data,sep = '\\t') ## '\\t' for tab separation\n",
    "print(df.head(2))"
   ]
  },
  {
   "cell_type": "markdown",
   "id": "962f2e18",
   "metadata": {},
   "source": [
    "## names parameter"
   ]
  },
  {
   "cell_type": "markdown",
   "id": "2d36873a",
   "metadata": {},
   "source": [
    "If feature name is not there, then use use this parameter for naming the columns."
   ]
  },
  {
   "cell_type": "code",
   "execution_count": 5,
   "id": "2584af47",
   "metadata": {},
   "outputs": [
    {
     "name": "stdout",
     "output_type": "stream",
     "text": [
      "   A12    Alok  23  92  92.1\n",
      "0  A14   Jiten  22  91  63.0\n",
      "1  A14    Amol  21  93  87.0\n",
      "2  A16   Anmol  22  89  68.0\n",
      "3  A17   Arman  23  82  91.0\n",
      "4  A18  Ashish  22  93  83.0\n",
      "5  A19    Alok  22  93   NaN \n",
      "     Id    Name  Age  Mark  Attendance\n",
      "0  A14   Jiten   22    91        63.0\n",
      "1  A14    Amol   21    93        87.0\n",
      "2  A16   Anmol   22    89        68.0\n",
      "3  A17   Arman   23    82        91.0\n",
      "4  A18  Ashish   22    93        83.0\n",
      "5  A19    Alok   22    93         NaN\n"
     ]
    }
   ],
   "source": [
    "df = pd.read_excel(r\"C:\\Users\\shuve\\Desktop\\Prep_fr_Bst\\Data Science Role\\Machine Learning\\Data Gathering\\Working with CSV\\no_header.xlsx\")\n",
    "df2 = pd.read_excel(r\"C:\\Users\\shuve\\Desktop\\Prep_fr_Bst\\Data Science Role\\Machine Learning\\Data Gathering\\Working with CSV\\no_header.xlsx\",names=[\"Id\",\"Name\",\"Age\",\"Mark\",\"Attendance\"])\n",
    "print(df,'\\n',df2)"
   ]
  },
  {
   "cell_type": "markdown",
   "id": "9ca60cc2",
   "metadata": {},
   "source": [
    "## Index_col parameter"
   ]
  },
  {
   "cell_type": "code",
   "execution_count": 6,
   "id": "8a43bab4",
   "metadata": {
    "scrolled": true
   },
   "outputs": [
    {
     "name": "stdout",
     "output_type": "stream",
     "text": [
      "   A12    Alok  23  92  92.1\n",
      "0  A14   Jiten  22  91  63.0\n",
      "1  A14    Amol  21  93  87.0\n",
      "2  A16   Anmol  22  89  68.0\n",
      "3  A17   Arman  23  82  91.0\n",
      "4  A18  Ashish  22  93  83.0\n",
      "5  A19    Alok  22  93   NaN \n",
      "     Id    Name  Age  Mark  Attendance\n",
      "0  A14   Jiten   22    91        63.0\n",
      "1  A14    Amol   21    93        87.0\n",
      "2  A16   Anmol   22    89        68.0\n",
      "3  A17   Arman   23    82        91.0\n",
      "4  A18  Ashish   22    93        83.0\n",
      "5  A19    Alok   22    93         NaN \n",
      "        Name  Age  Mark  Attendance\n",
      "Id                                \n",
      "A14   Jiten   22    91        63.0\n",
      "A14    Amol   21    93        87.0\n",
      "A16   Anmol   22    89        68.0\n",
      "A17   Arman   23    82        91.0\n",
      "A18  Ashish   22    93        83.0\n",
      "A19    Alok   22    93         NaN\n"
     ]
    }
   ],
   "source": [
    "df3 = pd.read_excel(r\"C:\\Users\\shuve\\Desktop\\Prep_fr_Bst\\Data Science Role\\Machine Learning\\Data Gathering\\Working with CSV\\no_header.xlsx\",names=[\"Id\",\"Name\",\"Age\",\"Mark\",\"Attendance\"],index_col=\"Id\")\n",
    "print(df,'\\n',df2,'\\n',df3)"
   ]
  },
  {
   "cell_type": "markdown",
   "id": "990d009b",
   "metadata": {},
   "source": [
    "## Header Parameter"
   ]
  },
  {
   "cell_type": "code",
   "execution_count": 7,
   "id": "d8118ee4",
   "metadata": {
    "scrolled": true
   },
   "outputs": [
    {
     "name": "stdout",
     "output_type": "stream",
     "text": [
      "   0   Id   Name  Class  Score\n",
      "0  1  A12   Amul      8     91\n",
      "1  2  A13   Amul      7     98\n",
      "2  3  A14  Anand      6     98\n",
      "3  4  A15   Aman      5     99\n",
      "4  5  A16  Arman      5    100 \n",
      "     Id   Name  Class  Score\n",
      "0                          \n",
      "1  A12   Amul      8     91\n",
      "2  A13   Amul      7     98\n",
      "3  A14  Anand      6     98\n",
      "4  A15   Aman      5     99\n",
      "5  A16  Arman      5    100\n"
     ]
    }
   ],
   "source": [
    "df4 = pd.read_excel(r\"C:\\Users\\shuve\\Desktop\\Prep_fr_Bst\\Data Science Role\\Machine Learning\\Data Gathering\\Working with CSV\\HEADER AS ROW.xlsx\")\n",
    "df5 = pd.read_excel(r\"C:\\Users\\shuve\\Desktop\\Prep_fr_Bst\\Data Science Role\\Machine Learning\\Data Gathering\\Working with CSV\\HEADER AS ROW.xlsx\",header = 0, index_col= 0)\n",
    "print(df4,'\\n',df5)"
   ]
  },
  {
   "cell_type": "markdown",
   "id": "c261dc21",
   "metadata": {},
   "source": [
    "## use_cols parameter"
   ]
  },
  {
   "cell_type": "code",
   "execution_count": 8,
   "id": "029458f9",
   "metadata": {
    "scrolled": true
   },
   "outputs": [
    {
     "name": "stdout",
     "output_type": "stream",
     "text": [
      "   0   Id   Name  Class  Score\n",
      "0  1  A12   Amul      8     91\n",
      "1  2  A13   Amul      7     98\n",
      "2  3  A14  Anand      6     98\n",
      "3  4  A15   Aman      5     99\n",
      "4  5  A16  Arman      5    100 \n",
      "     Id  Class  Score\n",
      "0  A12      8     91\n",
      "1  A13      7     98\n",
      "2  A14      6     98\n",
      "3  A15      5     99\n",
      "4  A16      5    100\n"
     ]
    }
   ],
   "source": [
    "df6 = pd.read_excel(r\"C:\\Users\\shuve\\Desktop\\Prep_fr_Bst\\Data Science Role\\Machine Learning\\Data Gathering\\Working with CSV\\HEADER AS ROW.xlsx\",usecols= ['Id','Class','Score'])\n",
    "print(df4,'\\n',df6)"
   ]
  },
  {
   "cell_type": "markdown",
   "id": "2fd71cdf",
   "metadata": {},
   "source": [
    "## Squeeze parameter"
   ]
  },
  {
   "cell_type": "markdown",
   "id": "130660de",
   "metadata": {},
   "source": [
    "It makes `series` instead of `data frame` when we need single column only."
   ]
  },
  {
   "cell_type": "code",
   "execution_count": null,
   "id": "df2d56c6",
   "metadata": {},
   "outputs": [],
   "source": []
  },
  {
   "cell_type": "markdown",
   "id": "1abc8a6e",
   "metadata": {},
   "source": [
    "## Skiprows/nrows Parameter"
   ]
  },
  {
   "cell_type": "code",
   "execution_count": 9,
   "id": "cfc4349a",
   "metadata": {
    "scrolled": true
   },
   "outputs": [
    {
     "data": {
      "text/html": [
       "<div>\n",
       "<style scoped>\n",
       "    .dataframe tbody tr th:only-of-type {\n",
       "        vertical-align: middle;\n",
       "    }\n",
       "\n",
       "    .dataframe tbody tr th {\n",
       "        vertical-align: top;\n",
       "    }\n",
       "\n",
       "    .dataframe thead th {\n",
       "        text-align: right;\n",
       "    }\n",
       "</style>\n",
       "<table border=\"1\" class=\"dataframe\">\n",
       "  <thead>\n",
       "    <tr style=\"text-align: right;\">\n",
       "      <th></th>\n",
       "      <th>Id</th>\n",
       "      <th>Score</th>\n",
       "    </tr>\n",
       "  </thead>\n",
       "  <tbody>\n",
       "    <tr>\n",
       "      <th>0</th>\n",
       "      <td>A13</td>\n",
       "      <td>98</td>\n",
       "    </tr>\n",
       "    <tr>\n",
       "      <th>1</th>\n",
       "      <td>A15</td>\n",
       "      <td>99</td>\n",
       "    </tr>\n",
       "    <tr>\n",
       "      <th>2</th>\n",
       "      <td>A16</td>\n",
       "      <td>100</td>\n",
       "    </tr>\n",
       "  </tbody>\n",
       "</table>\n",
       "</div>"
      ],
      "text/plain": [
       "    Id  Score\n",
       "0  A13     98\n",
       "1  A15     99\n",
       "2  A16    100"
      ]
     },
     "execution_count": 9,
     "metadata": {},
     "output_type": "execute_result"
    }
   ],
   "source": [
    "df7 = pd.read_excel(r\"C:\\Users\\shuve\\Desktop\\Prep_fr_Bst\\Data Science Role\\Machine Learning\\Data Gathering\\Working with CSV\\HEADER AS ROW.xlsx\",usecols=['Id','Score'],skiprows=[1,3])\n",
    "df7"
   ]
  },
  {
   "cell_type": "code",
   "execution_count": 10,
   "id": "a1c3fc70",
   "metadata": {
    "scrolled": true
   },
   "outputs": [
    {
     "data": {
      "text/html": [
       "<div>\n",
       "<style scoped>\n",
       "    .dataframe tbody tr th:only-of-type {\n",
       "        vertical-align: middle;\n",
       "    }\n",
       "\n",
       "    .dataframe tbody tr th {\n",
       "        vertical-align: top;\n",
       "    }\n",
       "\n",
       "    .dataframe thead th {\n",
       "        text-align: right;\n",
       "    }\n",
       "</style>\n",
       "<table border=\"1\" class=\"dataframe\">\n",
       "  <thead>\n",
       "    <tr style=\"text-align: right;\">\n",
       "      <th></th>\n",
       "      <th>Id</th>\n",
       "      <th>Score</th>\n",
       "    </tr>\n",
       "  </thead>\n",
       "  <tbody>\n",
       "    <tr>\n",
       "      <th>0</th>\n",
       "      <td>A12</td>\n",
       "      <td>91</td>\n",
       "    </tr>\n",
       "    <tr>\n",
       "      <th>1</th>\n",
       "      <td>A13</td>\n",
       "      <td>98</td>\n",
       "    </tr>\n",
       "    <tr>\n",
       "      <th>2</th>\n",
       "      <td>A14</td>\n",
       "      <td>98</td>\n",
       "    </tr>\n",
       "  </tbody>\n",
       "</table>\n",
       "</div>"
      ],
      "text/plain": [
       "    Id  Score\n",
       "0  A12     91\n",
       "1  A13     98\n",
       "2  A14     98"
      ]
     },
     "execution_count": 10,
     "metadata": {},
     "output_type": "execute_result"
    }
   ],
   "source": [
    "df8 = pd.read_excel(r\"C:\\Users\\shuve\\Desktop\\Prep_fr_Bst\\Data Science Role\\Machine Learning\\Data Gathering\\Working with CSV\\HEADER AS ROW.xlsx\",usecols=['Id','Score'],nrows= 3)\n",
    "df8"
   ]
  },
  {
   "cell_type": "markdown",
   "id": "60ffa532",
   "metadata": {},
   "source": [
    "## Encoding Parameter"
   ]
  },
  {
   "cell_type": "markdown",
   "id": "5089b4b0",
   "metadata": {},
   "source": [
    "Default encoding =  utf8\n",
    "But some data sets(emoji, language) are not. \n",
    "For those\n",
    "1. Either change encoding by going to sublime\n",
    "2. Use encoding parameter = "
   ]
  },
  {
   "cell_type": "code",
   "execution_count": 11,
   "id": "6bf9a613",
   "metadata": {},
   "outputs": [],
   "source": [
    "# df9 = pd.read_csv(\"\",encoding=\"\")"
   ]
  },
  {
   "cell_type": "markdown",
   "id": "f73df4fe",
   "metadata": {},
   "source": [
    "## Skip Bad Lines"
   ]
  },
  {
   "cell_type": "markdown",
   "id": "40828fcb",
   "metadata": {},
   "source": [
    "Some rows have more values than others. To skip those. Use these"
   ]
  },
  {
   "cell_type": "code",
   "execution_count": 12,
   "id": "0acd4392",
   "metadata": {},
   "outputs": [],
   "source": [
    "# df10 = pd.read_csv(\"\",error_bad_lines = False) "
   ]
  },
  {
   "cell_type": "markdown",
   "id": "334a9aa0",
   "metadata": {},
   "source": [
    "## dtypes papameter"
   ]
  },
  {
   "cell_type": "markdown",
   "id": "1e1a37a5",
   "metadata": {},
   "source": [
    "When read_csv sees the data, it finds the data type of each columns by its own. Some time we should over write it for less mempry use."
   ]
  },
  {
   "cell_type": "code",
   "execution_count": 13,
   "id": "dcbf74e3",
   "metadata": {},
   "outputs": [],
   "source": [
    "# df11 = pd.read_csv(\"\",dtype = {'column_name': Int}) "
   ]
  },
  {
   "cell_type": "markdown",
   "id": "86a610e5",
   "metadata": {},
   "source": [
    "## Handling Date `parse_dates`"
   ]
  },
  {
   "cell_type": "code",
   "execution_count": 14,
   "id": "843d9768",
   "metadata": {},
   "outputs": [
    {
     "name": "stdout",
     "output_type": "stream",
     "text": [
      "        Date Name  Score\n",
      "0 2022-10-22    A   10.0\n",
      "1 2022-11-01    B   11.0\n",
      "2 2024-10-23    C   10.0\n",
      "3 1990-12-25    D    9.0\n",
      "4 1990-11-27  M,P    NaN\n",
      "5 1990-11-23    R    NaN\n",
      "        Date Name  Score\n",
      "0 2022-10-22    A     10\n",
      "1 2022-11-01    B     11\n",
      "2 2024-10-23    C     10\n",
      "3 1990-12-25    D      9\n",
      "<class 'pandas.core.frame.DataFrame'>\n",
      "RangeIndex: 4 entries, 0 to 3\n",
      "Data columns (total 3 columns):\n",
      " #   Column  Non-Null Count  Dtype         \n",
      "---  ------  --------------  -----         \n",
      " 0   Date    4 non-null      datetime64[ns]\n",
      " 1   Name    4 non-null      object        \n",
      " 2   Score   4 non-null      int64         \n",
      "dtypes: datetime64[ns](1), int64(1), object(1)\n",
      "memory usage: 228.0+ bytes\n",
      "None\n",
      "        Date Name  Score\n",
      "0 2022-10-22    A     10\n",
      "1 2022-11-01    B     11\n",
      "2 2024-10-23    C     10\n",
      "3 1990-12-25    D      9\n",
      "<class 'pandas.core.frame.DataFrame'>\n",
      "RangeIndex: 4 entries, 0 to 3\n",
      "Data columns (total 3 columns):\n",
      " #   Column  Non-Null Count  Dtype         \n",
      "---  ------  --------------  -----         \n",
      " 0   Date    4 non-null      datetime64[ns]\n",
      " 1   Name    4 non-null      object        \n",
      " 2   Score   4 non-null      int32         \n",
      "dtypes: datetime64[ns](1), int32(1), object(1)\n",
      "memory usage: 212.0+ bytes\n",
      "None\n"
     ]
    }
   ],
   "source": [
    "df12 = pd.read_excel(r\"C:\\Users\\shuve\\Desktop\\Prep_fr_Bst\\Data Science Role\\Machine Learning\\Data Gathering\\Working with CSV\\BAD LINES AND DATE.xlsx\")\n",
    "print(df12)\n",
    "# I need to skip last 2\n",
    "df13 = pd.read_excel(r\"C:\\Users\\shuve\\Desktop\\Prep_fr_Bst\\Data Science Role\\Machine Learning\\Data Gathering\\Working with CSV\\BAD LINES AND DATE.xlsx\", skiprows=[5,6])\n",
    "print(df13)\n",
    "print(df13.info())\n",
    "# I need to covert score type to int\n",
    "df14 = pd.read_excel(r\"C:\\Users\\shuve\\Desktop\\Prep_fr_Bst\\Data Science Role\\Machine Learning\\Data Gathering\\Working with CSV\\BAD LINES AND DATE.xlsx\", skiprows=[5,6], dtype={'Score': int})\n",
    "print(df14)\n",
    "print(df14.info())"
   ]
  },
  {
   "cell_type": "markdown",
   "id": "425b05e9",
   "metadata": {},
   "source": [
    "Here date is of datetime type.It may be of string type so better to use "
   ]
  },
  {
   "cell_type": "code",
   "execution_count": 15,
   "id": "da6615c3",
   "metadata": {
    "scrolled": true
   },
   "outputs": [
    {
     "name": "stdout",
     "output_type": "stream",
     "text": [
      "        Date Name  Score\n",
      "0 2022-10-22    A     10\n",
      "1 2022-11-01    B     11\n",
      "2 2024-10-23    C     10\n",
      "3 1990-12-25    D      9\n",
      "<class 'pandas.core.frame.DataFrame'>\n",
      "RangeIndex: 4 entries, 0 to 3\n",
      "Data columns (total 3 columns):\n",
      " #   Column  Non-Null Count  Dtype         \n",
      "---  ------  --------------  -----         \n",
      " 0   Date    4 non-null      datetime64[ns]\n",
      " 1   Name    4 non-null      object        \n",
      " 2   Score   4 non-null      int32         \n",
      "dtypes: datetime64[ns](1), int32(1), object(1)\n",
      "memory usage: 212.0+ bytes\n",
      "None\n"
     ]
    }
   ],
   "source": [
    "df15 = pd.read_excel(r\"C:\\Users\\shuve\\Desktop\\Prep_fr_Bst\\Data Science Role\\Machine Learning\\Data Gathering\\Working with CSV\\BAD LINES AND DATE.xlsx\", skiprows=[5,6], dtype={'Score': int}, parse_dates=['Date'])\n",
    "print(df15)\n",
    "print(df15.info())"
   ]
  },
  {
   "cell_type": "markdown",
   "id": "158129df",
   "metadata": {},
   "source": [
    "creating single date column from multiple column"
   ]
  },
  {
   "cell_type": "code",
   "execution_count": 16,
   "id": "9d829471",
   "metadata": {
    "scrolled": false
   },
   "outputs": [
    {
     "name": "stdout",
     "output_type": "stream",
     "text": [
      "         date Name  Score\n",
      "0   11 5 1999    w   21.0\n",
      "1   22 4 1998    t   23.0\n",
      "2  12 11 2000    r   24.0\n",
      "3  13 12 2003    e   21.0\n",
      "4   31 1 2002    r   25.0\n",
      "<class 'pandas.core.frame.DataFrame'>\n",
      "RangeIndex: 5 entries, 0 to 4\n",
      "Data columns (total 3 columns):\n",
      " #   Column  Non-Null Count  Dtype  \n",
      "---  ------  --------------  -----  \n",
      " 0   date    5 non-null      object \n",
      " 1   Name    5 non-null      object \n",
      " 2   Score   5 non-null      float64\n",
      "dtypes: float64(1), object(2)\n",
      "memory usage: 252.0+ bytes\n",
      "None\n"
     ]
    }
   ],
   "source": [
    "df16 = pd.read_excel(r\"C:\\Users\\shuve\\Desktop\\Prep_fr_Bst\\Data Science Role\\Machine Learning\\Data Gathering\\Working with CSV\\parsed.xlsx\",skiprows=[6],dtype={'Score': float},parse_dates={'date':[0,1,2]},)\n",
    "print(df16)\n",
    "print(df16.info())"
   ]
  },
  {
   "cell_type": "markdown",
   "id": "913a8212",
   "metadata": {},
   "source": [
    "## Convertors"
   ]
  },
  {
   "cell_type": "code",
   "execution_count": 17,
   "id": "1a639776",
   "metadata": {},
   "outputs": [],
   "source": [
    "def rename(name):\n",
    "    if name == \"A\":\n",
    "        return \"Alpha\"\n",
    "    else:\n",
    "        return name"
   ]
  },
  {
   "cell_type": "code",
   "execution_count": 18,
   "id": "98ccf934",
   "metadata": {},
   "outputs": [
    {
     "data": {
      "text/plain": [
       "'Alpha'"
      ]
     },
     "execution_count": 18,
     "metadata": {},
     "output_type": "execute_result"
    }
   ],
   "source": [
    "rename(\"A\")"
   ]
  },
  {
   "cell_type": "code",
   "execution_count": 19,
   "id": "0d32a446",
   "metadata": {},
   "outputs": [
    {
     "name": "stdout",
     "output_type": "stream",
     "text": [
      "        Date   Name  Score\n",
      "0 2022-10-22  Alpha     10\n",
      "1 2022-11-01      B     11\n",
      "2 2024-10-23      C     10\n",
      "3 1990-12-25      D      9\n"
     ]
    }
   ],
   "source": [
    "df17 = pd.read_excel(r\"C:\\Users\\shuve\\Desktop\\Prep_fr_Bst\\Data Science Role\\Machine Learning\\Data Gathering\\Working with CSV\\BAD LINES AND DATE.xlsx\", skiprows=[5,6], dtype={'Score': int}, parse_dates=['Date'],converters={'Name':rename})\n",
    "print(df17)"
   ]
  },
  {
   "cell_type": "markdown",
   "id": "f823810a",
   "metadata": {},
   "source": [
    "## na_values parameter"
   ]
  },
  {
   "cell_type": "code",
   "execution_count": 20,
   "id": "909e14a1",
   "metadata": {
    "scrolled": true
   },
   "outputs": [
    {
     "name": "stdout",
     "output_type": "stream",
     "text": [
      "   day  month  year name score\n",
      "0   22      6  1999    b    11\n",
      "1   23      6  2001    c    10\n",
      "2   23      4  2003    d     9\n",
      "3   24      5  2003    e     _\n",
      "  day_month_year name  score\n",
      "0     1999-06-22    b   11.0\n",
      "1     2001-06-23    c   10.0\n",
      "2     2003-04-23    d    9.0\n",
      "3     2003-05-24    e    NaN\n",
      "<class 'pandas.core.frame.DataFrame'>\n",
      "RangeIndex: 4 entries, 0 to 3\n",
      "Data columns (total 3 columns):\n",
      " #   Column          Non-Null Count  Dtype         \n",
      "---  ------          --------------  -----         \n",
      " 0   day_month_year  4 non-null      datetime64[ns]\n",
      " 1   name            4 non-null      object        \n",
      " 2   score           3 non-null      float64       \n",
      "dtypes: datetime64[ns](1), float64(1), object(1)\n",
      "memory usage: 228.0+ bytes\n",
      "None\n"
     ]
    },
    {
     "name": "stderr",
     "output_type": "stream",
     "text": [
      "C:\\Users\\shuve\\AppData\\Local\\Temp\\ipykernel_11948\\3629040228.py:3: UserWarning: Parsing dates in %d %m %Y format when dayfirst=False (the default) was specified. Pass `dayfirst=True` or specify a format to silence this warning.\n",
      "  df19 = pd.read_excel(r\"C:\\Users\\shuve\\Desktop\\Prep_fr_Bst\\Data Science Role\\Machine Learning\\Data Gathering\\Working with CSV\\na.xlsx\",names=['day','month','year','name','score'],parse_dates=[['day','month','year']],na_values=['_'])\n"
     ]
    }
   ],
   "source": [
    "df18 = pd.read_excel(r\"C:\\Users\\shuve\\Desktop\\Prep_fr_Bst\\Data Science Role\\Machine Learning\\Data Gathering\\Working with CSV\\na.xlsx\",names=['day','month','year','name','score'])\n",
    "print(df18)\n",
    "df19 = pd.read_excel(r\"C:\\Users\\shuve\\Desktop\\Prep_fr_Bst\\Data Science Role\\Machine Learning\\Data Gathering\\Working with CSV\\na.xlsx\",names=['day','month','year','name','score'],parse_dates=[['day','month','year']],na_values=['_'])\n",
    "print(df19)\n",
    "print(df19.info())"
   ]
  },
  {
   "cell_type": "markdown",
   "id": "1b5aad97",
   "metadata": {},
   "source": [
    "## Loading a huge data set in chunks"
   ]
  },
  {
   "cell_type": "code",
   "execution_count": 21,
   "id": "c10ee4f9",
   "metadata": {},
   "outputs": [],
   "source": [
    "# dfs = pd.read_csv(,chunksize = 5000)\n",
    "# for chunks in dfs:\n",
    "#     print(chunks.shape)"
   ]
  }
 ],
 "metadata": {
  "kernelspec": {
   "display_name": "Python 3 (ipykernel)",
   "language": "python",
   "name": "python3"
  },
  "language_info": {
   "codemirror_mode": {
    "name": "ipython",
    "version": 3
   },
   "file_extension": ".py",
   "mimetype": "text/x-python",
   "name": "python",
   "nbconvert_exporter": "python",
   "pygments_lexer": "ipython3",
   "version": "3.11.5"
  }
 },
 "nbformat": 4,
 "nbformat_minor": 5
}

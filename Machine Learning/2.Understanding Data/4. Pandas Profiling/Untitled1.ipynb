{
 "cells": [
  {
   "cell_type": "code",
   "execution_count": 1,
   "id": "95b54ea7-dec5-4408-a04e-8bde80af0397",
   "metadata": {},
   "outputs": [],
   "source": [
    "import pandas as pd"
   ]
  },
  {
   "cell_type": "code",
   "execution_count": 2,
   "id": "fcb297a3-5c84-41e5-bd98-8d5163fa22c0",
   "metadata": {},
   "outputs": [],
   "source": [
    "df  = pd.read_csv(r\"C:\\Users\\shuve\\Desktop\\Prep_fr_Bst\\Data Science Role\\Machine Learning\\2.Understanding Data\\1. Basic 7  Questions\\titanic.csv\")"
   ]
  },
  {
   "cell_type": "code",
   "execution_count": null,
   "id": "2e2a50a8-030b-4e13-a3f8-af6f967e9b84",
   "metadata": {},
   "outputs": [],
   "source": []
  }
 ],
 "metadata": {
  "kernelspec": {
   "display_name": "Python 3 (ipykernel)",
   "language": "python",
   "name": "python3"
  },
  "language_info": {
   "codemirror_mode": {
    "name": "ipython",
    "version": 3
   },
   "file_extension": ".py",
   "mimetype": "text/x-python",
   "name": "python",
   "nbconvert_exporter": "python",
   "pygments_lexer": "ipython3",
   "version": "3.12.4"
  }
 },
 "nbformat": 4,
 "nbformat_minor": 5
}

{
  "nbformat": 4,
  "nbformat_minor": 0,
  "metadata": {
    "colab": {
      "provenance": []
    },
    "kernelspec": {
      "name": "python3",
      "display_name": "Python 3"
    },
    "language_info": {
      "name": "python"
    }
  },
  "cells": [
    {
      "cell_type": "markdown",
      "source": [
        "# **Text Classification (ML Approach)**\n",
        "---\n",
        "\n",
        "\n",
        "### 🧑‍💼 **Shuvendu Pritam Das**  \n",
        "*Data Science / ML Enthusiast*  \n",
        "\n",
        "- **GitHub:** [SPritamDas](https://github.com/SPritamDas/My-Profile)  \n",
        "- **LinkedIn:** [Shuvendu Pritam Das](https://www.linkedin.com/in/shuvendupritamdas/)  \n",
        "- **Email:** shuvendupritamdas181@gmail.com  \n",
        "---"
      ],
      "metadata": {
        "id": "JZhLaHMH7f5x"
      }
    },
    {
      "cell_type": "markdown",
      "source": [
        "# Text Classification\n",
        "1. Filtering\n",
        "2. Customer Support\n",
        "3. Sentiment\n",
        "4. Language Detection\n",
        "5. Fake Detection\n",
        "6. Vulgarity Detection"
      ],
      "metadata": {
        "id": "VAPrjmT-9NkL"
      }
    },
    {
      "cell_type": "markdown",
      "source": [
        "# Pipe Line\n",
        "1. Data Acquisition\n",
        "2. Text Preprocessing\n",
        "3. Feature Extraction (Text Vectorization (OWE, BOW, N-GRAMS, TF-IDF, WORD2VEC))\n",
        "4. Model Development(Naive Bayes, LSTM, Bert)\n",
        "5. Evaluation (Accuracy, Precision, Recall, AUC)\n",
        "5. Deployment and Monitoring"
      ],
      "metadata": {
        "id": "DvkJlhGO9lmC"
      }
    },
    {
      "cell_type": "markdown",
      "source": [
        "# Approaches\n",
        "1. Heuristic Approaches\n",
        "2. API Approaches\n",
        "3. ML Approaches(BOG/N-GRAMS/TF-IDF --> NB/RF/SVM)\n",
        "4. DL Approaches(BOW/N-GRAMS/TF-IDF --> RNN/LSTM/CNN/BERT)"
      ],
      "metadata": {
        "id": "cJXr6pB4_cmf"
      }
    },
    {
      "cell_type": "markdown",
      "source": [
        "# Heuristic Approach"
      ],
      "metadata": {
        "id": "IBnjQWpVAMLp"
      }
    },
    {
      "cell_type": "markdown",
      "source": [
        "## Data Acquisition"
      ],
      "metadata": {
        "id": "V1uZy6HMAiRV"
      }
    },
    {
      "cell_type": "code",
      "source": [
        "text = \"I love the new restaurant! The food is super and the service is excellent and the ambience is the best.but the only problem is delay service\""
      ],
      "metadata": {
        "id": "6AtoueV7APwv"
      },
      "execution_count": 1,
      "outputs": []
    },
    {
      "cell_type": "markdown",
      "source": [
        "## Data Preprocessing"
      ],
      "metadata": {
        "id": "nGHnF6E3BJ3f"
      }
    },
    {
      "cell_type": "code",
      "source": [
        "## Lower casing\n",
        "text = text.lower()\n",
        "\n",
        "## HTML Reoval\n",
        "import re\n",
        "text = re.sub('<.*?>','',text)\n",
        "\n",
        "## URL Removal\n",
        "text = re.sub('https?://\\S+|www\\.\\S+','',text)\n",
        "\n",
        "## Punctuation Removal\n",
        "import string\n",
        "text = text.translate(str.maketrans('','',string.punctuation))\n",
        "text\n",
        "\n",
        "## Word Tokenize\n",
        "import nltk\n",
        "nltk.download('punkt')\n",
        "from nltk.tokenize import word_tokenize\n",
        "tokens = word_tokenize(text)\n",
        "\n",
        "## Lemmatization\n",
        "nltk.download('wordnet')\n",
        "nltk.download('omw-1.4')\n",
        "from nltk.stem import WordNetLemmatizer\n",
        "lemmatizer = WordNetLemmatizer()\n",
        "tokens = [lemmatizer.lemmatize(word) for word in tokens]\n",
        "print(tokens)"
      ],
      "metadata": {
        "colab": {
          "base_uri": "https://localhost:8080/"
        },
        "id": "4GjKz9mmBM2k",
        "outputId": "d4bebd42-bec9-400a-e6d4-af34e92592b2"
      },
      "execution_count": 2,
      "outputs": [
        {
          "output_type": "stream",
          "name": "stderr",
          "text": [
            "[nltk_data] Downloading package punkt to /root/nltk_data...\n",
            "[nltk_data]   Package punkt is already up-to-date!\n",
            "[nltk_data] Downloading package wordnet to /root/nltk_data...\n",
            "[nltk_data]   Package wordnet is already up-to-date!\n",
            "[nltk_data] Downloading package omw-1.4 to /root/nltk_data...\n",
            "[nltk_data]   Package omw-1.4 is already up-to-date!\n"
          ]
        },
        {
          "output_type": "stream",
          "name": "stdout",
          "text": [
            "['i', 'love', 'the', 'new', 'restaurant', 'the', 'food', 'is', 'super', 'and', 'the', 'service', 'is', 'excellent', 'and', 'the', 'ambience', 'is', 'the', 'bestbut', 'the', 'only', 'problem', 'is', 'delay', 'service']\n"
          ]
        }
      ]
    },
    {
      "cell_type": "markdown",
      "source": [
        "## Text Vectorization"
      ],
      "metadata": {
        "id": "xyWZoVPpD8aG"
      }
    },
    {
      "cell_type": "code",
      "source": [
        "## No need to do in this case."
      ],
      "metadata": {
        "id": "iJ7LjypuEBAx"
      },
      "execution_count": 3,
      "outputs": []
    },
    {
      "cell_type": "markdown",
      "source": [
        "## Heuristic Approach"
      ],
      "metadata": {
        "id": "Bv03-P0kCwgO"
      }
    },
    {
      "cell_type": "code",
      "source": [
        "no_of_words = len(tokens)\n",
        "no_of_good_words = 0\n",
        "no_of_bad_words = 0\n",
        "for word in tokens:\n",
        "  if word in ['good','great','excellent','super','best','fast']:\n",
        "    no_of_good_words += 1\n",
        "  elif word in ['bad','terrible','boring','worst','delay']:\n",
        "    no_of_bad_words += 1\n",
        "\n",
        "print(no_of_words,no_of_good_words,no_of_bad_words)"
      ],
      "metadata": {
        "colab": {
          "base_uri": "https://localhost:8080/"
        },
        "id": "qiuKkIgsCzfy",
        "outputId": "74b6a52b-673b-47a4-f8d6-c99073a87a5d"
      },
      "execution_count": 4,
      "outputs": [
        {
          "output_type": "stream",
          "name": "stdout",
          "text": [
            "26 2 1\n"
          ]
        }
      ]
    },
    {
      "cell_type": "code",
      "source": [
        "if no_of_good_words > no_of_bad_words:\n",
        "  print('Positive')\n",
        "else:\n",
        "  print('Negative')"
      ],
      "metadata": {
        "colab": {
          "base_uri": "https://localhost:8080/"
        },
        "id": "3wU6irPND0OA",
        "outputId": "4ab5d004-c898-4bbb-ffc6-a3dc4a82fdc1"
      },
      "execution_count": 5,
      "outputs": [
        {
          "output_type": "stream",
          "name": "stdout",
          "text": [
            "Positive\n"
          ]
        }
      ]
    },
    {
      "cell_type": "markdown",
      "source": [
        "# API Approach"
      ],
      "metadata": {
        "id": "fz5OH9gTEGce"
      }
    },
    {
      "cell_type": "code",
      "execution_count": 6,
      "metadata": {
        "id": "37ZjMOex7KCG"
      },
      "outputs": [],
      "source": [
        "## nlpcloud.io\n",
        "## aws\n",
        "## gcp (google cloud platform)"
      ]
    },
    {
      "cell_type": "markdown",
      "source": [
        "# ML Approach"
      ],
      "metadata": {
        "id": "2tPAHJeeFKbG"
      }
    },
    {
      "cell_type": "markdown",
      "source": [
        "## Data Acquision"
      ],
      "metadata": {
        "id": "PznrX7TsFQwO"
      }
    },
    {
      "cell_type": "code",
      "source": [
        "# from Kaggle\n",
        "!mkdir -p ~/.kaggle\n",
        "!cp kaggle.json ~/.kaggle/\n",
        "!chmod 600 ~/.kaggle/kaggle.json\n",
        "!kaggle datasets download akash14/product-sentiment-classification"
      ],
      "metadata": {
        "colab": {
          "base_uri": "https://localhost:8080/"
        },
        "id": "g0UMgjhWFS_R",
        "outputId": "80654f6f-8afc-4188-a6ea-0f78bfcb17f6"
      },
      "execution_count": 7,
      "outputs": [
        {
          "output_type": "stream",
          "name": "stdout",
          "text": [
            "Dataset URL: https://www.kaggle.com/datasets/akash14/product-sentiment-classification\n",
            "License(s): other\n",
            "product-sentiment-classification.zip: Skipping, found more recently modified local copy (use --force to force download)\n"
          ]
        }
      ]
    },
    {
      "cell_type": "code",
      "source": [
        "import zipfile\n",
        "zip_ref = zipfile.ZipFile('/content/product-sentiment-classification.zip', 'r')\n",
        "zip_ref.extractall('/content')\n",
        "zip_ref.close()"
      ],
      "metadata": {
        "id": "A1qmEaLBFvQg"
      },
      "execution_count": 8,
      "outputs": []
    },
    {
      "cell_type": "markdown",
      "source": [
        "### Importing Basic Libraries"
      ],
      "metadata": {
        "id": "4yErIudsGAfw"
      }
    },
    {
      "cell_type": "code",
      "source": [
        "import pandas as pd\n",
        "import numpy as np\n",
        "import matplotlib.pyplot as plt\n",
        "import seaborn as sns"
      ],
      "metadata": {
        "id": "E0GaBxZSGD51"
      },
      "execution_count": 9,
      "outputs": []
    },
    {
      "cell_type": "markdown",
      "source": [
        "### Importing Data"
      ],
      "metadata": {
        "id": "hQfF2zQDJiO-"
      }
    },
    {
      "cell_type": "code",
      "source": [
        "data = pd.read_csv('/content/Participants_Data/Train.csv',encoding='utf-8')\n",
        "data.head()"
      ],
      "metadata": {
        "colab": {
          "base_uri": "https://localhost:8080/",
          "height": 206
        },
        "id": "jlkw2VpfFxPm",
        "outputId": "5c04c97c-0ff5-4b15-a742-a045642cd9e1"
      },
      "execution_count": 10,
      "outputs": [
        {
          "output_type": "execute_result",
          "data": {
            "text/plain": [
              "   Text_ID                                Product_Description  Product_Type  \\\n",
              "0     3057  The Web DesignerÛªs Guide to iOS (and Android...             9   \n",
              "1     6254  RT @mention Line for iPad 2 is longer today th...             9   \n",
              "2     8212  Crazy that Apple is opening a temporary store ...             9   \n",
              "3     4422  The lesson from Google One Pass: In this digit...             9   \n",
              "4     5526  RT @mention At the panel: &quot;Your mom has a...             9   \n",
              "\n",
              "   Sentiment  \n",
              "0          2  \n",
              "1          2  \n",
              "2          2  \n",
              "3          2  \n",
              "4          2  "
            ],
            "text/html": [
              "\n",
              "  <div id=\"df-7a6a6a4b-c34e-44b8-872a-a8d21e679706\" class=\"colab-df-container\">\n",
              "    <div>\n",
              "<style scoped>\n",
              "    .dataframe tbody tr th:only-of-type {\n",
              "        vertical-align: middle;\n",
              "    }\n",
              "\n",
              "    .dataframe tbody tr th {\n",
              "        vertical-align: top;\n",
              "    }\n",
              "\n",
              "    .dataframe thead th {\n",
              "        text-align: right;\n",
              "    }\n",
              "</style>\n",
              "<table border=\"1\" class=\"dataframe\">\n",
              "  <thead>\n",
              "    <tr style=\"text-align: right;\">\n",
              "      <th></th>\n",
              "      <th>Text_ID</th>\n",
              "      <th>Product_Description</th>\n",
              "      <th>Product_Type</th>\n",
              "      <th>Sentiment</th>\n",
              "    </tr>\n",
              "  </thead>\n",
              "  <tbody>\n",
              "    <tr>\n",
              "      <th>0</th>\n",
              "      <td>3057</td>\n",
              "      <td>The Web DesignerÛªs Guide to iOS (and Android...</td>\n",
              "      <td>9</td>\n",
              "      <td>2</td>\n",
              "    </tr>\n",
              "    <tr>\n",
              "      <th>1</th>\n",
              "      <td>6254</td>\n",
              "      <td>RT @mention Line for iPad 2 is longer today th...</td>\n",
              "      <td>9</td>\n",
              "      <td>2</td>\n",
              "    </tr>\n",
              "    <tr>\n",
              "      <th>2</th>\n",
              "      <td>8212</td>\n",
              "      <td>Crazy that Apple is opening a temporary store ...</td>\n",
              "      <td>9</td>\n",
              "      <td>2</td>\n",
              "    </tr>\n",
              "    <tr>\n",
              "      <th>3</th>\n",
              "      <td>4422</td>\n",
              "      <td>The lesson from Google One Pass: In this digit...</td>\n",
              "      <td>9</td>\n",
              "      <td>2</td>\n",
              "    </tr>\n",
              "    <tr>\n",
              "      <th>4</th>\n",
              "      <td>5526</td>\n",
              "      <td>RT @mention At the panel: &amp;quot;Your mom has a...</td>\n",
              "      <td>9</td>\n",
              "      <td>2</td>\n",
              "    </tr>\n",
              "  </tbody>\n",
              "</table>\n",
              "</div>\n",
              "    <div class=\"colab-df-buttons\">\n",
              "\n",
              "  <div class=\"colab-df-container\">\n",
              "    <button class=\"colab-df-convert\" onclick=\"convertToInteractive('df-7a6a6a4b-c34e-44b8-872a-a8d21e679706')\"\n",
              "            title=\"Convert this dataframe to an interactive table.\"\n",
              "            style=\"display:none;\">\n",
              "\n",
              "  <svg xmlns=\"http://www.w3.org/2000/svg\" height=\"24px\" viewBox=\"0 -960 960 960\">\n",
              "    <path d=\"M120-120v-720h720v720H120Zm60-500h600v-160H180v160Zm220 220h160v-160H400v160Zm0 220h160v-160H400v160ZM180-400h160v-160H180v160Zm440 0h160v-160H620v160ZM180-180h160v-160H180v160Zm440 0h160v-160H620v160Z\"/>\n",
              "  </svg>\n",
              "    </button>\n",
              "\n",
              "  <style>\n",
              "    .colab-df-container {\n",
              "      display:flex;\n",
              "      gap: 12px;\n",
              "    }\n",
              "\n",
              "    .colab-df-convert {\n",
              "      background-color: #E8F0FE;\n",
              "      border: none;\n",
              "      border-radius: 50%;\n",
              "      cursor: pointer;\n",
              "      display: none;\n",
              "      fill: #1967D2;\n",
              "      height: 32px;\n",
              "      padding: 0 0 0 0;\n",
              "      width: 32px;\n",
              "    }\n",
              "\n",
              "    .colab-df-convert:hover {\n",
              "      background-color: #E2EBFA;\n",
              "      box-shadow: 0px 1px 2px rgba(60, 64, 67, 0.3), 0px 1px 3px 1px rgba(60, 64, 67, 0.15);\n",
              "      fill: #174EA6;\n",
              "    }\n",
              "\n",
              "    .colab-df-buttons div {\n",
              "      margin-bottom: 4px;\n",
              "    }\n",
              "\n",
              "    [theme=dark] .colab-df-convert {\n",
              "      background-color: #3B4455;\n",
              "      fill: #D2E3FC;\n",
              "    }\n",
              "\n",
              "    [theme=dark] .colab-df-convert:hover {\n",
              "      background-color: #434B5C;\n",
              "      box-shadow: 0px 1px 3px 1px rgba(0, 0, 0, 0.15);\n",
              "      filter: drop-shadow(0px 1px 2px rgba(0, 0, 0, 0.3));\n",
              "      fill: #FFFFFF;\n",
              "    }\n",
              "  </style>\n",
              "\n",
              "    <script>\n",
              "      const buttonEl =\n",
              "        document.querySelector('#df-7a6a6a4b-c34e-44b8-872a-a8d21e679706 button.colab-df-convert');\n",
              "      buttonEl.style.display =\n",
              "        google.colab.kernel.accessAllowed ? 'block' : 'none';\n",
              "\n",
              "      async function convertToInteractive(key) {\n",
              "        const element = document.querySelector('#df-7a6a6a4b-c34e-44b8-872a-a8d21e679706');\n",
              "        const dataTable =\n",
              "          await google.colab.kernel.invokeFunction('convertToInteractive',\n",
              "                                                    [key], {});\n",
              "        if (!dataTable) return;\n",
              "\n",
              "        const docLinkHtml = 'Like what you see? Visit the ' +\n",
              "          '<a target=\"_blank\" href=https://colab.research.google.com/notebooks/data_table.ipynb>data table notebook</a>'\n",
              "          + ' to learn more about interactive tables.';\n",
              "        element.innerHTML = '';\n",
              "        dataTable['output_type'] = 'display_data';\n",
              "        await google.colab.output.renderOutput(dataTable, element);\n",
              "        const docLink = document.createElement('div');\n",
              "        docLink.innerHTML = docLinkHtml;\n",
              "        element.appendChild(docLink);\n",
              "      }\n",
              "    </script>\n",
              "  </div>\n",
              "\n",
              "\n",
              "<div id=\"df-bb8c2079-0c9f-486d-91cf-b496f28546e0\">\n",
              "  <button class=\"colab-df-quickchart\" onclick=\"quickchart('df-bb8c2079-0c9f-486d-91cf-b496f28546e0')\"\n",
              "            title=\"Suggest charts\"\n",
              "            style=\"display:none;\">\n",
              "\n",
              "<svg xmlns=\"http://www.w3.org/2000/svg\" height=\"24px\"viewBox=\"0 0 24 24\"\n",
              "     width=\"24px\">\n",
              "    <g>\n",
              "        <path d=\"M19 3H5c-1.1 0-2 .9-2 2v14c0 1.1.9 2 2 2h14c1.1 0 2-.9 2-2V5c0-1.1-.9-2-2-2zM9 17H7v-7h2v7zm4 0h-2V7h2v10zm4 0h-2v-4h2v4z\"/>\n",
              "    </g>\n",
              "</svg>\n",
              "  </button>\n",
              "\n",
              "<style>\n",
              "  .colab-df-quickchart {\n",
              "      --bg-color: #E8F0FE;\n",
              "      --fill-color: #1967D2;\n",
              "      --hover-bg-color: #E2EBFA;\n",
              "      --hover-fill-color: #174EA6;\n",
              "      --disabled-fill-color: #AAA;\n",
              "      --disabled-bg-color: #DDD;\n",
              "  }\n",
              "\n",
              "  [theme=dark] .colab-df-quickchart {\n",
              "      --bg-color: #3B4455;\n",
              "      --fill-color: #D2E3FC;\n",
              "      --hover-bg-color: #434B5C;\n",
              "      --hover-fill-color: #FFFFFF;\n",
              "      --disabled-bg-color: #3B4455;\n",
              "      --disabled-fill-color: #666;\n",
              "  }\n",
              "\n",
              "  .colab-df-quickchart {\n",
              "    background-color: var(--bg-color);\n",
              "    border: none;\n",
              "    border-radius: 50%;\n",
              "    cursor: pointer;\n",
              "    display: none;\n",
              "    fill: var(--fill-color);\n",
              "    height: 32px;\n",
              "    padding: 0;\n",
              "    width: 32px;\n",
              "  }\n",
              "\n",
              "  .colab-df-quickchart:hover {\n",
              "    background-color: var(--hover-bg-color);\n",
              "    box-shadow: 0 1px 2px rgba(60, 64, 67, 0.3), 0 1px 3px 1px rgba(60, 64, 67, 0.15);\n",
              "    fill: var(--button-hover-fill-color);\n",
              "  }\n",
              "\n",
              "  .colab-df-quickchart-complete:disabled,\n",
              "  .colab-df-quickchart-complete:disabled:hover {\n",
              "    background-color: var(--disabled-bg-color);\n",
              "    fill: var(--disabled-fill-color);\n",
              "    box-shadow: none;\n",
              "  }\n",
              "\n",
              "  .colab-df-spinner {\n",
              "    border: 2px solid var(--fill-color);\n",
              "    border-color: transparent;\n",
              "    border-bottom-color: var(--fill-color);\n",
              "    animation:\n",
              "      spin 1s steps(1) infinite;\n",
              "  }\n",
              "\n",
              "  @keyframes spin {\n",
              "    0% {\n",
              "      border-color: transparent;\n",
              "      border-bottom-color: var(--fill-color);\n",
              "      border-left-color: var(--fill-color);\n",
              "    }\n",
              "    20% {\n",
              "      border-color: transparent;\n",
              "      border-left-color: var(--fill-color);\n",
              "      border-top-color: var(--fill-color);\n",
              "    }\n",
              "    30% {\n",
              "      border-color: transparent;\n",
              "      border-left-color: var(--fill-color);\n",
              "      border-top-color: var(--fill-color);\n",
              "      border-right-color: var(--fill-color);\n",
              "    }\n",
              "    40% {\n",
              "      border-color: transparent;\n",
              "      border-right-color: var(--fill-color);\n",
              "      border-top-color: var(--fill-color);\n",
              "    }\n",
              "    60% {\n",
              "      border-color: transparent;\n",
              "      border-right-color: var(--fill-color);\n",
              "    }\n",
              "    80% {\n",
              "      border-color: transparent;\n",
              "      border-right-color: var(--fill-color);\n",
              "      border-bottom-color: var(--fill-color);\n",
              "    }\n",
              "    90% {\n",
              "      border-color: transparent;\n",
              "      border-bottom-color: var(--fill-color);\n",
              "    }\n",
              "  }\n",
              "</style>\n",
              "\n",
              "  <script>\n",
              "    async function quickchart(key) {\n",
              "      const quickchartButtonEl =\n",
              "        document.querySelector('#' + key + ' button');\n",
              "      quickchartButtonEl.disabled = true;  // To prevent multiple clicks.\n",
              "      quickchartButtonEl.classList.add('colab-df-spinner');\n",
              "      try {\n",
              "        const charts = await google.colab.kernel.invokeFunction(\n",
              "            'suggestCharts', [key], {});\n",
              "      } catch (error) {\n",
              "        console.error('Error during call to suggestCharts:', error);\n",
              "      }\n",
              "      quickchartButtonEl.classList.remove('colab-df-spinner');\n",
              "      quickchartButtonEl.classList.add('colab-df-quickchart-complete');\n",
              "    }\n",
              "    (() => {\n",
              "      let quickchartButtonEl =\n",
              "        document.querySelector('#df-bb8c2079-0c9f-486d-91cf-b496f28546e0 button');\n",
              "      quickchartButtonEl.style.display =\n",
              "        google.colab.kernel.accessAllowed ? 'block' : 'none';\n",
              "    })();\n",
              "  </script>\n",
              "</div>\n",
              "\n",
              "    </div>\n",
              "  </div>\n"
            ],
            "application/vnd.google.colaboratory.intrinsic+json": {
              "type": "dataframe",
              "variable_name": "data",
              "summary": "{\n  \"name\": \"data\",\n  \"rows\": 6364,\n  \"fields\": [\n    {\n      \"column\": \"Text_ID\",\n      \"properties\": {\n        \"dtype\": \"number\",\n        \"std\": 2621,\n        \"min\": 1,\n        \"max\": 9092,\n        \"num_unique_values\": 6364,\n        \"samples\": [\n          2144,\n          9037,\n          5167\n        ],\n        \"semantic_type\": \"\",\n        \"description\": \"\"\n      }\n    },\n    {\n      \"column\": \"Product_Description\",\n      \"properties\": {\n        \"dtype\": \"string\",\n        \"num_unique_values\": 6352,\n        \"samples\": [\n          \"At an 80's theem Google party and Spazmatic is kill'n the stage!! HOOOOOOOoOoOOOo!!!! #SXSW\",\n          \"RT @mention Panel just got my head out of my iPad by saying &quot;{link} out loud. #newsapps #sxsw\",\n          \"#sxsw  thanks for the ever present iPhone barging tables...\"\n        ],\n        \"semantic_type\": \"\",\n        \"description\": \"\"\n      }\n    },\n    {\n      \"column\": \"Product_Type\",\n      \"properties\": {\n        \"dtype\": \"number\",\n        \"std\": 2,\n        \"min\": 0,\n        \"max\": 9,\n        \"num_unique_values\": 10,\n        \"samples\": [\n          1,\n          6,\n          3\n        ],\n        \"semantic_type\": \"\",\n        \"description\": \"\"\n      }\n    },\n    {\n      \"column\": \"Sentiment\",\n      \"properties\": {\n        \"dtype\": \"number\",\n        \"std\": 0,\n        \"min\": 0,\n        \"max\": 3,\n        \"num_unique_values\": 4,\n        \"samples\": [\n          1,\n          0,\n          2\n        ],\n        \"semantic_type\": \"\",\n        \"description\": \"\"\n      }\n    }\n  ]\n}"
            }
          },
          "metadata": {},
          "execution_count": 10
        }
      ]
    },
    {
      "cell_type": "markdown",
      "source": [
        "### Data Exploration with EDA and Basic Data Preprocessing"
      ],
      "metadata": {
        "id": "Fr0OaRESJlXG"
      }
    },
    {
      "cell_type": "code",
      "source": [
        "data.shape"
      ],
      "metadata": {
        "colab": {
          "base_uri": "https://localhost:8080/"
        },
        "id": "DrvrHgOAGOgV",
        "outputId": "fa476128-24f1-4ed3-c903-454d4ec4c7cf"
      },
      "execution_count": 11,
      "outputs": [
        {
          "output_type": "execute_result",
          "data": {
            "text/plain": [
              "(6364, 4)"
            ]
          },
          "metadata": {},
          "execution_count": 11
        }
      ]
    },
    {
      "cell_type": "code",
      "source": [
        "data.isnull().sum()"
      ],
      "metadata": {
        "colab": {
          "base_uri": "https://localhost:8080/",
          "height": 209
        },
        "id": "VWVsH_g5I61Q",
        "outputId": "72111298-d9c7-4b9d-84a6-8cd9e1df9876"
      },
      "execution_count": 12,
      "outputs": [
        {
          "output_type": "execute_result",
          "data": {
            "text/plain": [
              "Text_ID                0\n",
              "Product_Description    0\n",
              "Product_Type           0\n",
              "Sentiment              0\n",
              "dtype: int64"
            ],
            "text/html": [
              "<div>\n",
              "<style scoped>\n",
              "    .dataframe tbody tr th:only-of-type {\n",
              "        vertical-align: middle;\n",
              "    }\n",
              "\n",
              "    .dataframe tbody tr th {\n",
              "        vertical-align: top;\n",
              "    }\n",
              "\n",
              "    .dataframe thead th {\n",
              "        text-align: right;\n",
              "    }\n",
              "</style>\n",
              "<table border=\"1\" class=\"dataframe\">\n",
              "  <thead>\n",
              "    <tr style=\"text-align: right;\">\n",
              "      <th></th>\n",
              "      <th>0</th>\n",
              "    </tr>\n",
              "  </thead>\n",
              "  <tbody>\n",
              "    <tr>\n",
              "      <th>Text_ID</th>\n",
              "      <td>0</td>\n",
              "    </tr>\n",
              "    <tr>\n",
              "      <th>Product_Description</th>\n",
              "      <td>0</td>\n",
              "    </tr>\n",
              "    <tr>\n",
              "      <th>Product_Type</th>\n",
              "      <td>0</td>\n",
              "    </tr>\n",
              "    <tr>\n",
              "      <th>Sentiment</th>\n",
              "      <td>0</td>\n",
              "    </tr>\n",
              "  </tbody>\n",
              "</table>\n",
              "</div><br><label><b>dtype:</b> int64</label>"
            ]
          },
          "metadata": {},
          "execution_count": 12
        }
      ]
    },
    {
      "cell_type": "code",
      "source": [
        "data.duplicated().sum()"
      ],
      "metadata": {
        "colab": {
          "base_uri": "https://localhost:8080/"
        },
        "id": "EZovjiBbI91q",
        "outputId": "ada4183b-7624-470d-aef3-7242d76fe81c"
      },
      "execution_count": 13,
      "outputs": [
        {
          "output_type": "execute_result",
          "data": {
            "text/plain": [
              "0"
            ]
          },
          "metadata": {},
          "execution_count": 13
        }
      ]
    },
    {
      "cell_type": "code",
      "source": [
        "data['Text_ID'].duplicated().sum()"
      ],
      "metadata": {
        "colab": {
          "base_uri": "https://localhost:8080/"
        },
        "id": "m4kfFL2FJZiH",
        "outputId": "14d53c2b-5870-469b-f70f-61250f85b86a"
      },
      "execution_count": 14,
      "outputs": [
        {
          "output_type": "execute_result",
          "data": {
            "text/plain": [
              "0"
            ]
          },
          "metadata": {},
          "execution_count": 14
        }
      ]
    },
    {
      "cell_type": "code",
      "source": [
        "data['Product_Description'].duplicated().sum()"
      ],
      "metadata": {
        "colab": {
          "base_uri": "https://localhost:8080/"
        },
        "id": "o-LZ-zpqJBGC",
        "outputId": "ab6df7f8-d174-41bb-f373-8392a8f6a520"
      },
      "execution_count": 15,
      "outputs": [
        {
          "output_type": "execute_result",
          "data": {
            "text/plain": [
              "12"
            ]
          },
          "metadata": {},
          "execution_count": 15
        }
      ]
    },
    {
      "cell_type": "code",
      "source": [
        "data[['Text_ID','Product_Description']].duplicated().sum()"
      ],
      "metadata": {
        "colab": {
          "base_uri": "https://localhost:8080/"
        },
        "id": "4KCzIDGvJNYQ",
        "outputId": "c5b23b4e-791d-47fe-c11e-293de26387ae"
      },
      "execution_count": 16,
      "outputs": [
        {
          "output_type": "execute_result",
          "data": {
            "text/plain": [
              "0"
            ]
          },
          "metadata": {},
          "execution_count": 16
        }
      ]
    },
    {
      "cell_type": "code",
      "source": [
        "data['Product_Type'].value_counts()\n",
        "## Total 10 Different Products"
      ],
      "metadata": {
        "colab": {
          "base_uri": "https://localhost:8080/",
          "height": 429
        },
        "id": "xG-3WliLGSS9",
        "outputId": "165d1730-81c7-43d4-dd2b-2d3e4fa9be6c"
      },
      "execution_count": 17,
      "outputs": [
        {
          "output_type": "execute_result",
          "data": {
            "text/plain": [
              "Product_Type\n",
              "9    4070\n",
              "6     665\n",
              "2     465\n",
              "7     327\n",
              "3     300\n",
              "5     213\n",
              "8     194\n",
              "1      59\n",
              "0      52\n",
              "4      19\n",
              "Name: count, dtype: int64"
            ],
            "text/html": [
              "<div>\n",
              "<style scoped>\n",
              "    .dataframe tbody tr th:only-of-type {\n",
              "        vertical-align: middle;\n",
              "    }\n",
              "\n",
              "    .dataframe tbody tr th {\n",
              "        vertical-align: top;\n",
              "    }\n",
              "\n",
              "    .dataframe thead th {\n",
              "        text-align: right;\n",
              "    }\n",
              "</style>\n",
              "<table border=\"1\" class=\"dataframe\">\n",
              "  <thead>\n",
              "    <tr style=\"text-align: right;\">\n",
              "      <th></th>\n",
              "      <th>count</th>\n",
              "    </tr>\n",
              "    <tr>\n",
              "      <th>Product_Type</th>\n",
              "      <th></th>\n",
              "    </tr>\n",
              "  </thead>\n",
              "  <tbody>\n",
              "    <tr>\n",
              "      <th>9</th>\n",
              "      <td>4070</td>\n",
              "    </tr>\n",
              "    <tr>\n",
              "      <th>6</th>\n",
              "      <td>665</td>\n",
              "    </tr>\n",
              "    <tr>\n",
              "      <th>2</th>\n",
              "      <td>465</td>\n",
              "    </tr>\n",
              "    <tr>\n",
              "      <th>7</th>\n",
              "      <td>327</td>\n",
              "    </tr>\n",
              "    <tr>\n",
              "      <th>3</th>\n",
              "      <td>300</td>\n",
              "    </tr>\n",
              "    <tr>\n",
              "      <th>5</th>\n",
              "      <td>213</td>\n",
              "    </tr>\n",
              "    <tr>\n",
              "      <th>8</th>\n",
              "      <td>194</td>\n",
              "    </tr>\n",
              "    <tr>\n",
              "      <th>1</th>\n",
              "      <td>59</td>\n",
              "    </tr>\n",
              "    <tr>\n",
              "      <th>0</th>\n",
              "      <td>52</td>\n",
              "    </tr>\n",
              "    <tr>\n",
              "      <th>4</th>\n",
              "      <td>19</td>\n",
              "    </tr>\n",
              "  </tbody>\n",
              "</table>\n",
              "</div><br><label><b>dtype:</b> int64</label>"
            ]
          },
          "metadata": {},
          "execution_count": 17
        }
      ]
    },
    {
      "cell_type": "code",
      "source": [
        "data['Sentiment'].value_counts()\n",
        "## Total 4 Different Sentiments\n",
        "'''0 - Cannot Say\n",
        "1 - Negative\n",
        "2 - Positive\n",
        "3 - No Sentiment'''"
      ],
      "metadata": {
        "colab": {
          "base_uri": "https://localhost:8080/",
          "height": 36
        },
        "id": "c1ibH7NrG66i",
        "outputId": "25b19061-c15f-4e2d-f391-5eaa49abb7fc"
      },
      "execution_count": 18,
      "outputs": [
        {
          "output_type": "execute_result",
          "data": {
            "text/plain": [
              "'0 - Cannot Say\\n1 - Negative\\n2 - Positive\\n3 - No Sentiment'"
            ],
            "application/vnd.google.colaboratory.intrinsic+json": {
              "type": "string"
            }
          },
          "metadata": {},
          "execution_count": 18
        }
      ]
    },
    {
      "cell_type": "code",
      "source": [
        "sentiment_distribtions = data.groupby(['Product_Type','Sentiment'])['Sentiment'].count()\n",
        "sentiment_distribtions.plot(kind='barh')\n",
        "plt.show()"
      ],
      "metadata": {
        "colab": {
          "base_uri": "https://localhost:8080/",
          "height": 430
        },
        "id": "Q98HPmCaGhoZ",
        "outputId": "ba3c3e48-08a1-46ac-9a40-f43d35bfa539"
      },
      "execution_count": 19,
      "outputs": [
        {
          "output_type": "display_data",
          "data": {
            "text/plain": [
              "<Figure size 640x480 with 1 Axes>"
            ],
            "image/png": "[encoded data removed]"
          },
          "metadata": {}
        }
      ]
    },
    {
      "cell_type": "markdown",
      "source": [
        "## Text Preprocessing"
      ],
      "metadata": {
        "id": "EpzivYrfGJqw"
      }
    },
    {
      "cell_type": "code",
      "source": [
        "!pip install emoji nltk textblob spacy"
      ],
      "metadata": {
        "colab": {
          "base_uri": "https://localhost:8080/"
        },
        "id": "yqsK87xFKP0S",
        "outputId": "72dd9c64-77fd-4b06-a755-9c4374e45f2d"
      },
      "execution_count": 20,
      "outputs": [
        {
          "output_type": "stream",
          "name": "stdout",
          "text": [
            "Requirement already satisfied: emoji in /usr/local/lib/python3.10/dist-packages (2.14.0)\n",
            "Requirement already satisfied: nltk in /usr/local/lib/python3.10/dist-packages (3.8.1)\n",
            "Requirement already satisfied: textblob in /usr/local/lib/python3.10/dist-packages (0.17.1)\n",
            "Requirement already satisfied: spacy in /usr/local/lib/python3.10/dist-packages (3.7.5)\n",
            "Requirement already satisfied: click in /usr/local/lib/python3.10/dist-packages (from nltk) (8.1.7)\n",
            "Requirement already satisfied: joblib in /usr/local/lib/python3.10/dist-packages (from nltk) (1.4.2)\n",
            "Requirement already satisfied: regex>=2021.8.3 in /usr/local/lib/python3.10/dist-packages (from nltk) (2024.9.11)\n",
            "Requirement already satisfied: tqdm in /usr/local/lib/python3.10/dist-packages (from nltk) (4.66.5)\n",
            "Requirement already satisfied: spacy-legacy<3.1.0,>=3.0.11 in /usr/local/lib/python3.10/dist-packages (from spacy) (3.0.12)\n",
            "Requirement already satisfied: spacy-loggers<2.0.0,>=1.0.0 in /usr/local/lib/python3.10/dist-packages (from spacy) (1.0.5)\n",
            "Requirement already satisfied: murmurhash<1.1.0,>=0.28.0 in /usr/local/lib/python3.10/dist-packages (from spacy) (1.0.10)\n",
            "Requirement already satisfied: cymem<2.1.0,>=2.0.2 in /usr/local/lib/python3.10/dist-packages (from spacy) (2.0.8)\n",
            "Requirement already satisfied: preshed<3.1.0,>=3.0.2 in /usr/local/lib/python3.10/dist-packages (from spacy) (3.0.9)\n",
            "Requirement already satisfied: thinc<8.3.0,>=8.2.2 in /usr/local/lib/python3.10/dist-packages (from spacy) (8.2.5)\n",
            "Requirement already satisfied: wasabi<1.2.0,>=0.9.1 in /usr/local/lib/python3.10/dist-packages (from spacy) (1.1.3)\n",
            "Requirement already satisfied: srsly<3.0.0,>=2.4.3 in /usr/local/lib/python3.10/dist-packages (from spacy) (2.4.8)\n",
            "Requirement already satisfied: catalogue<2.1.0,>=2.0.6 in /usr/local/lib/python3.10/dist-packages (from spacy) (2.0.10)\n",
            "Requirement already satisfied: weasel<0.5.0,>=0.1.0 in /usr/local/lib/python3.10/dist-packages (from spacy) (0.4.1)\n",
            "Requirement already satisfied: typer<1.0.0,>=0.3.0 in /usr/local/lib/python3.10/dist-packages (from spacy) (0.12.5)\n",
            "Requirement already satisfied: requests<3.0.0,>=2.13.0 in /usr/local/lib/python3.10/dist-packages (from spacy) (2.32.3)\n",
            "Requirement already satisfied: pydantic!=1.8,!=1.8.1,<3.0.0,>=1.7.4 in /usr/local/lib/python3.10/dist-packages (from spacy) (2.9.2)\n",
            "Requirement already satisfied: jinja2 in /usr/local/lib/python3.10/dist-packages (from spacy) (3.1.4)\n",
            "Requirement already satisfied: setuptools in /usr/local/lib/python3.10/dist-packages (from spacy) (75.1.0)\n",
            "Requirement already satisfied: packaging>=20.0 in /usr/local/lib/python3.10/dist-packages (from spacy) (24.1)\n",
            "Requirement already satisfied: langcodes<4.0.0,>=3.2.0 in /usr/local/lib/python3.10/dist-packages (from spacy) (3.4.1)\n",
            "Requirement already satisfied: numpy>=1.19.0 in /usr/local/lib/python3.10/dist-packages (from spacy) (1.26.4)\n",
            "Requirement already satisfied: language-data>=1.2 in /usr/local/lib/python3.10/dist-packages (from langcodes<4.0.0,>=3.2.0->spacy) (1.2.0)\n",
            "Requirement already satisfied: annotated-types>=0.6.0 in /usr/local/lib/python3.10/dist-packages (from pydantic!=1.8,!=1.8.1,<3.0.0,>=1.7.4->spacy) (0.7.0)\n",
            "Requirement already satisfied: pydantic-core==2.23.4 in /usr/local/lib/python3.10/dist-packages (from pydantic!=1.8,!=1.8.1,<3.0.0,>=1.7.4->spacy) (2.23.4)\n",
            "Requirement already satisfied: typing-extensions>=4.6.1 in /usr/local/lib/python3.10/dist-packages (from pydantic!=1.8,!=1.8.1,<3.0.0,>=1.7.4->spacy) (4.12.2)\n",
            "Requirement already satisfied: charset-normalizer<4,>=2 in /usr/local/lib/python3.10/dist-packages (from requests<3.0.0,>=2.13.0->spacy) (3.4.0)\n",
            "Requirement already satisfied: idna<4,>=2.5 in /usr/local/lib/python3.10/dist-packages (from requests<3.0.0,>=2.13.0->spacy) (3.10)\n",
            "Requirement already satisfied: urllib3<3,>=1.21.1 in /usr/local/lib/python3.10/dist-packages (from requests<3.0.0,>=2.13.0->spacy) (2.2.3)\n",
            "Requirement already satisfied: certifi>=2017.4.17 in /usr/local/lib/python3.10/dist-packages (from requests<3.0.0,>=2.13.0->spacy) (2024.8.30)\n",
            "Requirement already satisfied: blis<0.8.0,>=0.7.8 in /usr/local/lib/python3.10/dist-packages (from thinc<8.3.0,>=8.2.2->spacy) (0.7.11)\n",
            "Requirement already satisfied: confection<1.0.0,>=0.0.1 in /usr/local/lib/python3.10/dist-packages (from thinc<8.3.0,>=8.2.2->spacy) (0.1.5)\n",
            "Requirement already satisfied: shellingham>=1.3.0 in /usr/local/lib/python3.10/dist-packages (from typer<1.0.0,>=0.3.0->spacy) (1.5.4)\n",
            "Requirement already satisfied: rich>=10.11.0 in /usr/local/lib/python3.10/dist-packages (from typer<1.0.0,>=0.3.0->spacy) (13.9.3)\n",
            "Requirement already satisfied: cloudpathlib<1.0.0,>=0.7.0 in /usr/local/lib/python3.10/dist-packages (from weasel<0.5.0,>=0.1.0->spacy) (0.20.0)\n",
            "Requirement already satisfied: smart-open<8.0.0,>=5.2.1 in /usr/local/lib/python3.10/dist-packages (from weasel<0.5.0,>=0.1.0->spacy) (7.0.5)\n",
            "Requirement already satisfied: MarkupSafe>=2.0 in /usr/local/lib/python3.10/dist-packages (from jinja2->spacy) (3.0.2)\n",
            "Requirement already satisfied: marisa-trie>=0.7.7 in /usr/local/lib/python3.10/dist-packages (from language-data>=1.2->langcodes<4.0.0,>=3.2.0->spacy) (1.2.1)\n",
            "Requirement already satisfied: markdown-it-py>=2.2.0 in /usr/local/lib/python3.10/dist-packages (from rich>=10.11.0->typer<1.0.0,>=0.3.0->spacy) (3.0.0)\n",
            "Requirement already satisfied: pygments<3.0.0,>=2.13.0 in /usr/local/lib/python3.10/dist-packages (from rich>=10.11.0->typer<1.0.0,>=0.3.0->spacy) (2.18.0)\n",
            "Requirement already satisfied: wrapt in /usr/local/lib/python3.10/dist-packages (from smart-open<8.0.0,>=5.2.1->weasel<0.5.0,>=0.1.0->spacy) (1.16.0)\n",
            "Requirement already satisfied: mdurl~=0.1 in /usr/local/lib/python3.10/dist-packages (from markdown-it-py>=2.2.0->rich>=10.11.0->typer<1.0.0,>=0.3.0->spacy) (0.1.2)\n"
          ]
        }
      ]
    },
    {
      "cell_type": "code",
      "source": [
        "##  Lower Casing\n",
        "data['Product_Description'] = data['Product_Description'].str.lower()\n",
        "\n",
        "## HTML Tag Removal\n",
        "import re\n",
        "def remove_html_tags(text):\n",
        "  pattern = re.compile('<.*?>')\n",
        "  return pattern.sub(r'',text)\n",
        "\n",
        "data['Product_Description'] = data['Product_Description'].apply(remove_html_tags)\n",
        "\n",
        "## URL Removal\n",
        "def remove_url(text):\n",
        "  pattern = re.compile(r'https?://\\S+|www\\.\\S+')\n",
        "  return pattern.sub(r'',text)\n",
        "\n",
        "data['Product_Description'] = data['Product_Description'].apply(remove_url)\n",
        "\n",
        "## Punctuation Removal\n",
        "import string\n",
        "exclude = string.punctuation\n",
        "def remove_punc(text):\n",
        "  return text.translate(str.maketrans('','',exclude))\n",
        "\n",
        "data['Product_Description'] = data['Product_Description'].apply(remove_punc)\n",
        "\n",
        "## Stopwords Removal\n",
        "nltk.download('stopwords')\n",
        "from nltk.corpus import stopwords\n",
        "stop_words = stopwords.words('english')\n",
        "def remove_stopwords(text):\n",
        "  return ' '.join([word for word in text.split() if word not in stop_words])\n",
        "\n",
        "data['Product_Description'] = data['Product_Description'].apply(remove_stopwords)\n",
        "\n",
        "## Emoji Replacement\n",
        "import emoji\n",
        "def convert_emojis(text):\n",
        "  return emoji.demojize(text)\n",
        "\n",
        "data['Product_Description'] = data['Product_Description'].apply(convert_emojis)\n",
        "data.head()\n"
      ],
      "metadata": {
        "colab": {
          "base_uri": "https://localhost:8080/",
          "height": 241
        },
        "id": "YoprwQCIHSV6",
        "outputId": "85c26b10-20b1-4226-829a-7769a29843d1"
      },
      "execution_count": 21,
      "outputs": [
        {
          "output_type": "stream",
          "name": "stderr",
          "text": [
            "[nltk_data] Downloading package stopwords to /root/nltk_data...\n",
            "[nltk_data]   Package stopwords is already up-to-date!\n"
          ]
        },
        {
          "output_type": "execute_result",
          "data": {
            "text/plain": [
              "   Text_ID                                Product_Description  Product_Type  \\\n",
              "0     3057  web designerûªs guide ios android apps today ...             9   \n",
              "1     6254  rt mention line ipad 2 longer today yesterday ...             9   \n",
              "2     8212  crazy apple opening temporary store austin tom...             9   \n",
              "3     4422  lesson google one pass digital environment use...             9   \n",
              "4     5526  rt mention panel quotyour mom ipad designing b...             9   \n",
              "\n",
              "   Sentiment  \n",
              "0          2  \n",
              "1          2  \n",
              "2          2  \n",
              "3          2  \n",
              "4          2  "
            ],
            "text/html": [
              "\n",
              "  <div id=\"df-540d7312-bee5-4d99-9d7d-5fab44fdcb7b\" class=\"colab-df-container\">\n",
              "    <div>\n",
              "<style scoped>\n",
              "    .dataframe tbody tr th:only-of-type {\n",
              "        vertical-align: middle;\n",
              "    }\n",
              "\n",
              "    .dataframe tbody tr th {\n",
              "        vertical-align: top;\n",
              "    }\n",
              "\n",
              "    .dataframe thead th {\n",
              "        text-align: right;\n",
              "    }\n",
              "</style>\n",
              "<table border=\"1\" class=\"dataframe\">\n",
              "  <thead>\n",
              "    <tr style=\"text-align: right;\">\n",
              "      <th></th>\n",
              "      <th>Text_ID</th>\n",
              "      <th>Product_Description</th>\n",
              "      <th>Product_Type</th>\n",
              "      <th>Sentiment</th>\n",
              "    </tr>\n",
              "  </thead>\n",
              "  <tbody>\n",
              "    <tr>\n",
              "      <th>0</th>\n",
              "      <td>3057</td>\n",
              "      <td>web designerûªs guide ios android apps today ...</td>\n",
              "      <td>9</td>\n",
              "      <td>2</td>\n",
              "    </tr>\n",
              "    <tr>\n",
              "      <th>1</th>\n",
              "      <td>6254</td>\n",
              "      <td>rt mention line ipad 2 longer today yesterday ...</td>\n",
              "      <td>9</td>\n",
              "      <td>2</td>\n",
              "    </tr>\n",
              "    <tr>\n",
              "      <th>2</th>\n",
              "      <td>8212</td>\n",
              "      <td>crazy apple opening temporary store austin tom...</td>\n",
              "      <td>9</td>\n",
              "      <td>2</td>\n",
              "    </tr>\n",
              "    <tr>\n",
              "      <th>3</th>\n",
              "      <td>4422</td>\n",
              "      <td>lesson google one pass digital environment use...</td>\n",
              "      <td>9</td>\n",
              "      <td>2</td>\n",
              "    </tr>\n",
              "    <tr>\n",
              "      <th>4</th>\n",
              "      <td>5526</td>\n",
              "      <td>rt mention panel quotyour mom ipad designing b...</td>\n",
              "      <td>9</td>\n",
              "      <td>2</td>\n",
              "    </tr>\n",
              "  </tbody>\n",
              "</table>\n",
              "</div>\n",
              "    <div class=\"colab-df-buttons\">\n",
              "\n",
              "  <div class=\"colab-df-container\">\n",
              "    <button class=\"colab-df-convert\" onclick=\"convertToInteractive('df-540d7312-bee5-4d99-9d7d-5fab44fdcb7b')\"\n",
              "            title=\"Convert this dataframe to an interactive table.\"\n",
              "            style=\"display:none;\">\n",
              "\n",
              "  <svg xmlns=\"http://www.w3.org/2000/svg\" height=\"24px\" viewBox=\"0 -960 960 960\">\n",
              "    <path d=\"M120-120v-720h720v720H120Zm60-500h600v-160H180v160Zm220 220h160v-160H400v160Zm0 220h160v-160H400v160ZM180-400h160v-160H180v160Zm440 0h160v-160H620v160ZM180-180h160v-160H180v160Zm440 0h160v-160H620v160Z\"/>\n",
              "  </svg>\n",
              "    </button>\n",
              "\n",
              "  <style>\n",
              "    .colab-df-container {\n",
              "      display:flex;\n",
              "      gap: 12px;\n",
              "    }\n",
              "\n",
              "    .colab-df-convert {\n",
              "      background-color: #E8F0FE;\n",
              "      border: none;\n",
              "      border-radius: 50%;\n",
              "      cursor: pointer;\n",
              "      display: none;\n",
              "      fill: #1967D2;\n",
              "      height: 32px;\n",
              "      padding: 0 0 0 0;\n",
              "      width: 32px;\n",
              "    }\n",
              "\n",
              "    .colab-df-convert:hover {\n",
              "      background-color: #E2EBFA;\n",
              "      box-shadow: 0px 1px 2px rgba(60, 64, 67, 0.3), 0px 1px 3px 1px rgba(60, 64, 67, 0.15);\n",
              "      fill: #174EA6;\n",
              "    }\n",
              "\n",
              "    .colab-df-buttons div {\n",
              "      margin-bottom: 4px;\n",
              "    }\n",
              "\n",
              "    [theme=dark] .colab-df-convert {\n",
              "      background-color: #3B4455;\n",
              "      fill: #D2E3FC;\n",
              "    }\n",
              "\n",
              "    [theme=dark] .colab-df-convert:hover {\n",
              "      background-color: #434B5C;\n",
              "      box-shadow: 0px 1px 3px 1px rgba(0, 0, 0, 0.15);\n",
              "      filter: drop-shadow(0px 1px 2px rgba(0, 0, 0, 0.3));\n",
              "      fill: #FFFFFF;\n",
              "    }\n",
              "  </style>\n",
              "\n",
              "    <script>\n",
              "      const buttonEl =\n",
              "        document.querySelector('#df-540d7312-bee5-4d99-9d7d-5fab44fdcb7b button.colab-df-convert');\n",
              "      buttonEl.style.display =\n",
              "        google.colab.kernel.accessAllowed ? 'block' : 'none';\n",
              "\n",
              "      async function convertToInteractive(key) {\n",
              "        const element = document.querySelector('#df-540d7312-bee5-4d99-9d7d-5fab44fdcb7b');\n",
              "        const dataTable =\n",
              "          await google.colab.kernel.invokeFunction('convertToInteractive',\n",
              "                                                    [key], {});\n",
              "        if (!dataTable) return;\n",
              "\n",
              "        const docLinkHtml = 'Like what you see? Visit the ' +\n",
              "          '<a target=\"_blank\" href=https://colab.research.google.com/notebooks/data_table.ipynb>data table notebook</a>'\n",
              "          + ' to learn more about interactive tables.';\n",
              "        element.innerHTML = '';\n",
              "        dataTable['output_type'] = 'display_data';\n",
              "        await google.colab.output.renderOutput(dataTable, element);\n",
              "        const docLink = document.createElement('div');\n",
              "        docLink.innerHTML = docLinkHtml;\n",
              "        element.appendChild(docLink);\n",
              "      }\n",
              "    </script>\n",
              "  </div>\n",
              "\n",
              "\n",
              "<div id=\"df-67de184d-c0f9-487f-bc9e-7b1f4b721131\">\n",
              "  <button class=\"colab-df-quickchart\" onclick=\"quickchart('df-67de184d-c0f9-487f-bc9e-7b1f4b721131')\"\n",
              "            title=\"Suggest charts\"\n",
              "            style=\"display:none;\">\n",
              "\n",
              "<svg xmlns=\"http://www.w3.org/2000/svg\" height=\"24px\"viewBox=\"0 0 24 24\"\n",
              "     width=\"24px\">\n",
              "    <g>\n",
              "        <path d=\"M19 3H5c-1.1 0-2 .9-2 2v14c0 1.1.9 2 2 2h14c1.1 0 2-.9 2-2V5c0-1.1-.9-2-2-2zM9 17H7v-7h2v7zm4 0h-2V7h2v10zm4 0h-2v-4h2v4z\"/>\n",
              "    </g>\n",
              "</svg>\n",
              "  </button>\n",
              "\n",
              "<style>\n",
              "  .colab-df-quickchart {\n",
              "      --bg-color: #E8F0FE;\n",
              "      --fill-color: #1967D2;\n",
              "      --hover-bg-color: #E2EBFA;\n",
              "      --hover-fill-color: #174EA6;\n",
              "      --disabled-fill-color: #AAA;\n",
              "      --disabled-bg-color: #DDD;\n",
              "  }\n",
              "\n",
              "  [theme=dark] .colab-df-quickchart {\n",
              "      --bg-color: #3B4455;\n",
              "      --fill-color: #D2E3FC;\n",
              "      --hover-bg-color: #434B5C;\n",
              "      --hover-fill-color: #FFFFFF;\n",
              "      --disabled-bg-color: #3B4455;\n",
              "      --disabled-fill-color: #666;\n",
              "  }\n",
              "\n",
              "  .colab-df-quickchart {\n",
              "    background-color: var(--bg-color);\n",
              "    border: none;\n",
              "    border-radius: 50%;\n",
              "    cursor: pointer;\n",
              "    display: none;\n",
              "    fill: var(--fill-color);\n",
              "    height: 32px;\n",
              "    padding: 0;\n",
              "    width: 32px;\n",
              "  }\n",
              "\n",
              "  .colab-df-quickchart:hover {\n",
              "    background-color: var(--hover-bg-color);\n",
              "    box-shadow: 0 1px 2px rgba(60, 64, 67, 0.3), 0 1px 3px 1px rgba(60, 64, 67, 0.15);\n",
              "    fill: var(--button-hover-fill-color);\n",
              "  }\n",
              "\n",
              "  .colab-df-quickchart-complete:disabled,\n",
              "  .colab-df-quickchart-complete:disabled:hover {\n",
              "    background-color: var(--disabled-bg-color);\n",
              "    fill: var(--disabled-fill-color);\n",
              "    box-shadow: none;\n",
              "  }\n",
              "\n",
              "  .colab-df-spinner {\n",
              "    border: 2px solid var(--fill-color);\n",
              "    border-color: transparent;\n",
              "    border-bottom-color: var(--fill-color);\n",
              "    animation:\n",
              "      spin 1s steps(1) infinite;\n",
              "  }\n",
              "\n",
              "  @keyframes spin {\n",
              "    0% {\n",
              "      border-color: transparent;\n",
              "      border-bottom-color: var(--fill-color);\n",
              "      border-left-color: var(--fill-color);\n",
              "    }\n",
              "    20% {\n",
              "      border-color: transparent;\n",
              "      border-left-color: var(--fill-color);\n",
              "      border-top-color: var(--fill-color);\n",
              "    }\n",
              "    30% {\n",
              "      border-color: transparent;\n",
              "      border-left-color: var(--fill-color);\n",
              "      border-top-color: var(--fill-color);\n",
              "      border-right-color: var(--fill-color);\n",
              "    }\n",
              "    40% {\n",
              "      border-color: transparent;\n",
              "      border-right-color: var(--fill-color);\n",
              "      border-top-color: var(--fill-color);\n",
              "    }\n",
              "    60% {\n",
              "      border-color: transparent;\n",
              "      border-right-color: var(--fill-color);\n",
              "    }\n",
              "    80% {\n",
              "      border-color: transparent;\n",
              "      border-right-color: var(--fill-color);\n",
              "      border-bottom-color: var(--fill-color);\n",
              "    }\n",
              "    90% {\n",
              "      border-color: transparent;\n",
              "      border-bottom-color: var(--fill-color);\n",
              "    }\n",
              "  }\n",
              "</style>\n",
              "\n",
              "  <script>\n",
              "    async function quickchart(key) {\n",
              "      const quickchartButtonEl =\n",
              "        document.querySelector('#' + key + ' button');\n",
              "      quickchartButtonEl.disabled = true;  // To prevent multiple clicks.\n",
              "      quickchartButtonEl.classList.add('colab-df-spinner');\n",
              "      try {\n",
              "        const charts = await google.colab.kernel.invokeFunction(\n",
              "            'suggestCharts', [key], {});\n",
              "      } catch (error) {\n",
              "        console.error('Error during call to suggestCharts:', error);\n",
              "      }\n",
              "      quickchartButtonEl.classList.remove('colab-df-spinner');\n",
              "      quickchartButtonEl.classList.add('colab-df-quickchart-complete');\n",
              "    }\n",
              "    (() => {\n",
              "      let quickchartButtonEl =\n",
              "        document.querySelector('#df-67de184d-c0f9-487f-bc9e-7b1f4b721131 button');\n",
              "      quickchartButtonEl.style.display =\n",
              "        google.colab.kernel.accessAllowed ? 'block' : 'none';\n",
              "    })();\n",
              "  </script>\n",
              "</div>\n",
              "\n",
              "    </div>\n",
              "  </div>\n"
            ],
            "application/vnd.google.colaboratory.intrinsic+json": {
              "type": "dataframe",
              "variable_name": "data",
              "summary": "{\n  \"name\": \"data\",\n  \"rows\": 6364,\n  \"fields\": [\n    {\n      \"column\": \"Text_ID\",\n      \"properties\": {\n        \"dtype\": \"number\",\n        \"std\": 2621,\n        \"min\": 1,\n        \"max\": 9092,\n        \"num_unique_values\": 6364,\n        \"samples\": [\n          2144,\n          9037,\n          5167\n        ],\n        \"semantic_type\": \"\",\n        \"description\": \"\"\n      }\n    },\n    {\n      \"column\": \"Product_Description\",\n      \"properties\": {\n        \"dtype\": \"string\",\n        \"num_unique_values\": 6272,\n        \"samples\": [\n          \"imagine every company 20 concept like google bavcid sxsw\",\n          \"reactions google circles news far range quotnot againquot quotplease rescue facebookquot sxsw\",\n          \"rt mention google launch major new social network called circles possibly today mention sxsw sxswi link\"\n        ],\n        \"semantic_type\": \"\",\n        \"description\": \"\"\n      }\n    },\n    {\n      \"column\": \"Product_Type\",\n      \"properties\": {\n        \"dtype\": \"number\",\n        \"std\": 2,\n        \"min\": 0,\n        \"max\": 9,\n        \"num_unique_values\": 10,\n        \"samples\": [\n          1,\n          6,\n          3\n        ],\n        \"semantic_type\": \"\",\n        \"description\": \"\"\n      }\n    },\n    {\n      \"column\": \"Sentiment\",\n      \"properties\": {\n        \"dtype\": \"number\",\n        \"std\": 0,\n        \"min\": 0,\n        \"max\": 3,\n        \"num_unique_values\": 4,\n        \"samples\": [\n          1,\n          0,\n          2\n        ],\n        \"semantic_type\": \"\",\n        \"description\": \"\"\n      }\n    }\n  ]\n}"
            }
          },
          "metadata": {},
          "execution_count": 21
        }
      ]
    },
    {
      "cell_type": "code",
      "source": [
        "x = data['Product_Description']\n",
        "y = data['Sentiment']\n",
        "x.shape,y.shape"
      ],
      "metadata": {
        "colab": {
          "base_uri": "https://localhost:8080/"
        },
        "id": "fyuTCBsBLn24",
        "outputId": "cdaa8ac1-9cbf-4edd-a5ca-ae70062fb52f"
      },
      "execution_count": 22,
      "outputs": [
        {
          "output_type": "execute_result",
          "data": {
            "text/plain": [
              "((6364,), (6364,))"
            ]
          },
          "metadata": {},
          "execution_count": 22
        }
      ]
    },
    {
      "cell_type": "markdown",
      "source": [
        "## Text Vectorization"
      ],
      "metadata": {
        "id": "v4F9tYVaL409"
      }
    },
    {
      "cell_type": "markdown",
      "source": [
        "### One Hot Encoding"
      ],
      "metadata": {
        "id": "CZVzCrVPN54U"
      }
    },
    {
      "cell_type": "code",
      "source": [
        "from sklearn.preprocessing import OneHotEncoder\n",
        "ohe = OneHotEncoder()\n",
        "x_ohe = ohe.fit_transform(x.values.reshape(-1,1)).toarray()\n",
        "x_ohe.shape"
      ],
      "metadata": {
        "colab": {
          "base_uri": "https://localhost:8080/"
        },
        "id": "neO7inRTN8l4",
        "outputId": "22c184cb-772b-42ee-976c-a23415a08384"
      },
      "execution_count": 23,
      "outputs": [
        {
          "output_type": "execute_result",
          "data": {
            "text/plain": [
              "(6364, 6272)"
            ]
          },
          "metadata": {},
          "execution_count": 23
        }
      ]
    },
    {
      "cell_type": "markdown",
      "source": [
        "### Bag of Words"
      ],
      "metadata": {
        "id": "lByBpIA5L8En"
      }
    },
    {
      "cell_type": "code",
      "source": [
        "from sklearn.feature_extraction.text import CountVectorizer\n",
        "cv = CountVectorizer()\n",
        "x_bow = cv.fit_transform(x).toarray()\n",
        "x_bow.shape"
      ],
      "metadata": {
        "colab": {
          "base_uri": "https://localhost:8080/"
        },
        "id": "grTjGljhL_It",
        "outputId": "82e07dc2-7f3a-4584-f1b7-6b9b5fbacbad"
      },
      "execution_count": 24,
      "outputs": [
        {
          "output_type": "execute_result",
          "data": {
            "text/plain": [
              "(6364, 9062)"
            ]
          },
          "metadata": {},
          "execution_count": 24
        }
      ]
    },
    {
      "cell_type": "markdown",
      "source": [
        "### N-Grams"
      ],
      "metadata": {
        "id": "gvtfJFcAMHi7"
      }
    },
    {
      "cell_type": "code",
      "source": [
        "from sklearn.feature_extraction.text import CountVectorizer\n",
        "cv = CountVectorizer(ngram_range=(1,2)) ##monograms + bi-grams\n",
        "x_ngrams = cv.fit_transform(x).toarray()\n",
        "x_ngrams.shape"
      ],
      "metadata": {
        "colab": {
          "base_uri": "https://localhost:8080/"
        },
        "id": "ZgITHoq6MKqS",
        "outputId": "12fef849-f7fc-4f6f-f655-e61fa1aafae5"
      },
      "execution_count": 25,
      "outputs": [
        {
          "output_type": "execute_result",
          "data": {
            "text/plain": [
              "(6364, 42043)"
            ]
          },
          "metadata": {},
          "execution_count": 25
        }
      ]
    },
    {
      "cell_type": "markdown",
      "source": [
        "### Tf-Idf"
      ],
      "metadata": {
        "id": "eGyCoTsSNxY5"
      }
    },
    {
      "cell_type": "code",
      "source": [
        "from sklearn.feature_extraction.text import TfidfVectorizer\n",
        "tfidf = TfidfVectorizer()\n",
        "x_tfidf = tfidf.fit_transform(x).toarray()\n",
        "x_tfidf.shape"
      ],
      "metadata": {
        "colab": {
          "base_uri": "https://localhost:8080/"
        },
        "id": "uMP0Jv-INz3X",
        "outputId": "bc252abd-2762-4db4-e272-f82320643d84"
      },
      "execution_count": 26,
      "outputs": [
        {
          "output_type": "execute_result",
          "data": {
            "text/plain": [
              "(6364, 9062)"
            ]
          },
          "metadata": {},
          "execution_count": 26
        }
      ]
    },
    {
      "cell_type": "markdown",
      "source": [
        "## Model Develpoment"
      ],
      "metadata": {
        "id": "HPvgaDNxOifO"
      }
    },
    {
      "cell_type": "code",
      "source": [
        "from sklearn.model_selection import train_test_split\n",
        "x_tf_idf_train,x_tf_idf_test,y_tf_idf_train,y_tf_idf_test = train_test_split(x_tfidf,y,test_size=0.2,random_state=42)\n",
        "x_bow_train,x_bow_test,y_bow_train,y_bow_test = train_test_split(x_bow,y,test_size=0.2,random_state=42)\n",
        "x_ngrams_train,x_ngrams_test,y_ngrams_train,y_ngrams_test = train_test_split(x_ngrams,y,test_size=0.2,random_state=42)\n",
        "x_ohe_train,x_ohe_test,y_ohe_train,y_ohe_test = train_test_split(x_ohe,y,test_size=0.2,random_state=42)"
      ],
      "metadata": {
        "id": "2dBqmsKROtve"
      },
      "execution_count": 27,
      "outputs": []
    },
    {
      "cell_type": "code",
      "source": [
        "x_tf_idf_train.shape,x_tf_idf_test.shape,y_tf_idf_train.shape,y_tf_idf_test.shape"
      ],
      "metadata": {
        "colab": {
          "base_uri": "https://localhost:8080/"
        },
        "id": "_YRJBAAdPD95",
        "outputId": "a1c506d9-9bdc-4bef-fb50-a6271b7a5c24"
      },
      "execution_count": 28,
      "outputs": [
        {
          "output_type": "execute_result",
          "data": {
            "text/plain": [
              "((5091, 9062), (1273, 9062), (5091,), (1273,))"
            ]
          },
          "metadata": {},
          "execution_count": 28
        }
      ]
    },
    {
      "cell_type": "code",
      "source": [
        "x_bow_train.shape,x_bow_test.shape,y_bow_train.shape,y_bow_test.shape"
      ],
      "metadata": {
        "colab": {
          "base_uri": "https://localhost:8080/"
        },
        "id": "JqbcoR8rPGvj",
        "outputId": "de498de8-e59c-4df3-8c1d-46a801f50d46"
      },
      "execution_count": 29,
      "outputs": [
        {
          "output_type": "execute_result",
          "data": {
            "text/plain": [
              "((5091, 9062), (1273, 9062), (5091,), (1273,))"
            ]
          },
          "metadata": {},
          "execution_count": 29
        }
      ]
    },
    {
      "cell_type": "code",
      "source": [
        "x_ngrams_train.shape,x_ngrams_test.shape,y_ngrams_train.shape,y_ngrams_test.shape"
      ],
      "metadata": {
        "colab": {
          "base_uri": "https://localhost:8080/"
        },
        "id": "1wFN4M-5PI4G",
        "outputId": "75805761-902d-43e8-f15f-3763bb8d8834"
      },
      "execution_count": 30,
      "outputs": [
        {
          "output_type": "execute_result",
          "data": {
            "text/plain": [
              "((5091, 42043), (1273, 42043), (5091,), (1273,))"
            ]
          },
          "metadata": {},
          "execution_count": 30
        }
      ]
    },
    {
      "cell_type": "code",
      "source": [
        "x_ohe_train.shape,x_ohe_test.shape,y_ohe_train.shape,y_ohe_test.shape"
      ],
      "metadata": {
        "colab": {
          "base_uri": "https://localhost:8080/"
        },
        "id": "PBVu6s1IPLA-",
        "outputId": "f50864a9-5edc-40ed-c18d-a9769e64f486"
      },
      "execution_count": 31,
      "outputs": [
        {
          "output_type": "execute_result",
          "data": {
            "text/plain": [
              "((5091, 6272), (1273, 6272), (5091,), (1273,))"
            ]
          },
          "metadata": {},
          "execution_count": 31
        }
      ]
    },
    {
      "cell_type": "markdown",
      "source": [
        "### Naive Bayes"
      ],
      "metadata": {
        "id": "7JkDhjDpOmYZ"
      }
    },
    {
      "cell_type": "code",
      "source": [
        "from sklearn.naive_bayes import MultinomialNB\n",
        "from sklearn.metrics import accuracy_score,confusion_matrix,classification_report, ConfusionMatrixDisplay"
      ],
      "metadata": {
        "id": "CIo17b2LPVXF"
      },
      "execution_count": 32,
      "outputs": []
    },
    {
      "cell_type": "markdown",
      "source": [
        "#### One Hot Encoded Data"
      ],
      "metadata": {
        "id": "NBaoI5ZbPO3y"
      }
    },
    {
      "cell_type": "code",
      "source": [
        "nb_ohe = MultinomialNB()\n",
        "nb_ohe.fit(x_ohe_train,y_ohe_train)\n",
        "y_pred_ohe = nb_ohe.predict(x_ohe_test)\n",
        "print(accuracy_score(y_ohe_test,y_pred_ohe))\n",
        "ConfusionMatrixDisplay(confusion_matrix(y_ohe_test,y_pred_ohe)).plot()"
      ],
      "metadata": {
        "colab": {
          "base_uri": "https://localhost:8080/",
          "height": 484
        },
        "id": "isQJSng4OrmS",
        "outputId": "df7cc7f7-fb35-4048-946b-e86192dffd02"
      },
      "execution_count": 33,
      "outputs": [
        {
          "output_type": "stream",
          "name": "stdout",
          "text": [
            "0.605655930871956\n"
          ]
        },
        {
          "output_type": "execute_result",
          "data": {
            "text/plain": [
              "<sklearn.metrics._plot.confusion_matrix.ConfusionMatrixDisplay at 0x7a74e0de6f20>"
            ]
          },
          "metadata": {},
          "execution_count": 33
        },
        {
          "output_type": "display_data",
          "data": {
            "text/plain": [
              "<Figure size 640x480 with 2 Axes>"
            ],
            "image/png": "[encoded data removed]"
          },
          "metadata": {}
        }
      ]
    },
    {
      "cell_type": "markdown",
      "source": [
        "#### Bag of Words"
      ],
      "metadata": {
        "id": "vE-tKSnGQFe-"
      }
    },
    {
      "cell_type": "code",
      "source": [
        "nb_bow = MultinomialNB()\n",
        "nb_bow.fit(x_bow_train,y_bow_train)\n",
        "y_pred_bow = nb_bow.predict(x_bow_test)\n",
        "print(accuracy_score(y_bow_test,y_pred_bow))\n",
        "ConfusionMatrixDisplay(confusion_matrix(y_bow_test,y_pred_bow)).plot()"
      ],
      "metadata": {
        "colab": {
          "base_uri": "https://localhost:8080/",
          "height": 484
        },
        "id": "VjNlfosRQIf3",
        "outputId": "33e8aa0b-460e-4f6e-bc8f-1388e66cf86a"
      },
      "execution_count": 34,
      "outputs": [
        {
          "output_type": "stream",
          "name": "stdout",
          "text": [
            "0.6590730557737627\n"
          ]
        },
        {
          "output_type": "execute_result",
          "data": {
            "text/plain": [
              "<sklearn.metrics._plot.confusion_matrix.ConfusionMatrixDisplay at 0x7a751f683c10>"
            ]
          },
          "metadata": {},
          "execution_count": 34
        },
        {
          "output_type": "display_data",
          "data": {
            "text/plain": [
              "<Figure size 640x480 with 2 Axes>"
            ],
            "image/png": "[encoded data removed]"
          },
          "metadata": {}
        }
      ]
    },
    {
      "cell_type": "markdown",
      "source": [
        "#### N-Grams"
      ],
      "metadata": {
        "id": "Ek_YXMAWQ0qU"
      }
    },
    {
      "cell_type": "code",
      "source": [
        "nb_ngrams = MultinomialNB()\n",
        "nb_ngrams.fit(x_ngrams_train,y_ngrams_train)\n",
        "y_pred_ngrams = nb_ngrams.predict(x_ngrams_test)\n",
        "print(accuracy_score(y_ngrams_test,y_pred_ngrams))\n",
        "ConfusionMatrixDisplay(confusion_matrix(y_ngrams_test,y_pred_ngrams)).plot()"
      ],
      "metadata": {
        "colab": {
          "base_uri": "https://localhost:8080/",
          "height": 484
        },
        "id": "P5Kt8MMRQ3kx",
        "outputId": "cdf17605-45d6-43a4-c809-9e760c0700d4"
      },
      "execution_count": 35,
      "outputs": [
        {
          "output_type": "stream",
          "name": "stdout",
          "text": [
            "0.6355066771406127\n"
          ]
        },
        {
          "output_type": "execute_result",
          "data": {
            "text/plain": [
              "<sklearn.metrics._plot.confusion_matrix.ConfusionMatrixDisplay at 0x7a74e0e2fbb0>"
            ]
          },
          "metadata": {},
          "execution_count": 35
        },
        {
          "output_type": "display_data",
          "data": {
            "text/plain": [
              "<Figure size 640x480 with 2 Axes>"
            ],
            "image/png": "[encoded data removed]"
          },
          "metadata": {}
        }
      ]
    },
    {
      "cell_type": "markdown",
      "source": [
        "#### Tf-Idf"
      ],
      "metadata": {
        "id": "csQHPZbLQ_he"
      }
    },
    {
      "cell_type": "code",
      "source": [
        "nb_tfidf = MultinomialNB()\n",
        "nb_tfidf.fit(x_tf_idf_train,y_tf_idf_train)\n",
        "y_pred_tfidf = nb_tfidf.predict(x_tf_idf_test)\n",
        "print(accuracy_score(y_tf_idf_test,y_pred_tfidf))\n",
        "ConfusionMatrixDisplay(confusion_matrix(y_tf_idf_test,y_pred_tfidf)).plot()"
      ],
      "metadata": {
        "colab": {
          "base_uri": "https://localhost:8080/",
          "height": 484
        },
        "id": "_vsx0R4WRBQT",
        "outputId": "9ea7df26-8065-4539-81c8-fbd7d8acf29c"
      },
      "execution_count": 36,
      "outputs": [
        {
          "output_type": "stream",
          "name": "stdout",
          "text": [
            "0.6504320502749411\n"
          ]
        },
        {
          "output_type": "execute_result",
          "data": {
            "text/plain": [
              "<sklearn.metrics._plot.confusion_matrix.ConfusionMatrixDisplay at 0x7a74af7d5de0>"
            ]
          },
          "metadata": {},
          "execution_count": 36
        },
        {
          "output_type": "display_data",
          "data": {
            "text/plain": [
              "<Figure size 640x480 with 2 Axes>"
            ],
            "image/png": "[encoded data removed]"
          },
          "metadata": {}
        }
      ]
    },
    {
      "cell_type": "markdown",
      "source": [
        "### Random Forest"
      ],
      "metadata": {
        "id": "2citTzvuRL-f"
      }
    },
    {
      "cell_type": "markdown",
      "source": [
        "#### One Hot Encoder"
      ],
      "metadata": {
        "id": "2E2Kmvq-RPgJ"
      }
    },
    {
      "cell_type": "code",
      "source": [
        "import sklearn.ensemble as ensemble\n",
        "rf_ohe = ensemble.RandomForestClassifier()\n",
        "rf_ohe.fit(x_ohe_train,y_ohe_train)\n",
        "y_pred_ohe = rf_ohe.predict(x_ohe_test)\n",
        "print(accuracy_score(y_ohe_test,y_pred_ohe))\n",
        "ConfusionMatrixDisplay(confusion_matrix(y_ohe_test,y_pred_ohe)).plot()"
      ],
      "metadata": {
        "colab": {
          "base_uri": "https://localhost:8080/",
          "height": 484
        },
        "id": "h20KAa17ROq3",
        "outputId": "bfec7286-1462-4151-d8ec-0fda332dd430"
      },
      "execution_count": 37,
      "outputs": [
        {
          "output_type": "stream",
          "name": "stdout",
          "text": [
            "0.6048703849175177\n"
          ]
        },
        {
          "output_type": "execute_result",
          "data": {
            "text/plain": [
              "<sklearn.metrics._plot.confusion_matrix.ConfusionMatrixDisplay at 0x7a74af95d0c0>"
            ]
          },
          "metadata": {},
          "execution_count": 37
        },
        {
          "output_type": "display_data",
          "data": {
            "text/plain": [
              "<Figure size 640x480 with 2 Axes>"
            ],
            "image/png": "[encoded data removed]"
          },
          "metadata": {}
        }
      ]
    },
    {
      "cell_type": "markdown",
      "source": [
        "#### Bag of Words"
      ],
      "metadata": {
        "id": "woNhnV4oRaq1"
      }
    },
    {
      "cell_type": "code",
      "source": [
        "import sklearn.ensemble as ensemble\n",
        "rf_bow = ensemble.RandomForestClassifier()\n",
        "rf_bow.fit(x_bow_train,y_bow_train)\n",
        "y_pred_bow = rf_bow.predict(x_bow_test)\n",
        "print(accuracy_score(y_bow_test,y_pred_bow))\n",
        "ConfusionMatrixDisplay(confusion_matrix(y_bow_test,y_pred_bow)).plot()"
      ],
      "metadata": {
        "colab": {
          "base_uri": "https://localhost:8080/",
          "height": 484
        },
        "id": "3csdYqXxRd7K",
        "outputId": "bc50820d-b00a-4b6a-b026-26f1b0c605bd"
      },
      "execution_count": 38,
      "outputs": [
        {
          "output_type": "stream",
          "name": "stdout",
          "text": [
            "0.6787117046347211\n"
          ]
        },
        {
          "output_type": "execute_result",
          "data": {
            "text/plain": [
              "<sklearn.metrics._plot.confusion_matrix.ConfusionMatrixDisplay at 0x7a734a428ee0>"
            ]
          },
          "metadata": {},
          "execution_count": 38
        },
        {
          "output_type": "display_data",
          "data": {
            "text/plain": [
              "<Figure size 640x480 with 2 Axes>"
            ],
            "image/png": "[encoded data removed]"
          },
          "metadata": {}
        }
      ]
    },
    {
      "cell_type": "markdown",
      "source": [
        "#### N-Grams"
      ],
      "metadata": {
        "id": "1eNSF5_ERiVe"
      }
    },
    {
      "cell_type": "code",
      "source": [
        "import sklearn.ensemble as ensemble\n",
        "rf_ngrams = ensemble.RandomForestClassifier()\n",
        "rf_ngrams.fit(x_ngrams_train,y_ngrams_train)\n",
        "y_ngrams_pred = rf_ngrams.predict(x_ngrams_test)\n",
        "print(accuracy_score(y_ngrams_test,y_ngrams_pred))\n",
        "ConfusionMatrixDisplay(confusion_matrix(y_ngrams_test,y_ngrams_pred)).plot()"
      ],
      "metadata": {
        "colab": {
          "base_uri": "https://localhost:8080/",
          "height": 489
        },
        "id": "dzVPJGBkRlHO",
        "outputId": "7d94b2b2-7d35-4de9-fd8c-4df4ae4176ab"
      },
      "execution_count": 39,
      "outputs": [
        {
          "output_type": "stream",
          "name": "stdout",
          "text": [
            "0.6598586017282011\n"
          ]
        },
        {
          "output_type": "execute_result",
          "data": {
            "text/plain": [
              "<sklearn.metrics._plot.confusion_matrix.ConfusionMatrixDisplay at 0x7a734a3d43d0>"
            ]
          },
          "metadata": {},
          "execution_count": 39
        },
        {
          "output_type": "display_data",
          "data": {
            "text/plain": [
              "<Figure size 640x480 with 2 Axes>"
            ],
            "image/png": "[encoded data removed]"
          },
          "metadata": {}
        }
      ]
    },
    {
      "cell_type": "markdown",
      "source": [
        "#### Tf-Idf"
      ],
      "metadata": {
        "id": "7MOvOJMwRpYx"
      }
    },
    {
      "cell_type": "code",
      "source": [
        "import sklearn.ensemble as ensemble\n",
        "rf_tfidf = ensemble.RandomForestClassifier()\n",
        "rf_tfidf.fit(x_tf_idf_train,y_tf_idf_train)\n",
        "y_pred_tfidf = rf_tfidf.predict(x_tf_idf_test)\n",
        "print(accuracy_score(y_tf_idf_test,y_pred_tfidf))\n",
        "ConfusionMatrixDisplay(confusion_matrix(y_tf_idf_test,y_pred_tfidf)).plot()"
      ],
      "metadata": {
        "colab": {
          "base_uri": "https://localhost:8080/",
          "height": 489
        },
        "id": "vvYX39c3Rr9Z",
        "outputId": "02c34410-fa73-4925-ca54-9af276f732a3"
      },
      "execution_count": 40,
      "outputs": [
        {
          "output_type": "stream",
          "name": "stdout",
          "text": [
            "0.6739984289080911\n"
          ]
        },
        {
          "output_type": "execute_result",
          "data": {
            "text/plain": [
              "<sklearn.metrics._plot.confusion_matrix.ConfusionMatrixDisplay at 0x7a734a239690>"
            ]
          },
          "metadata": {},
          "execution_count": 40
        },
        {
          "output_type": "display_data",
          "data": {
            "text/plain": [
              "<Figure size 640x480 with 2 Axes>"
            ],
            "image/png": "[encoded data removed]"
          },
          "metadata": {}
        }
      ]
    },
    {
      "cell_type": "markdown",
      "source": [
        "### Accuracy Improvement\n",
        "- Though we have tries different Vectorization Techniques with Different ML techniques, the accuracy is not more than 70% for any model.\n",
        "- Method-1 : Use max_feature hyperparameter."
      ],
      "metadata": {
        "id": "iJ30FmW7TNEP"
      }
    },
    {
      "cell_type": "code",
      "source": [
        "## Choosing Random Forest + Tf-Idf as it has given maximum accuracy\n",
        "## Changing the tf-idf method to max_features = x\n",
        "\n",
        "# Text- Reprentation (Vectorization)\n",
        "from sklearn.feature_extraction.text import TfidfVectorizer\n",
        "tfidf = TfidfVectorizer(max_features=3000)\n",
        "x_tfidf = tfidf.fit_transform(x).toarray()\n",
        "print(x_tfidf.shape)\n",
        "\n",
        "# Splitting\n",
        "from sklearn.model_selection import train_test_split\n",
        "x_tf_idf_train,x_tf_idf_test,y_tf_idf_train,y_tf_idf_test = train_test_split(x_tfidf,y,test_size=0.2,random_state=42)\n",
        "\n",
        "# Creating the model\n",
        "import sklearn.ensemble as ensemble\n",
        "rf_tfidf = ensemble.RandomForestClassifier()\n",
        "rf_tfidf.fit(x_tf_idf_train,y_tf_idf_train)\n",
        "y_pred_tfidf = rf_tfidf.predict(x_tf_idf_test)\n",
        "print(accuracy_score(y_tf_idf_test,y_pred_tfidf))\n",
        "ConfusionMatrixDisplay(confusion_matrix(y_tf_idf_test,y_pred_tfidf)).plot()"
      ],
      "metadata": {
        "colab": {
          "base_uri": "https://localhost:8080/",
          "height": 501
        },
        "id": "ncTiqXPQTt0H",
        "outputId": "ea2ab8b1-2feb-42d0-edba-3985154dcc5c"
      },
      "execution_count": 41,
      "outputs": [
        {
          "output_type": "stream",
          "name": "stdout",
          "text": [
            "(6364, 3000)\n",
            "0.6794972505891594\n"
          ]
        },
        {
          "output_type": "execute_result",
          "data": {
            "text/plain": [
              "<sklearn.metrics._plot.confusion_matrix.ConfusionMatrixDisplay at 0x7a734a1dbfa0>"
            ]
          },
          "metadata": {},
          "execution_count": 41
        },
        {
          "output_type": "display_data",
          "data": {
            "text/plain": [
              "<Figure size 640x480 with 2 Axes>"
            ],
            "image/png": "[encoded data removed]"
          },
          "metadata": {}
        }
      ]
    },
    {
      "cell_type": "markdown",
      "source": [
        "- In this case, not improved."
      ],
      "metadata": {
        "id": "q4dHvizSZxZt"
      }
    },
    {
      "cell_type": "markdown",
      "source": [
        "### Some Problems that might Happen if we have a large Corpus\n",
        "\n",
        "|No |Problem|Solution|\n",
        "|--|---------|--------|\n",
        "|1.| Memory Issue | max_features = 5000(in CountVectorizer) |\n"
      ],
      "metadata": {
        "id": "RQmOiV5HSFEh"
      }
    },
    {
      "cell_type": "code",
      "source": [
        "# # Text- Reprentation (Vectorization)\n",
        "# from sklearn.feature_extraction.text import CountVectorizer\n",
        "# cv = CountVectorizer(ngram_range=(1,100))\n",
        "# x_n_gram = cv .fit_transform(x).toarray()\n",
        "# print(x_n_gram.shape)\n",
        "\n",
        "# # Splitting\n",
        "# from sklearn.model_selection import train_test_split\n",
        "# x_n_gram_train,x_n_gram_test,y_n_gram_train,y_n_gram_test = train_test_split(x_n_gram,y,test_size=0.2,random_state=42)\n",
        "\n",
        "# # Creating the model\n",
        "# import sklearn.ensemble as ensemble\n",
        "# rf_n_gram = ensemble.RandomForestClassifier()\n",
        "# rf_n_gram.fit(x_n_gram_train,y_n_gram_train)\n",
        "# y_pred_n_gram = rf_n_gram.predict(x_n_gram_test)\n",
        "# print(accuracy_score(y_n_gram_test,y_pred_n_gram))\n",
        "# ConfusionMatrixDisplay(confusion_matrix(y_n_gram_test,y_pred_n_gram)).plot()"
      ],
      "metadata": {
        "id": "cBqNILcBaWGR"
      },
      "execution_count": 42,
      "outputs": []
    },
    {
      "cell_type": "markdown",
      "source": [
        "**Above code has made the system crashed by taking all ram.So, update requried is max_features = ?**"
      ],
      "metadata": {
        "id": "6CQElAe_g5fc"
      }
    },
    {
      "cell_type": "code",
      "source": [
        "# Text- Reprentation (Vectorization)\n",
        "from sklearn.feature_extraction.text import CountVectorizer\n",
        "cv = CountVectorizer(ngram_range=(1,100),max_features=5000)\n",
        "x_n_gram = cv .fit_transform(x).toarray()\n",
        "print(x_n_gram.shape)\n",
        "\n",
        "# Splitting\n",
        "from sklearn.model_selection import train_test_split\n",
        "x_n_gram_train,x_n_gram_test,y_n_gram_train,y_n_gram_test = train_test_split(x_n_gram,y,test_size=0.2,random_state=42)\n",
        "\n",
        "# Creating the model\n",
        "import sklearn.ensemble as ensemble\n",
        "rf_n_gram = ensemble.RandomForestClassifier()\n",
        "rf_n_gram.fit(x_n_gram_train,y_n_gram_train)\n",
        "y_pred_n_gram = rf_n_gram.predict(x_n_gram_test)\n",
        "print(accuracy_score(y_n_gram_test,y_pred_n_gram))\n",
        "ConfusionMatrixDisplay(confusion_matrix(y_n_gram_test,y_pred_n_gram)).plot()"
      ],
      "metadata": {
        "colab": {
          "base_uri": "https://localhost:8080/",
          "height": 501
        },
        "id": "90EPpMQohEWK",
        "outputId": "12779f37-7a20-4b53-99b8-d4a6a49e361d"
      },
      "execution_count": 43,
      "outputs": [
        {
          "output_type": "stream",
          "name": "stdout",
          "text": [
            "(6364, 5000)\n",
            "0.6834249803613511\n"
          ]
        },
        {
          "output_type": "execute_result",
          "data": {
            "text/plain": [
              "<sklearn.metrics._plot.confusion_matrix.ConfusionMatrixDisplay at 0x7a734a1ab880>"
            ]
          },
          "metadata": {},
          "execution_count": 43
        },
        {
          "output_type": "display_data",
          "data": {
            "text/plain": [
              "<Figure size 640x480 with 2 Axes>"
            ],
            "image/png": "[encoded data removed]"
          },
          "metadata": {}
        }
      ]
    },
    {
      "cell_type": "markdown",
      "source": [
        "## Word2Vec Text Vectorization Technique"
      ],
      "metadata": {
        "id": "cncOxLB3hzXK"
      }
    },
    {
      "cell_type": "markdown",
      "source": [
        "1. Pre-trained gensim\n",
        "2. Own Training"
      ],
      "metadata": {
        "id": "EuRUNSumh7j6"
      }
    },
    {
      "cell_type": "markdown",
      "source": [
        "### Own Training"
      ],
      "metadata": {
        "id": "6kR5I8HFiDah"
      }
    },
    {
      "cell_type": "code",
      "source": [
        "data = pd.read_csv('/content/Participants_Data/Train.csv',encoding='utf-8')\n",
        "data.head()"
      ],
      "metadata": {
        "id": "MJMqvU4OjQT9"
      },
      "execution_count": null,
      "outputs": []
    },
    {
      "cell_type": "code",
      "source": [
        "##  Lower Casing\n",
        "data['Product_Description'] = data['Product_Description'].str.lower()\n",
        "\n",
        "## HTML Tag Removal\n",
        "import re\n",
        "def remove_html_tags(text):\n",
        "  pattern = re.compile('<.*?>')\n",
        "  return pattern.sub(r'',text)\n",
        "\n",
        "data['Product_Description'] = data['Product_Description'].apply(remove_html_tags)\n",
        "\n",
        "## URL Removal\n",
        "def remove_url(text):\n",
        "  pattern = re.compile(r'https?://\\S+|www\\.\\S+')\n",
        "  return pattern.sub(r'',text)\n",
        "\n",
        "data['Product_Description'] = data['Product_Description'].apply(remove_url)\n",
        "\n",
        "##### Puctuations Removal is not done bcz we need to sent_tokenize later for word2vec\n",
        "# ## Punctuation Removal\n",
        "# import string\n",
        "# exclude = string.punctuation\n",
        "# def remove_punc(text):\n",
        "#   return text.translate(str.maketrans('','',exclude))\n",
        "\n",
        "# data['Product_Description'] = data['Product_Description'].apply(remove_punc)\n",
        "\n",
        "## Stopwords Removal\n",
        "nltk.download('stopwords')\n",
        "from nltk.corpus import stopwords\n",
        "stop_words = stopwords.words('english')\n",
        "def remove_stopwords(text):\n",
        "  return ' '.join([word for word in text.split() if word not in stop_words])\n",
        "\n",
        "data['Product_Description'] = data['Product_Description'].apply(remove_stopwords)\n",
        "\n",
        "## Emoji Replacement\n",
        "import emoji\n",
        "def convert_emojis(text):\n",
        "  return emoji.demojize(text)\n",
        "\n",
        "data['Product_Description'] = data['Product_Description'].apply(convert_emojis)\n",
        "data.head()\n"
      ],
      "metadata": {
        "id": "iDzgxppJjWOD"
      },
      "execution_count": null,
      "outputs": []
    },
    {
      "cell_type": "code",
      "source": [
        "pip install gensim"
      ],
      "metadata": {
        "colab": {
          "base_uri": "https://localhost:8080/"
        },
        "id": "MnysqR30iJ9P",
        "outputId": "8dc4d8c3-e766-421f-84d0-030f6a2ae203"
      },
      "execution_count": 44,
      "outputs": [
        {
          "output_type": "stream",
          "name": "stdout",
          "text": [
            "Requirement already satisfied: gensim in /usr/local/lib/python3.10/dist-packages (4.3.3)\n",
            "Requirement already satisfied: numpy<2.0,>=1.18.5 in /usr/local/lib/python3.10/dist-packages (from gensim) (1.26.4)\n",
            "Requirement already satisfied: scipy<1.14.0,>=1.7.0 in /usr/local/lib/python3.10/dist-packages (from gensim) (1.13.1)\n",
            "Requirement already satisfied: smart-open>=1.8.1 in /usr/local/lib/python3.10/dist-packages (from gensim) (7.0.5)\n",
            "Requirement already satisfied: wrapt in /usr/local/lib/python3.10/dist-packages (from smart-open>=1.8.1->gensim) (1.16.0)\n"
          ]
        }
      ]
    },
    {
      "cell_type": "code",
      "source": [
        "import gensim\n",
        "from gensim.models import Word2Vec\n",
        "from gensim.utils import simple_preprocess\n",
        "from nltk.tokenize import word_tokenize,sent_tokenize"
      ],
      "metadata": {
        "id": "VI0m59FPiAkv"
      },
      "execution_count": 45,
      "outputs": []
    },
    {
      "cell_type": "code",
      "source": [
        "corpus = []\n",
        "for text in data['Product_Description']:\n",
        "  raw_sent = sent_tokenize(text)\n",
        "  for sent in raw_sent:\n",
        "    corpus.append(simple_preprocess(sent))"
      ],
      "metadata": {
        "id": "bU9-ZdBPjFLd"
      },
      "execution_count": 46,
      "outputs": []
    },
    {
      "cell_type": "code",
      "source": [
        "model = Word2Vec(window=10,min_count=2)\n",
        "model.build_vocab(corpus)\n",
        "model.train(corpus,total_examples=model.corpus_count,epochs=model.epochs)"
      ],
      "metadata": {
        "colab": {
          "base_uri": "https://localhost:8080/"
        },
        "id": "45pOS7TtkTiK",
        "outputId": "d9037ee3-3248-49a3-c77c-03973e3b1dc4"
      },
      "execution_count": 47,
      "outputs": [
        {
          "output_type": "execute_result",
          "data": {
            "text/plain": [
              "(246875, 380225)"
            ]
          },
          "metadata": {},
          "execution_count": 47
        }
      ]
    },
    {
      "cell_type": "code",
      "source": [
        "len(model.wv.index_to_key)"
      ],
      "metadata": {
        "colab": {
          "base_uri": "https://localhost:8080/"
        },
        "id": "3hqEMrOFkgx-",
        "outputId": "eb33aed7-98f0-48b0-ef81-84e6eb4bfd1b"
      },
      "execution_count": 48,
      "outputs": [
        {
          "output_type": "execute_result",
          "data": {
            "text/plain": [
              "4360"
            ]
          },
          "metadata": {},
          "execution_count": 48
        }
      ]
    },
    {
      "cell_type": "code",
      "source": [
        "def document_vector(doc):\n",
        "  doc = [word for word in doc.split() if word in model.wv.index_to_key]\n",
        "  return np.mean(model.wv[doc],axis=0)"
      ],
      "metadata": {
        "id": "k-KZfzwWkzDR"
      },
      "execution_count": 49,
      "outputs": []
    },
    {
      "cell_type": "code",
      "source": [
        "document_vector(data['Product_Description'][0])"
      ],
      "metadata": {
        "colab": {
          "base_uri": "https://localhost:8080/"
        },
        "id": "olbYlubKlBHk",
        "outputId": "7acb22f3-e519-41ce-e8d5-9d9fb67e6528"
      },
      "execution_count": 50,
      "outputs": [
        {
          "output_type": "execute_result",
          "data": {
            "text/plain": [
              "array([-0.22284487,  0.73983496,  0.14745851,  0.39943424, -0.09985421,\n",
              "       -0.906163  ,  0.50889486,  1.4402773 , -0.71819675, -0.7725672 ,\n",
              "       -0.0837539 , -0.93622017, -0.11769511,  0.32661158, -0.00298442,\n",
              "        0.30631363,  0.49765104, -0.30224976, -0.20952311, -1.7154715 ,\n",
              "        0.2836653 ,  0.3005508 ,  0.58603597, -0.39487997,  0.1116315 ,\n",
              "        0.09970091, -0.46075666, -0.4657223 , -0.26642954,  0.45885167,\n",
              "        0.7531092 , -0.26737726,  0.15820932, -0.7421745 , -0.2893952 ,\n",
              "        0.4576149 ,  0.5658237 , -0.20993865, -0.01339134, -0.8815535 ,\n",
              "        0.00933785, -0.46065915, -0.3280623 ,  0.24151976,  0.6593501 ,\n",
              "       -0.12007301, -0.5941752 , -0.19510606,  0.00442835,  0.346295  ,\n",
              "       -0.01108214, -0.55986786, -0.46775934,  0.2618229 , -0.25599557,\n",
              "        0.5417361 ,  0.6714437 , -0.00687471, -0.16334328,  0.39345855,\n",
              "       -0.03086391,  0.04577348,  0.12088037,  0.29087302, -0.51178575,\n",
              "        0.8010989 , -0.11680748,  0.3215892 , -0.6804949 ,  0.787587  ,\n",
              "        0.05606792,  0.21872336,  1.0196686 ,  0.16088533,  0.7651367 ,\n",
              "        0.19107662,  0.5281832 ,  0.01782388, -0.35804942,  0.0337036 ,\n",
              "       -0.2758844 , -0.12605254, -0.20987575,  0.7204778 , -0.11809133,\n",
              "       -0.15384166,  0.10815871,  0.3526604 ,  0.74771667,  0.2952128 ,\n",
              "        0.82282573,  0.15212633, -0.07129232,  0.2070476 ,  0.7509267 ,\n",
              "        0.4796725 ,  0.29830983, -0.81600493,  0.2667842 ,  0.05341623],\n",
              "      dtype=float32)"
            ]
          },
          "metadata": {},
          "execution_count": 50
        }
      ]
    },
    {
      "cell_type": "code",
      "source": [
        "from tqdm import tqdm\n",
        "x = []\n",
        "for text in tqdm(data['Product_Description']):\n",
        "  x.append(document_vector(text))"
      ],
      "metadata": {
        "colab": {
          "base_uri": "https://localhost:8080/"
        },
        "id": "ttsNddOclFUH",
        "outputId": "171b3426-8ce3-4d23-a5ac-74d5516f5c71"
      },
      "execution_count": 51,
      "outputs": [
        {
          "output_type": "stream",
          "name": "stderr",
          "text": [
            "100%|██████████| 6364/6364 [00:02<00:00, 3003.06it/s]\n"
          ]
        }
      ]
    },
    {
      "cell_type": "code",
      "source": [
        "x = np.array(x)\n",
        "x.shape"
      ],
      "metadata": {
        "colab": {
          "base_uri": "https://localhost:8080/"
        },
        "id": "PaLceyOulLL6",
        "outputId": "e23a9106-a059-4c33-d86e-b9640910a98e"
      },
      "execution_count": 52,
      "outputs": [
        {
          "output_type": "execute_result",
          "data": {
            "text/plain": [
              "(6364, 100)"
            ]
          },
          "metadata": {},
          "execution_count": 52
        }
      ]
    },
    {
      "cell_type": "code",
      "source": [
        "y = data['Sentiment']\n",
        "y.shape"
      ],
      "metadata": {
        "colab": {
          "base_uri": "https://localhost:8080/"
        },
        "id": "qMXv-inklMqA",
        "outputId": "3297b342-865e-4618-851f-b3bfdff1a323"
      },
      "execution_count": 53,
      "outputs": [
        {
          "output_type": "execute_result",
          "data": {
            "text/plain": [
              "(6364,)"
            ]
          },
          "metadata": {},
          "execution_count": 53
        }
      ]
    },
    {
      "cell_type": "code",
      "source": [
        "from sklearn.model_selection import train_test_split\n",
        "x_train,x_test,y_train,y_test = train_test_split(x,y,test_size=0.2,random_state=42)"
      ],
      "metadata": {
        "id": "kTuTaOx3laKy"
      },
      "execution_count": 54,
      "outputs": []
    },
    {
      "cell_type": "code",
      "source": [
        "from sklearn.ensemble import RandomForestClassifier\n",
        "rf = RandomForestClassifier()\n",
        "rf.fit(x_train,y_train)\n",
        "y_pred = rf.predict(x_test)\n",
        "print(accuracy_score(y_test,y_pred))\n",
        "ConfusionMatrixDisplay(confusion_matrix(y_test,y_pred)).plot()"
      ],
      "metadata": {
        "colab": {
          "base_uri": "https://localhost:8080/",
          "height": 484
        },
        "id": "GhoQyvzCldt4",
        "outputId": "0730ae15-2d19-4a3c-8634-5b899dc827d7"
      },
      "execution_count": 55,
      "outputs": [
        {
          "output_type": "stream",
          "name": "stdout",
          "text": [
            "0.5695208169677927\n"
          ]
        },
        {
          "output_type": "execute_result",
          "data": {
            "text/plain": [
              "<sklearn.metrics._plot.confusion_matrix.ConfusionMatrixDisplay at 0x7a742e6ff610>"
            ]
          },
          "metadata": {},
          "execution_count": 55
        },
        {
          "output_type": "display_data",
          "data": {
            "text/plain": [
              "<Figure size 640x480 with 2 Axes>"
            ],
            "image/png": "[encoded data removed]"
          },
          "metadata": {}
        }
      ]
    },
    {
      "cell_type": "markdown",
      "source": [
        "### Practical Tips:\n",
        "1. Ensamble Techniques.\n",
        "2. Heuristic Features.\n",
        "3. Do not move to DL directly.\n",
        "4. Imbalanced Data must not be there.\n",
        "5. Projects.\n"
      ],
      "metadata": {
        "id": "XYAAt089l6HQ"
      }
    }
  ]
}
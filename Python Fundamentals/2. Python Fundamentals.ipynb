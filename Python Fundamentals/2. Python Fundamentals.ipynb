{
 "cells": [
  {
   "cell_type": "markdown",
   "id": "9bafaa3d-d38d-44f6-a181-18cbb52ae3ab",
   "metadata": {},
   "source": [
    "## Print Function"
   ]
  },
  {
   "cell_type": "code",
   "execution_count": 2,
   "id": "8650d04b-0397-4281-a37a-db5c76a68638",
   "metadata": {},
   "outputs": [
    {
     "name": "stdout",
     "output_type": "stream",
     "text": [
      "Hello\n"
     ]
    }
   ],
   "source": [
    "print('Hello')"
   ]
  },
  {
   "cell_type": "code",
   "execution_count": 3,
   "id": "63055e5c-ecb5-41c7-a6d1-c51f555a3fbe",
   "metadata": {},
   "outputs": [
    {
     "name": "stdout",
     "output_type": "stream",
     "text": [
      "Hello\n",
      "World\n"
     ]
    }
   ],
   "source": [
    "print('Hello')\n",
    "print('World')"
   ]
  },
  {
   "cell_type": "code",
   "execution_count": 4,
   "id": "d9f3faeb-e6e2-4d18-ae02-bdee6cab71a6",
   "metadata": {},
   "outputs": [
    {
     "name": "stdout",
     "output_type": "stream",
     "text": [
      "Hello World 2022 True\n"
     ]
    }
   ],
   "source": [
    "print('Hello','World',2022,True)"
   ]
  },
  {
   "cell_type": "code",
   "execution_count": 5,
   "id": "a269a936-10a6-483d-b6b8-8273fa2f86b6",
   "metadata": {},
   "outputs": [
    {
     "name": "stdout",
     "output_type": "stream",
     "text": [
      "Hello/World/2022/True\n"
     ]
    }
   ],
   "source": [
    "print('Hello','World',2022,True,sep='/')"
   ]
  },
  {
   "cell_type": "code",
   "execution_count": 6,
   "id": "03b3d362-7707-422d-aa4c-1b8aebd1885b",
   "metadata": {},
   "outputs": [
    {
     "name": "stdout",
     "output_type": "stream",
     "text": [
      "Hello-World\n"
     ]
    }
   ],
   "source": [
    "print('Hello',end='-')\n",
    "print('World')"
   ]
  },
  {
   "cell_type": "markdown",
   "id": "f7dfb4a7-c993-4190-bb6c-c0fae4b98ca2",
   "metadata": {},
   "source": [
    "## Data Types"
   ]
  },
  {
   "cell_type": "code",
   "execution_count": 8,
   "id": "3a15fbce-79ba-48cb-b692-eca376506385",
   "metadata": {},
   "outputs": [
    {
     "name": "stdout",
     "output_type": "stream",
     "text": [
      "91010\n",
      "1e+308\n",
      "inf\n"
     ]
    }
   ],
   "source": [
    "# Integer\n",
    "print(91010)\n",
    "print(1e308)\n",
    "print(1e309)"
   ]
  },
  {
   "cell_type": "code",
   "execution_count": 9,
   "id": "0543fc3b-ab26-48b1-b455-ca25483d7994",
   "metadata": {},
   "outputs": [
    {
     "name": "stdout",
     "output_type": "stream",
     "text": [
      "8.55\n",
      "1.2e+308\n",
      "inf\n"
     ]
    }
   ],
   "source": [
    "# Float\n",
    "print(8.55)\n",
    "print(1.2e308)\n",
    "print(1.2e309)"
   ]
  },
  {
   "cell_type": "code",
   "execution_count": 10,
   "id": "3acb8a14-cc14-4bda-9b43-eda163d26e2b",
   "metadata": {},
   "outputs": [
    {
     "name": "stdout",
     "output_type": "stream",
     "text": [
      "True\n",
      "False\n"
     ]
    }
   ],
   "source": [
    "# Boolean\n",
    "print(True)\n",
    "print(False)"
   ]
  },
  {
   "cell_type": "code",
   "execution_count": 11,
   "id": "52398461-1d3c-4edb-9e17-5b9f3fe7278e",
   "metadata": {},
   "outputs": [
    {
     "name": "stdout",
     "output_type": "stream",
     "text": [
      "Hi!!!\n"
     ]
    }
   ],
   "source": [
    "# String\n",
    "print('Hi!!!')"
   ]
  },
  {
   "cell_type": "code",
   "execution_count": 12,
   "id": "4bc84e4a-7d0f-4505-aca6-407b177a6965",
   "metadata": {},
   "outputs": [
    {
     "name": "stdout",
     "output_type": "stream",
     "text": [
      "(3+2j)\n"
     ]
    }
   ],
   "source": [
    "# Complex\n",
    "print(3+2j)"
   ]
  },
  {
   "cell_type": "code",
   "execution_count": 13,
   "id": "be94d991-a4c9-4e81-9b79-c470702332f7",
   "metadata": {},
   "outputs": [
    {
     "name": "stdout",
     "output_type": "stream",
     "text": [
      "[1, 2, 5, 't', 9, True]\n"
     ]
    }
   ],
   "source": [
    "# List\n",
    "print([1,2,5,'t',9,True])"
   ]
  },
  {
   "cell_type": "code",
   "execution_count": 14,
   "id": "bf653200-6e05-4276-804c-a9980c883731",
   "metadata": {},
   "outputs": [
    {
     "name": "stdout",
     "output_type": "stream",
     "text": [
      "(1, 2, 5, 't', 9, True)\n"
     ]
    }
   ],
   "source": [
    "# Tuple\n",
    "print((1,2,5,'t',9,True))"
   ]
  },
  {
   "cell_type": "code",
   "execution_count": 15,
   "id": "12061eb2-0991-4c74-8b01-6aeca9f3a28c",
   "metadata": {},
   "outputs": [
    {
     "name": "stdout",
     "output_type": "stream",
     "text": [
      "{0, True, 2, 3, 'z', 'm', 'A', 'M', 'a', 'y'}\n"
     ]
    }
   ],
   "source": [
    "# Sets\n",
    "print({0,2,3,'y',False,True,1,'a','A','z','M','m'})"
   ]
  },
  {
   "cell_type": "markdown",
   "id": "af682b00-63cb-41ac-b74d-e9efd19b20d1",
   "metadata": {},
   "source": [
    "Sets Eliminate Duplicates:\n",
    "\n",
    "Sets in Python do not allow duplicate elements. However, False and 0 are considered equal, as are True and 1 because bool is a subclass of int in Python. Hence, adding both True and 1 will only retain 1, and adding False and 0 will only retain False.\n",
    "\n",
    "Order in Sets:\n",
    "\n",
    "Sets are `unordered collections` in Python, meaning that they do not maintain the order of insertion. The output order is determined by an `internal hashing mechanism`, so you may not get the elements back in the same order you inserted them.\n",
    "\n",
    "Boolean Values as Integers:\n",
    "\n",
    "In Python, False is equivalent to 0, and True is equivalent to 1. Since 1 is already in the set, True is discarded (retaining just 1), and similarly, False (which is equivalent to 0) is kept distinct from other numbers."
   ]
  },
  {
   "cell_type": "code",
   "execution_count": 17,
   "id": "dd7147c1-126d-48bf-9bb5-c96d04ea5f56",
   "metadata": {},
   "outputs": [
    {
     "name": "stdout",
     "output_type": "stream",
     "text": [
      "{'name': 'Alok', 'age': 27, 'gender': 'Male', 'defaulter': False}\n"
     ]
    }
   ],
   "source": [
    "## Dictionary\n",
    "\n",
    "print({'name':'Alok','age':27,'gender':'Male','defaulter':False})"
   ]
  },
  {
   "cell_type": "markdown",
   "id": "c1f42531-07f1-4cb7-9fab-d7a1bcc92104",
   "metadata": {},
   "source": [
    "## Type"
   ]
  },
  {
   "cell_type": "code",
   "execution_count": 19,
   "id": "bfdae4ec-f797-400f-a3f9-fc09e44a9324",
   "metadata": {},
   "outputs": [
    {
     "data": {
      "text/plain": [
       "dict"
      ]
     },
     "execution_count": 19,
     "metadata": {},
     "output_type": "execute_result"
    }
   ],
   "source": [
    "type({'name':'Alok','age':27,'gender':'Male','defaulter':False})"
   ]
  },
  {
   "cell_type": "markdown",
   "id": "18669dec-0b1a-4eab-b5fa-dfa0e42fba28",
   "metadata": {},
   "source": [
    "## Variables"
   ]
  },
  {
   "cell_type": "code",
   "execution_count": 21,
   "id": "741a07ef-2cad-49c1-86bc-87b6d55d9ae4",
   "metadata": {},
   "outputs": [
    {
     "name": "stdout",
     "output_type": "stream",
     "text": [
      "Alok has total mark 11\n"
     ]
    }
   ],
   "source": [
    "a = 5\n",
    "b = 6\n",
    "c= 'Alok'\n",
    "print(c,'has total mark',a+b)"
   ]
  },
  {
   "cell_type": "markdown",
   "id": "7a388144-12e2-4a43-b815-eb19553543f8",
   "metadata": {},
   "source": [
    "##### Static Vs Dynamic Typing"
   ]
  },
  {
   "cell_type": "code",
   "execution_count": 23,
   "id": "b3e792ae-2a52-4b24-aefc-209388f726f6",
   "metadata": {},
   "outputs": [],
   "source": [
    "# Dynamic Typing (Means no need to tell the datatype of variable)\n",
    "a = 5\n",
    "# Static typing (in c++)\n",
    "# int a = 5"
   ]
  },
  {
   "cell_type": "markdown",
   "id": "fdee45fc-1667-43eb-9cc7-4805df10c31d",
   "metadata": {},
   "source": [
    "##### Static Vs Dynamic Binding"
   ]
  },
  {
   "cell_type": "code",
   "execution_count": 25,
   "id": "acf2d5a6-20ba-45d1-bc19-0ff1af4bcfab",
   "metadata": {},
   "outputs": [
    {
     "name": "stdout",
     "output_type": "stream",
     "text": [
      "5\n",
      "Alok\n"
     ]
    }
   ],
   "source": [
    "# Dynamic Binding (A variable can store any type of values)\n",
    "a=5\n",
    "print(a)\n",
    "a = 'Alok'\n",
    "print(a)\n",
    "\n",
    "# Static Binding (As the variable datatype should be given at first (Static Typing), it can't store any datatype value.\n",
    "# int c =10\n",
    "# c = 'Alok' is not possible"
   ]
  },
  {
   "cell_type": "code",
   "execution_count": 26,
   "id": "c7cbaa25-0e92-4862-992c-3db2da7b2271",
   "metadata": {},
   "outputs": [
    {
     "name": "stdout",
     "output_type": "stream",
     "text": [
      "{'b', 0, 'A', True} 2 Alok\n",
      "{'b', 0, 'A', True} Alok (3+6j)\n"
     ]
    }
   ],
   "source": [
    "a= {'A','b',0,True,False}\n",
    "b=2\n",
    "c='Alok'\n",
    "print(a,b,c)\n",
    "# Stylish Delaration Teechniques\n",
    "d,e,f =  {'A','b',0,True,False},'Alok',(3+6j)\n",
    "print(d,e,f)"
   ]
  },
  {
   "cell_type": "code",
   "execution_count": 27,
   "id": "4ad20ad1-bb78-4587-ac2b-84edfa6e94c3",
   "metadata": {},
   "outputs": [
    {
     "name": "stdout",
     "output_type": "stream",
     "text": [
      "5 5 5\n"
     ]
    }
   ],
   "source": [
    "a=b=c=5\n",
    "print(a,b,c)"
   ]
  },
  {
   "cell_type": "markdown",
   "id": "9ed63f92-4898-4829-9d39-d72f65caa09d",
   "metadata": {},
   "source": [
    "## Comments"
   ]
  },
  {
   "cell_type": "code",
   "execution_count": 29,
   "id": "0d6fd4b1-7072-46b4-a557-d026fb7bf8bc",
   "metadata": {},
   "outputs": [],
   "source": [
    "# I am SPD\n",
    "# Shuvendu Pritam Das"
   ]
  },
  {
   "cell_type": "markdown",
   "id": "c114a579-a582-440c-a6e1-b72f2a9c4cf1",
   "metadata": {},
   "source": [
    "## Keywords & Identifiers"
   ]
  },
  {
   "cell_type": "code",
   "execution_count": 31,
   "id": "af839cca-9552-4281-95ac-b8741610082c",
   "metadata": {},
   "outputs": [],
   "source": [
    "# Compilation : Converting our code into binary code\n",
    "# Compiler : Batch Compilation (C,Java)\n",
    "# Interpreater : Line by Line Compilation (Python,Java Sript)\n",
    "# Keywords : Reserved words in code to make interpreater understand that what is going on or what to be done\n",
    "# 32 keywords in Python\n",
    "# Identifiers : All names that we give.(Variables, Class, Function)\n",
    "# Rules for Identifier name:\n",
    "# 1. Can't be started with digit\n",
    "# 2. Only '_' Special Character can be used.\n",
    "# 3. Identifiers can't be Keywords."
   ]
  },
  {
   "cell_type": "markdown",
   "id": "ec2153e4-b33a-46f8-98a0-0a84d9157061",
   "metadata": {},
   "source": [
    "## User Input"
   ]
  },
  {
   "cell_type": "code",
   "execution_count": 33,
   "id": "2219ab0c-b2ca-4058-be90-11de2e3463e4",
   "metadata": {},
   "outputs": [
    {
     "name": "stdin",
     "output_type": "stream",
     "text": [
      "Add Your Name :  12\n"
     ]
    },
    {
     "data": {
      "text/plain": [
       "'12'"
      ]
     },
     "execution_count": 33,
     "metadata": {},
     "output_type": "execute_result"
    }
   ],
   "source": [
    "input('Add Your Name : ')"
   ]
  },
  {
   "cell_type": "markdown",
   "id": "bc8f220a-d6f8-43e2-b26f-f92c75d99d8d",
   "metadata": {},
   "source": [
    "## Type Conversion"
   ]
  },
  {
   "cell_type": "markdown",
   "id": "7e6a0e0a-d40f-47d7-ada4-fa755e2d4c67",
   "metadata": {},
   "source": [
    "# Type Casting vs Type Conversion\r\n",
    "\r\n",
    "| Feature          | Type Casting                                           | Type Conversion                                        |\r\n",
    "|------------------|--------------------------------------------------------|--------------------------------------------------------|\r\n",
    "| **Definition**    | Explicit conversion of one data type into another by the programmer. | Implicit or automatic conversion done by the compiler or interpreter. |\r\n",
    "| **Control**       | Done manually by the programmer (explicit).            | Done automatically by the system (implicit).            |\r\n",
    "| **Risk**          | May lead to data loss or precision loss (e.g., float to int). | Typically safe and avoids data loss.                    |\r\n",
    "| **Use Case**      | Used when explicit control over data type conversion is needed. | Used in mixed data-type operations where conversion is safe. |\r\n",
    "| **Example**       | See below.                                             | See below.                                              |\r\n",
    "\r\n",
    "## Examples\r\n",
    "\r\n",
    "- **Type Casting**:\r\n",
    "    ```python\r\n",
    "    # Explicitly converting float to integer (losing precision)\r\n",
    "    num_float = 5.7\r\n",
    "    num_int = int(num_float)  # num_int will be 5\r\n",
    "    ```\r\n",
    "\r\n",
    "- **Type Conversion**:\r\n",
    "    ```python\r\n",
    "    # Implicit conversion during addition of int and float\r\n",
    "    num_int = 5\r\n",
    "    num_float = 6.8\r\n",
    "    result = num_int + num_float  # num_int is automatically converted to float\r\n",
    "    ```\r\n",
    "\r\n",
    "## Key Differences:\r\n",
    "- **Control**:\r\n",
    "  - Type Casting: Explicit control by the programmer.\r\n",
    "  - Type Conversion: Implicit control by the system.\r\n",
    "\r\n",
    "- **Risk**:\r\n",
    "  - Type Casting: Potential for data or precision loss.\r\n",
    "  - Type Conversion: Generally safe without data loss.\r\n",
    "\r\n",
    "- **Use Case**:\r\n",
    "  - Type Casting: Best used when specific control over type conversion is required.\r\n",
    "  - Type Conversion: Suitable for operations where mixed types are automatically handled by the system.\r\n"
   ]
  },
  {
   "cell_type": "markdown",
   "id": "4f91230d-e084-491a-b40b-5391518dfe40",
   "metadata": {},
   "source": [
    "#### Implicit Conversion"
   ]
  },
  {
   "cell_type": "code",
   "execution_count": 37,
   "id": "9fabc1c5-305a-4625-ae42-7250018bdc46",
   "metadata": {},
   "outputs": [
    {
     "name": "stdout",
     "output_type": "stream",
     "text": [
      "<class 'int'> <class 'float'>\n",
      "14.8\n",
      "<class 'float'>\n"
     ]
    }
   ],
   "source": [
    "a = 5\n",
    "b = 9.8\n",
    "print(type(a),type(b))\n",
    "print(a+b)\n",
    "print(type(a+b))"
   ]
  },
  {
   "cell_type": "markdown",
   "id": "bb938ccd-ee3b-4eb0-a1db-ae39ca9f7ed2",
   "metadata": {},
   "source": [
    "#### Explicit Conversion"
   ]
  },
  {
   "cell_type": "code",
   "execution_count": 39,
   "id": "8f66a995-bd40-4016-bdac-f2a18bcb2a92",
   "metadata": {},
   "outputs": [
    {
     "name": "stdout",
     "output_type": "stream",
     "text": [
      "5Alok\n"
     ]
    }
   ],
   "source": [
    "a = 5\n",
    "b = 'Alok'\n",
    "c = str(a) + b\n",
    "print(c)"
   ]
  },
  {
   "cell_type": "markdown",
   "id": "0dfa9e8a-0a47-44ef-b590-da9b27f6c220",
   "metadata": {},
   "source": [
    "###### In other languages type casting, which means permanent conversion."
   ]
  },
  {
   "cell_type": "markdown",
   "id": "e3a3588e-d7c4-4586-9984-81bcff55c3a5",
   "metadata": {},
   "source": [
    "## 1. Code"
   ]
  },
  {
   "cell_type": "code",
   "execution_count": 42,
   "id": "84f16a4f-6892-4a8b-b1ed-14e98eb14fe6",
   "metadata": {},
   "outputs": [
    {
     "name": "stdin",
     "output_type": "stream",
     "text": [
      "1st No : 1233\n",
      "2nd No : 12333\n"
     ]
    },
    {
     "name": "stdout",
     "output_type": "stream",
     "text": [
      "<class 'str'> <class 'str'>\n",
      "-------------------------\n",
      "13566.0\n",
      "-------------------------\n",
      "<class 'str'> <class 'str'> <class 'float'>\n"
     ]
    }
   ],
   "source": [
    "# Take the input from user\n",
    "a = input('1st No :')\n",
    "b = input('2nd No :')\n",
    "print(type(a),type(b))\n",
    "print('-'*25)\n",
    "# Do what ever operation is required\n",
    "c = float(a)+float(b)\n",
    "# Print the Result\n",
    "print(c)\n",
    "print('-'*25)\n",
    "print(type(a),type(b),type(c))"
   ]
  },
  {
   "cell_type": "code",
   "execution_count": 43,
   "id": "02490f26-9f24-4ab7-90e1-2e7169444197",
   "metadata": {},
   "outputs": [
    {
     "name": "stdout",
     "output_type": "stream",
     "text": [
      "<class 'float'> <class 'float'>\n",
      "-------------------------\n",
      "13566.0\n",
      "-------------------------\n",
      "<class 'float'> <class 'float'> <class 'float'>\n"
     ]
    }
   ],
   "source": [
    "a  = float(a)\n",
    "b = float(b)\n",
    "print(type(a),type(b))\n",
    "c =a+b\n",
    "print('-'*25)\n",
    "print(c)\n",
    "print('-'*25)\n",
    "print(type(a),type(b),type(c))"
   ]
  },
  {
   "cell_type": "code",
   "execution_count": 44,
   "id": "cfe73f87-c2ec-4e7d-abf9-85cf3dfe6ece",
   "metadata": {},
   "outputs": [
    {
     "name": "stdin",
     "output_type": "stream",
     "text": [
      "1st No : 1234\n",
      "2nd No : 4321\n"
     ]
    },
    {
     "name": "stdout",
     "output_type": "stream",
     "text": [
      "<class 'float'> <class 'float'>\n",
      "-------------------------\n",
      "5555.0\n",
      "-------------------------\n",
      "<class 'float'> <class 'float'> <class 'float'>\n"
     ]
    }
   ],
   "source": [
    "# Take the input from user\n",
    "a = float(input('1st No :'))\n",
    "b = float(input('2nd No :'))\n",
    "print(type(a),type(b))\n",
    "print('-'*25)\n",
    "# Do what ever operation is required\n",
    "c = a  + b\n",
    "# Print the Result\n",
    "print(c)\n",
    "print('-'*25)\n",
    "print(type(a),type(b),type(c))"
   ]
  },
  {
   "cell_type": "markdown",
   "id": "621af7bc-9448-43a6-94ab-e137a4966a08",
   "metadata": {},
   "source": [
    "###### Observations: \n",
    "1. In case -1 --Though type is changes by us and then added, it is still showing the previous data type. It means explicit conversion just converts and stores in a new one.\n",
    "2. In case -2 --Type is changed and stored in same variable. So at the end the type is changed.\n",
    "3. In case -3 --Type is changed during the input and stored. So at the end the type is changed."
   ]
  },
  {
   "cell_type": "markdown",
   "id": "93a23845-fac6-4950-9af4-291796c18c9d",
   "metadata": {},
   "source": [
    "## Literals"
   ]
  },
  {
   "cell_type": "code",
   "execution_count": 47,
   "id": "29e4c746-4fcc-4e87-9e47-dce7c144f539",
   "metadata": {},
   "outputs": [
    {
     "name": "stdout",
     "output_type": "stream",
     "text": [
      "-----------------integer----------------\n",
      "10 <class 'int'> 100 <class 'int'> 200 <class 'int'> 300 <class 'int'>\n",
      "-----------------float----------------\n",
      "10.5 <class 'float'> 150.0 <class 'float'> 0.0015 <class 'float'>\n",
      "-----------------complex----------------\n",
      "(3+4j) <class 'complex'> 3.0 <class 'float'> 4.0 <class 'float'>\n",
      "-----------------string----------------\n",
      "Hi!!! <class 'str'>  Hello <class 'str'> c <class 'str'> 😀😆🤣 <class 'str'> raw\\n'a'b <class 'str'>\n",
      "-----------------boolean----------------\n",
      "True <class 'bool'> False <class 'bool'> 7 <class 'int'> 6 <class 'int'> 1 <class 'int'>\n",
      "-----------------None----------------\n",
      "None <class 'NoneType'>\n"
     ]
    }
   ],
   "source": [
    "# Value which is stored in a Variable\n",
    "\n",
    "# For Integer Literal\n",
    "a = 0b1010 #binary variable\n",
    "b = 100 #decimal\n",
    "c = 0o310 #octal\n",
    "d = 0x12c #hexadecimal\n",
    "\n",
    "# For Float Literal\n",
    "float_1 = 10.5\n",
    "float_2 = 1.5e2  # 1.5 * 10**2\n",
    "float_3 = 1.5e-3 # 1.5 * 10**-3\n",
    "\n",
    "# For Complex Literal\n",
    "x = 3+4j\n",
    "\n",
    "# For String Literals\n",
    "string_1 = 'Hi!!!'\n",
    "string_2 = \" Hello\"\n",
    "char = \"c\"\n",
    "unicode = u\"\\U0001f600\\U0001F606\\U0001F923\" # For smily\n",
    "raw_str = r\"raw\\n'a'b\"\n",
    "\n",
    "# Boolean Literals\n",
    "e = True\n",
    "f = False\n",
    "g = e + 6 #Implicit Coversion\n",
    "h = f + 6 #Implicit Coversion\n",
    "i = int(e)\n",
    "\n",
    "# NONE Lierals\n",
    "\n",
    "\n",
    "j = None # For variable Declaration\n",
    "\n",
    "print('-----------------integer----------------')\n",
    "print(a,type(a),b,type(b),c,type(c),d,type(d))\n",
    "\n",
    "print('-----------------float----------------')\n",
    "print(float_1,type(float_1),float_2,type(float_2),float_3,type(float_3))\n",
    "\n",
    "\n",
    "print('-----------------complex----------------')\n",
    "print(x,type(x),x.real,type(x.real),x.imag,type(x.imag))\n",
    "\n",
    "\n",
    "print('-----------------string----------------')\n",
    "print(string_1,type(string_1),string_2,type(string_2),char,type(char),unicode ,type(unicode ),raw_str,type(raw_str))\n",
    "\n",
    "print('-----------------boolean----------------')\n",
    "print(e,type(e),f,type(f),g,type(g),h,type(h),i,type(i))\n",
    "\n",
    "print('-----------------None----------------')\n",
    "print(j,type(j))"
   ]
  }
 ],
 "metadata": {
  "kernelspec": {
   "display_name": "Python 3 (ipykernel)",
   "language": "python",
   "name": "python3"
  },
  "language_info": {
   "codemirror_mode": {
    "name": "ipython",
    "version": 3
   },
   "file_extension": ".py",
   "mimetype": "text/x-python",
   "name": "python",
   "nbconvert_exporter": "python",
   "pygments_lexer": "ipython3",
   "version": "3.12.4"
  }
 },
 "nbformat": 4,
 "nbformat_minor": 5
}

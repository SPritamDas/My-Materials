{
 "cells": [
  {
   "cell_type": "markdown",
   "metadata": {
    "id": "A05OG15VqOPF"
   },
   "source": [
    "# Task : Session 1\n",
    "Solve these questions own your own and try to test yourself what you have learned in the session.\n",
    "\n",
    "Happy Learning!"
   ]
  },
  {
   "cell_type": "markdown",
   "metadata": {
    "id": "2doIXf8bqe9_"
   },
   "source": [
    "### Q1 :- Print the given strings as per stated format.\n",
    "\n",
    "**Given strings**:\n",
    "```\n",
    "\"Data\" \"Science\" \"Mentorship\" \"Program\"\n",
    "\"By\" \"CampusX\"\n",
    "```\n",
    "**Output**:\n",
    "```\n",
    "Data-Science-Mentorship-Program-started-By-CampusX\n",
    "```\n",
    "\n",
    "Concept- [Seperator and End]"
   ]
  },
  {
   "cell_type": "code",
   "execution_count": 3,
   "metadata": {
    "id": "-em6d3KErDtp"
   },
   "outputs": [
    {
     "name": "stdout",
     "output_type": "stream",
     "text": [
      "Data-Science-Mentorship-Program-By-CampusX\n"
     ]
    }
   ],
   "source": [
    "print(\"Data\",\"Science\",\"Mentorship\",\"Program\",\"By\",\"CampusX\",sep = '-')"
   ]
  },
  {
   "cell_type": "markdown",
   "metadata": {
    "id": "1KUpN7ZTrC3_"
   },
   "source": [
    "### Q2:- Write a program that will convert celsius value to fahrenheit."
   ]
  },
  {
   "cell_type": "code",
   "execution_count": 11,
   "metadata": {
    "id": "yxKYhYQiqWfj"
   },
   "outputs": [
    {
     "name": "stdin",
     "output_type": "stream",
     "text": [
      "Enter Celsius temp. :  56.98\n"
     ]
    },
    {
     "name": "stdout",
     "output_type": "stream",
     "text": [
      "Farenhite temp :  134.564\n"
     ]
    }
   ],
   "source": [
    "celcius=float(input('Enter Celsius temp. : '))  # Explicit Type Casting\n",
    "farenhite = celcius * (9/5) + 32 #Implicit Type Coversion\n",
    "print('Farenhite temp : ',farenhite)"
   ]
  },
  {
   "cell_type": "markdown",
   "metadata": {
    "id": "RLrOBBJurLB2"
   },
   "source": [
    "### Q3:- Take 2 numbers as input from the user.Write a program to swap the numbers without using any special python syntax."
   ]
  },
  {
   "cell_type": "code",
   "execution_count": 13,
   "metadata": {
    "id": "yPn7if0TrJ4F"
   },
   "outputs": [
    {
     "name": "stdin",
     "output_type": "stream",
     "text": [
      "Enter 1st Number :  56\n",
      "Enter 2nd Number :  90\n"
     ]
    },
    {
     "name": "stdout",
     "output_type": "stream",
     "text": [
      "Swpped 1st Number :  90\n",
      "Swpped 2nd Number :  56\n"
     ]
    }
   ],
   "source": [
    "a = input('Enter 1st Number : ')\n",
    "b = input('Enter 2nd Number : ')\n",
    "c = a\n",
    "a = b\n",
    "b = c\n",
    "print('Swpped 1st Number : ',a)\n",
    "print('Swpped 2nd Number : ',b)"
   ]
  },
  {
   "cell_type": "markdown",
   "metadata": {
    "id": "waLCP1bjr7ML"
   },
   "source": [
    "### Q4:- Write a program to find the euclidean distance between two coordinates.Take both the coordinates from the user as input."
   ]
  },
  {
   "cell_type": "code",
   "execution_count": 17,
   "metadata": {
    "id": "Pl1Sv-xnrxnH"
   },
   "outputs": [
    {
     "name": "stdin",
     "output_type": "stream",
     "text": [
      "x1: 23\n",
      "y1: 233\n",
      "x2: -10\n",
      "y2: 23.9\n"
     ]
    },
    {
     "name": "stdout",
     "output_type": "stream",
     "text": [
      "Euclidian Distance between ( 23.0 , 233.0 ) and ( -10.0 , 23.9 ) :  211.68800154945012\n"
     ]
    }
   ],
   "source": [
    "x1 = float(input('x1:'))\n",
    "y1 = float(input('y1:'))\n",
    "x2 = float(input('x2:'))\n",
    "y2 = float(input('y2:'))\n",
    "distance = ((x1 - x2)**2 + (y1-y2)**2)**0.5\n",
    "print('Euclidian Distance between (',x1,',',y1,') and (',x2,',',y2,') : ',distance)"
   ]
  },
  {
   "cell_type": "markdown",
   "metadata": {
    "id": "VLrhg-FRsHjR"
   },
   "source": [
    "### Q5:- Write a program to find the simple interest when the value of principle,rate of interest and time period is provided by the user.\n"
   ]
  },
  {
   "cell_type": "code",
   "execution_count": 19,
   "metadata": {
    "id": "s40DlReZsTmY"
   },
   "outputs": [
    {
     "name": "stdin",
     "output_type": "stream",
     "text": [
      "Principal :  12\n",
      "Rate of Interest in % : 333\n",
      "Time Period in Years : 2\n"
     ]
    },
    {
     "name": "stdout",
     "output_type": "stream",
     "text": [
      "Simple Interest :  79.92\n"
     ]
    }
   ],
   "source": [
    "principal = float(input('Principal : '))\n",
    "Rate_of_Interest = float(input('Rate of Interest in % :' ))\n",
    "Time_Period = float(input('Time Period in Years :' ))\n",
    "Simple_Interest = principal * Rate_of_Interest * Time_Period /100\n",
    "print('Simple Interest : ', Simple_Interest)"
   ]
  },
  {
   "cell_type": "markdown",
   "metadata": {
    "id": "LMy0BTUktYKa"
   },
   "source": [
    "### Q6:- Write a program that will tell the number of dogs and chicken are there when the user will provide the value of total heads and legs.\n",
    "\n",
    "For example:\n",
    "Input:\n",
    "heads -> 4\n",
    "legs -> 12\n",
    "<br>\n",
    "Output:\n",
    "dogs -> 2\n",
    "chicken -> 2\n",
    "\n",
    "\n",
    "\n"
   ]
  },
  {
   "cell_type": "code",
   "execution_count": 21,
   "metadata": {
    "id": "XSBvJoA4tXaG"
   },
   "outputs": [
    {
     "name": "stdin",
     "output_type": "stream",
     "text": [
      "No of Head :  4\n",
      "No of Leg :  12\n"
     ]
    },
    {
     "name": "stdout",
     "output_type": "stream",
     "text": [
      "No of dogs :  2 \n",
      "No of chicken :  2\n"
     ]
    }
   ],
   "source": [
    "heads = int(input('No of Head : '))\n",
    "legs = int(input('No of Leg : '))\n",
    "# chicken + dog = heads\n",
    "# 2*chicken + 4*dog = legs\n",
    "chicken = (4*heads - legs)/2\n",
    "dogs = heads - chicken\n",
    "print('No of dogs : ',int(dogs),'\\nNo of chicken : ',int(chicken))"
   ]
  },
  {
   "cell_type": "markdown",
   "metadata": {
    "id": "gJ7C5kZYt4BP"
   },
   "source": [
    "### Q7:- Write a program to find the sum of squares of first n natural numbers where n will be provided by the user."
   ]
  },
  {
   "cell_type": "code",
   "execution_count": 23,
   "metadata": {
    "id": "_tHsmEHzt2nX"
   },
   "outputs": [
    {
     "name": "stdin",
     "output_type": "stream",
     "text": [
      "Enter the Number :  12\n"
     ]
    },
    {
     "name": "stdout",
     "output_type": "stream",
     "text": [
      "Sum of square of first 12  numbers :  650\n"
     ]
    }
   ],
   "source": [
    "num = int(input('Enter the Number : '))\n",
    "sum_square = num*(num + 1)*(2*num +1)/6\n",
    "print('Sum of square of first',num,' numbers : ',int(sum_square))"
   ]
  },
  {
   "cell_type": "markdown",
   "metadata": {
    "id": "FHrMM7g-yG1h"
   },
   "source": [
    "### Q8:- Given the first 2 terms of an Arithmetic Series.Find the Nth term of the series. Assume all inputs are provided by the user."
   ]
  },
  {
   "cell_type": "code",
   "execution_count": 25,
   "metadata": {
    "id": "go4_kmZmyVSx"
   },
   "outputs": [
    {
     "name": "stdin",
     "output_type": "stream",
     "text": [
      "1st number :  2\n",
      "2nd number :  3\n",
      "n value for the term :  10\n"
     ]
    },
    {
     "name": "stdout",
     "output_type": "stream",
     "text": [
      "10 th term of the AP sequence is 11.0\n"
     ]
    }
   ],
   "source": [
    "first = float(input('1st number : '))\n",
    "second= float(input('2nd number : '))\n",
    "n = int(input('n value for the term : '))\n",
    "nth = first + (n-1)*(second - first)\n",
    "print(n,'th term of the AP sequence is', nth)"
   ]
  },
  {
   "cell_type": "markdown",
   "metadata": {
    "id": "QgyRX_es1oum"
   },
   "source": [
    "### Q9:- Given 2 fractions, find the sum of those 2 fractions.Take the numerator and denominator values of the fractions from the user."
   ]
  },
  {
   "cell_type": "code",
   "execution_count": 27,
   "metadata": {
    "id": "X05xqFS1yW16"
   },
   "outputs": [
    {
     "name": "stdin",
     "output_type": "stream",
     "text": [
      "numerator 1 : 2\n",
      "denominator 1 : 3\n",
      "numerator 2 : 2\n",
      "denominator 2 : 5\n"
     ]
    },
    {
     "name": "stdout",
     "output_type": "stream",
     "text": [
      "sum of  2 / 3 and 2 / 5 is : 16 / 15\n"
     ]
    }
   ],
   "source": [
    "num_1 = int(input('numerator 1 :'))\n",
    "den_1 = int(input('denominator 1 :'))\n",
    "num_2 = int(input('numerator 2 :'))\n",
    "den_2 = int(input('denominator 2 :'))\n",
    "num = num_1*den_2 + num_2*den_1\n",
    "den = den_1 * den_2\n",
    "print('sum of ',num_1,'/',den_1,'and',num_2,'/',den_2,'is :',num,'/',den)"
   ]
  },
  {
   "cell_type": "markdown",
   "metadata": {
    "id": "eaql38ln13u7"
   },
   "source": [
    "### Q10:- Given the height, width and breadth of a milk tank, you have to find out how many glasses of milk can be obtained? Assume all the inputs are provided by the user.\n",
    "\n",
    "\n",
    "\n",
    "Input:<br>\n",
    "Dimensions of the milk tank<br>\n",
    "H = 20cm, L = 20cm, B = 20cm\n",
    "<br><br>\n",
    "Dimensions of the glass<br>\n",
    "h = 3cm, r = 1cm"
   ]
  },
  {
   "cell_type": "code",
   "execution_count": 29,
   "metadata": {
    "id": "FePZqno74eWv"
   },
   "outputs": [
    {
     "name": "stdin",
     "output_type": "stream",
     "text": [
      "Height of Tank 10\n",
      "Length of Tank 10\n",
      "Width of Tank 23\n",
      "Height of Glass 2\n",
      "Radius of Glass 4\n"
     ]
    },
    {
     "name": "stdout",
     "output_type": "stream",
     "text": [
      "No. of milk glass 32.67045454545454\n"
     ]
    }
   ],
   "source": [
    "H = float(input('Height of Tank'))\n",
    "L = float(input('Length of Tank'))\n",
    "B = float(input('Width of Tank'))\n",
    "h = float(input('Height of Glass'))\n",
    "r = float(input('Radius of Glass'))\n",
    "milk_glass = (L*B*H) /((22/10)*(r**2)*h)\n",
    "print('No. of milk glass',milk_glass)"
   ]
  }
 ],
 "metadata": {
  "colab": {
   "provenance": []
  },
  "kernelspec": {
   "display_name": "Python 3 (ipykernel)",
   "language": "python",
   "name": "python3"
  },
  "language_info": {
   "codemirror_mode": {
    "name": "ipython",
    "version": 3
   },
   "file_extension": ".py",
   "mimetype": "text/x-python",
   "name": "python",
   "nbconvert_exporter": "python",
   "pygments_lexer": "ipython3",
   "version": "3.12.4"
  }
 },
 "nbformat": 4,
 "nbformat_minor": 4
}

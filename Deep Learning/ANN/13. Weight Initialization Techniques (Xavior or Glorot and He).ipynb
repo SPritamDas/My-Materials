{
  "nbformat": 4,
  "nbformat_minor": 0,
  "metadata": {
    "colab": {
      "provenance": []
    },
    "kernelspec": {
      "name": "python3",
      "display_name": "Python 3"
    },
    "language_info": {
      "name": "python"
    }
  },
  "cells": [
    {
      "cell_type": "markdown",
      "source": [
        "# **Weight Initialization Techniques**\n",
        "---\n",
        "\n",
        "\n",
        "### 🧑‍💼 **Shuvendu Pritam Das**  \n",
        "*Data Science / ML Enthusiast*  \n",
        "\n",
        "- **GitHub:** [SPritamDas](https://github.com/SPritamDas/My-Profile)  \n",
        "- **LinkedIn:** [Shuvendu Pritam Das](https://www.linkedin.com/in/shuvendupritamdas/)  \n",
        "- **Email:** shuvendupritamdas181@gmail.com  \n",
        "\n",
        "---\n",
        "\n"
      ],
      "metadata": {
        "id": "hDlWGIPNpRhw"
      }
    },
    {
      "cell_type": "markdown",
      "source": [
        "# **Types**\n",
        "**Based on Normal Distribution**\n",
        "1.   Xavier/Glorot Normal Initialization <br> for  tanh/sigmid <br>np.random.**randn**(shape)*sqrt(1/fan_in)\n",
        "2.   He Normal Initialization<br> for  ReLu <br> np.random.**randn**(shape)*sqrt(2/fan_in)\n",
        "\n",
        "**Based on Uniform Distribution**\n",
        "1.   Xavier/Glorot Uniform Initialization <br> for tanh/sigmid <br> np.random.**uniform**(-linit,+limit)<br>where limit = sqrt(6/fan_in + fan_out)\n",
        "2.   He Uniform Initialization <br> for ReLu <br>  np.random.**uniform**(-linit,+limit)<br> where limit = sqrt(6/fan_in)"
      ],
      "metadata": {
        "id": "vP66ddhkxQLV"
      }
    },
    {
      "cell_type": "code",
      "execution_count": 1,
      "metadata": {
        "id": "MoHR_oNmnqSc"
      },
      "outputs": [],
      "source": [
        "import numpy as np\n",
        "import pandas as pd\n",
        "import matplotlib.pyplot as plt\n",
        "import seaborn as sns\n",
        "sns.set(style = 'whitegrid')\n",
        "\n",
        "import os\n",
        "import time\n",
        "import sys\n",
        "import datetime\n",
        "import pickle\n",
        "\n",
        "import warnings\n",
        "warnings.filterwarnings('ignore')\n",
        "\n",
        "pd.set_option('display.max_columns', None)\n",
        "pd.set_option('display.max_rows', None)\n",
        "\n",
        "import sklearn\n",
        "from sklearn.model_selection import train_test_split, GridSearchCV\n",
        "from sklearn.preprocessing import StandardScaler, MinMaxScaler\n",
        "from sklearn.metrics import confusion_matrix, classification_report, roc_curve, roc_auc_score,r2_score, mean_squared_error, mean_absolute_error, accuracy_score\n",
        "from sklearn import datasets\n",
        "from sklearn.pipeline import Pipeline\n",
        "\n",
        "import tensorflow\n",
        "from tensorflow import keras\n",
        "from tensorflow.keras import layers, models\n",
        "from tensorflow.keras.layers import Dense, Dropout, BatchNormalization, Activation,Flatten\n",
        "from tensorflow.keras.models import Sequential\n",
        "from tensorflow.keras.callbacks import EarlyStopping\n",
        "from tensorflow.keras.optimizers import Adam"
      ]
    },
    {
      "cell_type": "code",
      "source": [
        "x,y = datasets.make_moons(n_samples=100, noise=0.4, random_state=42)"
      ],
      "metadata": {
        "id": "WVt8jUh4u5_z"
      },
      "execution_count": 2,
      "outputs": []
    },
    {
      "cell_type": "code",
      "source": [
        "x_train,x_test,y_train,y_test = train_test_split(x,y,test_size=0.2,random_state=42)"
      ],
      "metadata": {
        "id": "dX2615D8u-C0"
      },
      "execution_count": 3,
      "outputs": []
    },
    {
      "cell_type": "markdown",
      "source": [
        "#1. Xavier Normal (For tanh and Sigmoid)"
      ],
      "metadata": {
        "id": "Y9kvFdx2u-8a"
      }
    },
    {
      "cell_type": "code",
      "source": [
        "model = Sequential()\n",
        "model.add(Dense(10, input_dim=2, activation='tanh'))\n",
        "model.add(Dense(10, activation='tanh'))\n",
        "model.add(Dense(10, activation='tanh'))\n",
        "model.add(Dense(1, activation='sigmoid'))\n",
        "model.summary()"
      ],
      "metadata": {
        "colab": {
          "base_uri": "https://localhost:8080/",
          "height": 274
        },
        "id": "5wHTHQmJvDv6",
        "outputId": "db4710d1-d879-4363-ba05-918d3c726ff4"
      },
      "execution_count": 4,
      "outputs": [
        {
          "output_type": "display_data",
          "data": {
            "text/plain": [
              "\u001b[1mModel: \"sequential\"\u001b[0m\n"
            ],
            "text/html": [
              "<pre style=\"white-space:pre;overflow-x:auto;line-height:normal;font-family:Menlo,'DejaVu Sans Mono',consolas,'Courier New',monospace\"><span style=\"font-weight: bold\">Model: \"sequential\"</span>\n",
              "</pre>\n"
            ]
          },
          "metadata": {}
        },
        {
          "output_type": "display_data",
          "data": {
            "text/plain": [
              "┏━━━━━━━━━━━━━━━━━━━━━━━━━━━━━━━━━━━━━━┳━━━━━━━━━━━━━━━━━━━━━━━━━━━━━┳━━━━━━━━━━━━━━━━━┓\n",
              "┃\u001b[1m \u001b[0m\u001b[1mLayer (type)                        \u001b[0m\u001b[1m \u001b[0m┃\u001b[1m \u001b[0m\u001b[1mOutput Shape               \u001b[0m\u001b[1m \u001b[0m┃\u001b[1m \u001b[0m\u001b[1m        Param #\u001b[0m\u001b[1m \u001b[0m┃\n",
              "┡━━━━━━━━━━━━━━━━━━━━━━━━━━━━━━━━━━━━━━╇━━━━━━━━━━━━━━━━━━━━━━━━━━━━━╇━━━━━━━━━━━━━━━━━┩\n",
              "│ dense (\u001b[38;5;33mDense\u001b[0m)                        │ (\u001b[38;5;45mNone\u001b[0m, \u001b[38;5;34m10\u001b[0m)                  │              \u001b[38;5;34m30\u001b[0m │\n",
              "├──────────────────────────────────────┼─────────────────────────────┼─────────────────┤\n",
              "│ dense_1 (\u001b[38;5;33mDense\u001b[0m)                      │ (\u001b[38;5;45mNone\u001b[0m, \u001b[38;5;34m10\u001b[0m)                  │             \u001b[38;5;34m110\u001b[0m │\n",
              "├──────────────────────────────────────┼─────────────────────────────┼─────────────────┤\n",
              "│ dense_2 (\u001b[38;5;33mDense\u001b[0m)                      │ (\u001b[38;5;45mNone\u001b[0m, \u001b[38;5;34m10\u001b[0m)                  │             \u001b[38;5;34m110\u001b[0m │\n",
              "├──────────────────────────────────────┼─────────────────────────────┼─────────────────┤\n",
              "│ dense_3 (\u001b[38;5;33mDense\u001b[0m)                      │ (\u001b[38;5;45mNone\u001b[0m, \u001b[38;5;34m1\u001b[0m)                   │              \u001b[38;5;34m11\u001b[0m │\n",
              "└──────────────────────────────────────┴─────────────────────────────┴─────────────────┘\n"
            ],
            "text/html": [
              "<pre style=\"white-space:pre;overflow-x:auto;line-height:normal;font-family:Menlo,'DejaVu Sans Mono',consolas,'Courier New',monospace\">┏━━━━━━━━━━━━━━━━━━━━━━━━━━━━━━━━━━━━━━┳━━━━━━━━━━━━━━━━━━━━━━━━━━━━━┳━━━━━━━━━━━━━━━━━┓\n",
              "┃<span style=\"font-weight: bold\"> Layer (type)                         </span>┃<span style=\"font-weight: bold\"> Output Shape                </span>┃<span style=\"font-weight: bold\">         Param # </span>┃\n",
              "┡━━━━━━━━━━━━━━━━━━━━━━━━━━━━━━━━━━━━━━╇━━━━━━━━━━━━━━━━━━━━━━━━━━━━━╇━━━━━━━━━━━━━━━━━┩\n",
              "│ dense (<span style=\"color: #0087ff; text-decoration-color: #0087ff\">Dense</span>)                        │ (<span style=\"color: #00d7ff; text-decoration-color: #00d7ff\">None</span>, <span style=\"color: #00af00; text-decoration-color: #00af00\">10</span>)                  │              <span style=\"color: #00af00; text-decoration-color: #00af00\">30</span> │\n",
              "├──────────────────────────────────────┼─────────────────────────────┼─────────────────┤\n",
              "│ dense_1 (<span style=\"color: #0087ff; text-decoration-color: #0087ff\">Dense</span>)                      │ (<span style=\"color: #00d7ff; text-decoration-color: #00d7ff\">None</span>, <span style=\"color: #00af00; text-decoration-color: #00af00\">10</span>)                  │             <span style=\"color: #00af00; text-decoration-color: #00af00\">110</span> │\n",
              "├──────────────────────────────────────┼─────────────────────────────┼─────────────────┤\n",
              "│ dense_2 (<span style=\"color: #0087ff; text-decoration-color: #0087ff\">Dense</span>)                      │ (<span style=\"color: #00d7ff; text-decoration-color: #00d7ff\">None</span>, <span style=\"color: #00af00; text-decoration-color: #00af00\">10</span>)                  │             <span style=\"color: #00af00; text-decoration-color: #00af00\">110</span> │\n",
              "├──────────────────────────────────────┼─────────────────────────────┼─────────────────┤\n",
              "│ dense_3 (<span style=\"color: #0087ff; text-decoration-color: #0087ff\">Dense</span>)                      │ (<span style=\"color: #00d7ff; text-decoration-color: #00d7ff\">None</span>, <span style=\"color: #00af00; text-decoration-color: #00af00\">1</span>)                   │              <span style=\"color: #00af00; text-decoration-color: #00af00\">11</span> │\n",
              "└──────────────────────────────────────┴─────────────────────────────┴─────────────────┘\n",
              "</pre>\n"
            ]
          },
          "metadata": {}
        },
        {
          "output_type": "display_data",
          "data": {
            "text/plain": [
              "\u001b[1m Total params: \u001b[0m\u001b[38;5;34m261\u001b[0m (1.02 KB)\n"
            ],
            "text/html": [
              "<pre style=\"white-space:pre;overflow-x:auto;line-height:normal;font-family:Menlo,'DejaVu Sans Mono',consolas,'Courier New',monospace\"><span style=\"font-weight: bold\"> Total params: </span><span style=\"color: #00af00; text-decoration-color: #00af00\">261</span> (1.02 KB)\n",
              "</pre>\n"
            ]
          },
          "metadata": {}
        },
        {
          "output_type": "display_data",
          "data": {
            "text/plain": [
              "\u001b[1m Trainable params: \u001b[0m\u001b[38;5;34m261\u001b[0m (1.02 KB)\n"
            ],
            "text/html": [
              "<pre style=\"white-space:pre;overflow-x:auto;line-height:normal;font-family:Menlo,'DejaVu Sans Mono',consolas,'Courier New',monospace\"><span style=\"font-weight: bold\"> Trainable params: </span><span style=\"color: #00af00; text-decoration-color: #00af00\">261</span> (1.02 KB)\n",
              "</pre>\n"
            ]
          },
          "metadata": {}
        },
        {
          "output_type": "display_data",
          "data": {
            "text/plain": [
              "\u001b[1m Non-trainable params: \u001b[0m\u001b[38;5;34m0\u001b[0m (0.00 B)\n"
            ],
            "text/html": [
              "<pre style=\"white-space:pre;overflow-x:auto;line-height:normal;font-family:Menlo,'DejaVu Sans Mono',consolas,'Courier New',monospace\"><span style=\"font-weight: bold\"> Non-trainable params: </span><span style=\"color: #00af00; text-decoration-color: #00af00\">0</span> (0.00 B)\n",
              "</pre>\n"
            ]
          },
          "metadata": {}
        }
      ]
    },
    {
      "cell_type": "code",
      "source": [
        "model.get_weights()"
      ],
      "metadata": {
        "colab": {
          "base_uri": "https://localhost:8080/"
        },
        "id": "HS1CfvMpvY6q",
        "outputId": "987ebf51-8779-4e2d-8cc9-7c64c79de812"
      },
      "execution_count": 5,
      "outputs": [
        {
          "output_type": "execute_result",
          "data": {
            "text/plain": [
              "[array([[-0.0255993 ,  0.25268453,  0.24463326, -0.36101085,  0.34055704,\n",
              "         -0.09758747,  0.12147766, -0.2683412 ,  0.44732267, -0.17737216],\n",
              "        [ 0.00192761, -0.59102035, -0.24895671, -0.46106392,  0.35490495,\n",
              "         -0.38159114, -0.34303352,  0.69649273, -0.07771695, -0.00148326]],\n",
              "       dtype=float32),\n",
              " array([0., 0., 0., 0., 0., 0., 0., 0., 0., 0.], dtype=float32),\n",
              " array([[-0.0490534 ,  0.00249147, -0.5466348 , -0.34105286, -0.01250035,\n",
              "         -0.11394989, -0.5420765 ,  0.326913  ,  0.52018905, -0.40137112],\n",
              "        [-0.17484549, -0.44509393, -0.33388898,  0.24283218,  0.2522859 ,\n",
              "          0.12485838,  0.31579548,  0.26295358, -0.3651095 ,  0.04686606],\n",
              "        [ 0.1273945 , -0.2892834 ,  0.390469  ,  0.11756301, -0.04649413,\n",
              "         -0.4097625 ,  0.05022192, -0.12931153, -0.12349218,  0.3266675 ],\n",
              "        [-0.00300753, -0.45072028, -0.36676782, -0.08919865, -0.350192  ,\n",
              "          0.33870178, -0.21808723, -0.06293547, -0.54482627, -0.38961995],\n",
              "        [ 0.29344177,  0.24745226,  0.06279379,  0.40616536,  0.48207128,\n",
              "         -0.06507319, -0.45659292,  0.24299008,  0.22725981, -0.50566185],\n",
              "        [ 0.40177345,  0.52183115, -0.5136436 ,  0.4775808 , -0.02918941,\n",
              "          0.307104  ,  0.14399749,  0.47390318,  0.53967524,  0.1294877 ],\n",
              "        [ 0.40349644, -0.48708114, -0.01438719,  0.1764679 ,  0.43308306,\n",
              "         -0.4968086 ,  0.10053843,  0.09941477,  0.53705347,  0.15451616],\n",
              "        [ 0.44245923,  0.00937432,  0.37274194, -0.19441774, -0.0582957 ,\n",
              "         -0.13679808, -0.43157098, -0.38737974, -0.49005932,  0.37439924],\n",
              "        [ 0.05313319,  0.4219185 , -0.01707309,  0.4793924 , -0.29102072,\n",
              "          0.34112614, -0.39560124, -0.22972295, -0.5050216 ,  0.07916749],\n",
              "        [ 0.50771546, -0.5330627 ,  0.34381008,  0.12766784,  0.52207184,\n",
              "         -0.32169148,  0.26029795, -0.38201427,  0.37461245, -0.00344414]],\n",
              "       dtype=float32),\n",
              " array([0., 0., 0., 0., 0., 0., 0., 0., 0., 0.], dtype=float32),\n",
              " array([[ 0.25760394, -0.3429362 , -0.03723758,  0.0299353 , -0.432845  ,\n",
              "          0.12134832, -0.4027906 , -0.16263035, -0.25727788,  0.00175834],\n",
              "        [ 0.4178775 ,  0.39474225, -0.07805932, -0.04725522,  0.41493976,\n",
              "          0.46630037,  0.507388  , -0.5033933 , -0.23490581,  0.47540593],\n",
              "        [-0.37854916, -0.47739196, -0.54587436,  0.41575205, -0.5471266 ,\n",
              "          0.02342159,  0.38339537,  0.15189582, -0.23324695,  0.11597228],\n",
              "        [-0.44995922, -0.07560909, -0.48829716,  0.52946985, -0.38380516,\n",
              "          0.02058393,  0.3213672 , -0.25638336,  0.0699411 ,  0.17980987],\n",
              "        [ 0.30601424,  0.3019591 ,  0.49574125, -0.20076716,  0.20304346,\n",
              "         -0.31305915, -0.4765849 , -0.19923761,  0.5385033 ,  0.36374295],\n",
              "        [-0.42305368, -0.27510998, -0.20209813,  0.11049706,  0.5180837 ,\n",
              "         -0.1360685 ,  0.4109596 ,  0.2353878 ,  0.12529165, -0.39695698],\n",
              "        [ 0.4784497 , -0.37491924,  0.53866327, -0.190716  , -0.37281704,\n",
              "          0.22695565,  0.1278764 ,  0.2035641 , -0.3129633 ,  0.16471636],\n",
              "        [-0.11774424, -0.33114183, -0.2260375 ,  0.36777127,  0.24789059,\n",
              "          0.40422416,  0.36468107,  0.00804967,  0.5422597 , -0.4049351 ],\n",
              "        [ 0.53086257,  0.20749044, -0.4609881 , -0.19776809,  0.17717296,\n",
              "          0.09252745, -0.45888513,  0.40095115, -0.36313087, -0.26709503],\n",
              "        [-0.29553708,  0.46223164,  0.07949734, -0.18149039, -0.08602265,\n",
              "         -0.2538053 , -0.29042277, -0.07890317, -0.00221187,  0.31875223]],\n",
              "       dtype=float32),\n",
              " array([0., 0., 0., 0., 0., 0., 0., 0., 0., 0.], dtype=float32),\n",
              " array([[-0.37406817],\n",
              "        [-0.5574913 ],\n",
              "        [ 0.48490447],\n",
              "        [-0.19692224],\n",
              "        [-0.21347904],\n",
              "        [-0.24310973],\n",
              "        [ 0.34891635],\n",
              "        [ 0.4627158 ],\n",
              "        [ 0.00612736],\n",
              "        [-0.6918006 ]], dtype=float32),\n",
              " array([0.], dtype=float32)]"
            ]
          },
          "metadata": {},
          "execution_count": 5
        }
      ]
    },
    {
      "cell_type": "code",
      "source": [
        "initialized_weights= model.get_weights()"
      ],
      "metadata": {
        "id": "T8CX6V83vds9"
      },
      "execution_count": 6,
      "outputs": []
    },
    {
      "cell_type": "code",
      "source": [
        "initialized_weights[0] = np.random.randn(2,10)*np.sqrt(1/2)\n",
        "initialized_weights[1] = np.zeros(model.get_weights()[1].shape)\n",
        "initialized_weights[2] = np.random.randn(10,10)*np.sqrt(1/10)\n",
        "initialized_weights[3] = np.zeros(model.get_weights()[3].shape)\n",
        "initialized_weights[4] = np.random.randn(10,10)*np.sqrt(1/10)\n",
        "initialized_weights[5] = np.zeros(model.get_weights()[5].shape)\n",
        "initialized_weights[6] = np.random.randn(10,1)*np.sqrt(1/10)\n",
        "initialized_weights[7] = np.zeros(model.get_weights()[7].shape)"
      ],
      "metadata": {
        "id": "N0YiDkQXvnSS"
      },
      "execution_count": 7,
      "outputs": []
    },
    {
      "cell_type": "code",
      "source": [
        "model.set_weights(initialized_weights)"
      ],
      "metadata": {
        "id": "UgP6iCixwf7h"
      },
      "execution_count": 8,
      "outputs": []
    },
    {
      "cell_type": "code",
      "source": [
        "model.get_weights()"
      ],
      "metadata": {
        "colab": {
          "base_uri": "https://localhost:8080/"
        },
        "id": "M-RmOfP6whlB",
        "outputId": "6b1cadec-f2e5-46ca-b404-55c8fd79a235"
      },
      "execution_count": 9,
      "outputs": [
        {
          "output_type": "execute_result",
          "data": {
            "text/plain": [
              "[array([[-0.17281118, -0.15920414, -1.0332439 , -0.5207258 , -0.89525056,\n",
              "         -0.8081679 ,  0.7527578 ,  0.395673  , -0.13428485,  0.7152847 ],\n",
              "        [ 0.15079503,  0.2718254 ,  0.76076734,  0.12760103,  1.0865469 ,\n",
              "          0.78700954, -0.511012  , -0.14893983,  0.00773167, -0.95362824]],\n",
              "       dtype=float32),\n",
              " array([0., 0., 0., 0., 0., 0., 0., 0., 0., 0.], dtype=float32),\n",
              " array([[-0.28089154, -0.07275704, -0.13284925,  0.3984356 , -0.02916189,\n",
              "          0.32605302,  0.40660748, -0.6942478 , -0.01496066, -0.13489169],\n",
              "        [ 0.00353968, -1.4116954 , -0.47141138, -0.23619358,  0.4774899 ,\n",
              "          0.02039023,  0.50225735, -0.30739862,  0.17585589, -0.10287562],\n",
              "        [ 0.20177823, -0.7531089 , -0.4558341 ,  0.04592383,  0.21206538,\n",
              "          0.00329656,  0.39480913, -0.2993106 , -0.21900275,  0.04798449],\n",
              "        [ 0.20289099, -0.5430787 ,  0.17682636, -0.06902299,  0.34644538,\n",
              "          0.20046265, -0.24203682,  0.14617191, -0.07966295,  0.31134373],\n",
              "        [-0.14576118, -0.05060229,  0.20151687,  0.34812817,  0.20799632,\n",
              "          0.2804849 ,  0.31806678, -0.56433225,  0.37619796,  0.04656558],\n",
              "        [-0.00245953,  0.6433564 ,  0.3128689 ,  0.3235043 ,  0.14017929,\n",
              "         -0.53464115, -0.11012085,  0.60654193, -0.09425364,  0.02828646],\n",
              "        [-0.03681501, -0.27228132,  0.07031227, -0.11319833,  0.18381883,\n",
              "          0.13274212,  0.3433266 ,  0.0061549 , -0.05348692,  0.15461121],\n",
              "        [-0.5607579 , -0.23737822,  0.2574796 ,  0.18791732,  0.05175059,\n",
              "         -0.36271986,  0.27117747,  0.06264203, -0.21539907, -0.03792842],\n",
              "        [-0.40360597,  0.11080481,  0.20794658, -0.23098391, -0.17332841,\n",
              "         -0.25831202, -0.07004491, -0.19033699, -0.25748593,  0.1806605 ],\n",
              "        [ 0.0887467 , -0.07047214,  0.09070411, -0.34850606, -0.13635829,\n",
              "         -0.4183511 ,  0.29171884, -0.35879654, -0.12952885,  0.11296182]],\n",
              "       dtype=float32),\n",
              " array([0., 0., 0., 0., 0., 0., 0., 0., 0., 0.], dtype=float32),\n",
              " array([[ 3.6206424e-01, -1.6677132e-01,  3.3293441e-01,  1.3456184e-01,\n",
              "         -2.8414693e-01,  6.0713339e-01,  3.6142066e-01, -6.1530733e-01,\n",
              "          1.8702960e-01, -1.1518388e-01],\n",
              "        [-3.2750085e-01,  3.1972390e-01, -2.7352455e-01, -2.2305265e-01,\n",
              "          3.5284612e-01, -1.5407586e-03,  3.2660488e-02, -4.3839332e-01,\n",
              "         -3.7036866e-01, -2.2070496e-01],\n",
              "        [-2.1094809e-01, -2.2891265e-01,  5.2005661e-01,  5.9833568e-01,\n",
              "         -9.9630103e-02,  4.4897056e-01,  4.7691084e-02, -3.5490111e-01,\n",
              "          4.0070400e-01,  7.7723362e-02],\n",
              "        [ 2.2749481e-01,  3.7402219e-01,  2.6019233e-01, -1.9402924e-01,\n",
              "         -4.2927638e-02,  2.6307844e-02, -4.6524659e-01,  7.4764299e-01,\n",
              "         -4.8181299e-02,  6.3248730e-01],\n",
              "        [-1.7514116e-01, -2.7830836e-01,  4.4696193e-04,  1.5790120e-01,\n",
              "          7.2954559e-01,  1.0489825e-01,  4.6566671e-01, -9.3503796e-02,\n",
              "          2.3266287e-01,  3.3782524e-01],\n",
              "        [-7.2963126e-02,  1.0094180e-01,  4.4451517e-01,  1.9569001e-01,\n",
              "          2.5087625e-01,  3.0566433e-02, -4.7741017e-01,  4.7808829e-01,\n",
              "          9.1331536e-03, -2.7244082e-01],\n",
              "        [-1.9743522e-01,  1.5378939e-01, -8.1323457e-01,  1.7196943e-01,\n",
              "          2.9711020e-01,  3.4061104e-01, -1.3055958e-01, -9.9057294e-02,\n",
              "          2.8139362e-01, -3.8625821e-01],\n",
              "        [ 2.1479797e-01,  1.3486439e-01,  1.7293127e-01,  2.5153565e-01,\n",
              "          7.4469529e-02, -1.1481234e-02, -5.1516891e-01, -1.0723852e-01,\n",
              "         -2.4937090e-02,  2.9834214e-01],\n",
              "        [-3.2828245e-01, -2.9735526e-01,  8.4669486e-02, -3.7851673e-02,\n",
              "         -7.1261711e-02,  2.5462387e-02,  4.2184681e-01, -5.2579127e-02,\n",
              "         -3.0160621e-01,  1.7613612e-02],\n",
              "        [ 3.6633489e-01, -2.2238241e-01, -1.3907830e-01, -6.2177669e-02,\n",
              "         -5.5629075e-01,  6.3358504e-01, -3.9083320e-01, -2.2287145e-01,\n",
              "         -5.6748176e-01, -3.3214560e-01]], dtype=float32),\n",
              " array([0., 0., 0., 0., 0., 0., 0., 0., 0., 0.], dtype=float32),\n",
              " array([[-0.25827122],\n",
              "        [-0.01160918],\n",
              "        [ 0.25265542],\n",
              "        [ 0.46090814],\n",
              "        [ 0.38469326],\n",
              "        [ 0.09600738],\n",
              "        [ 0.25076172],\n",
              "        [-0.14517699],\n",
              "        [-0.11329012],\n",
              "        [ 0.58219266]], dtype=float32),\n",
              " array([0.], dtype=float32)]"
            ]
          },
          "metadata": {},
          "execution_count": 9
        }
      ]
    },
    {
      "cell_type": "code",
      "source": [
        "model.compile(loss='binary_crossentropy', optimizer='Adam', metrics=['accuracy'])\n",
        "history = model.fit(x_train,y_train,epochs = 100,validation_split = 0.2)"
      ],
      "metadata": {
        "colab": {
          "base_uri": "https://localhost:8080/"
        },
        "id": "k9n_cirGvMl1",
        "outputId": "6b983e0d-a802-44db-db78-6d21005460be"
      },
      "execution_count": 10,
      "outputs": [
        {
          "output_type": "stream",
          "name": "stdout",
          "text": [
            "Epoch 1/100\n",
            "\u001b[1m2/2\u001b[0m \u001b[32m━━━━━━━━━━━━━━━━━━━━\u001b[0m\u001b[37m\u001b[0m \u001b[1m7s\u001b[0m 436ms/step - accuracy: 0.1979 - loss: 0.7865 - val_accuracy: 0.2500 - val_loss: 0.7641\n",
            "Epoch 2/100\n",
            "\u001b[1m2/2\u001b[0m \u001b[32m━━━━━━━━━━━━━━━━━━━━\u001b[0m\u001b[37m\u001b[0m \u001b[1m0s\u001b[0m 66ms/step - accuracy: 0.1875 - loss: 0.7738 - val_accuracy: 0.2500 - val_loss: 0.7517\n",
            "Epoch 3/100\n",
            "\u001b[1m2/2\u001b[0m \u001b[32m━━━━━━━━━━━━━━━━━━━━\u001b[0m\u001b[37m\u001b[0m \u001b[1m0s\u001b[0m 171ms/step - accuracy: 0.1979 - loss: 0.7614 - val_accuracy: 0.2500 - val_loss: 0.7396\n",
            "Epoch 4/100\n",
            "\u001b[1m2/2\u001b[0m \u001b[32m━━━━━━━━━━━━━━━━━━━━\u001b[0m\u001b[37m\u001b[0m \u001b[1m0s\u001b[0m 138ms/step - accuracy: 0.1979 - loss: 0.7486 - val_accuracy: 0.2500 - val_loss: 0.7278\n",
            "Epoch 5/100\n",
            "\u001b[1m2/2\u001b[0m \u001b[32m━━━━━━━━━━━━━━━━━━━━\u001b[0m\u001b[37m\u001b[0m \u001b[1m0s\u001b[0m 50ms/step - accuracy: 0.1667 - loss: 0.7355 - val_accuracy: 0.2500 - val_loss: 0.7165\n",
            "Epoch 6/100\n",
            "\u001b[1m2/2\u001b[0m \u001b[32m━━━━━━━━━━━━━━━━━━━━\u001b[0m\u001b[37m\u001b[0m \u001b[1m0s\u001b[0m 47ms/step - accuracy: 0.2188 - loss: 0.7210 - val_accuracy: 0.3750 - val_loss: 0.7057\n",
            "Epoch 7/100\n",
            "\u001b[1m2/2\u001b[0m \u001b[32m━━━━━━━━━━━━━━━━━━━━\u001b[0m\u001b[37m\u001b[0m \u001b[1m0s\u001b[0m 199ms/step - accuracy: 0.2500 - loss: 0.7098 - val_accuracy: 0.5625 - val_loss: 0.6951\n",
            "Epoch 8/100\n",
            "\u001b[1m2/2\u001b[0m \u001b[32m━━━━━━━━━━━━━━━━━━━━\u001b[0m\u001b[37m\u001b[0m \u001b[1m0s\u001b[0m 89ms/step - accuracy: 0.4688 - loss: 0.6959 - val_accuracy: 0.5625 - val_loss: 0.6851\n",
            "Epoch 9/100\n",
            "\u001b[1m2/2\u001b[0m \u001b[32m━━━━━━━━━━━━━━━━━━━━\u001b[0m\u001b[37m\u001b[0m \u001b[1m0s\u001b[0m 67ms/step - accuracy: 0.5833 - loss: 0.6844 - val_accuracy: 0.7500 - val_loss: 0.6752\n",
            "Epoch 10/100\n",
            "\u001b[1m2/2\u001b[0m \u001b[32m━━━━━━━━━━━━━━━━━━━━\u001b[0m\u001b[37m\u001b[0m \u001b[1m0s\u001b[0m 112ms/step - accuracy: 0.6979 - loss: 0.6752 - val_accuracy: 0.7500 - val_loss: 0.6659\n",
            "Epoch 11/100\n",
            "\u001b[1m2/2\u001b[0m \u001b[32m━━━━━━━━━━━━━━━━━━━━\u001b[0m\u001b[37m\u001b[0m \u001b[1m0s\u001b[0m 65ms/step - accuracy: 0.6979 - loss: 0.6648 - val_accuracy: 0.6875 - val_loss: 0.6568\n",
            "Epoch 12/100\n",
            "\u001b[1m2/2\u001b[0m \u001b[32m━━━━━━━━━━━━━━━━━━━━\u001b[0m\u001b[37m\u001b[0m \u001b[1m0s\u001b[0m 55ms/step - accuracy: 0.7188 - loss: 0.6521 - val_accuracy: 0.6875 - val_loss: 0.6481\n",
            "Epoch 13/100\n",
            "\u001b[1m2/2\u001b[0m \u001b[32m━━━━━━━━━━━━━━━━━━━━\u001b[0m\u001b[37m\u001b[0m \u001b[1m0s\u001b[0m 66ms/step - accuracy: 0.7917 - loss: 0.6353 - val_accuracy: 0.6875 - val_loss: 0.6397\n",
            "Epoch 14/100\n",
            "\u001b[1m2/2\u001b[0m \u001b[32m━━━━━━━━━━━━━━━━━━━━\u001b[0m\u001b[37m\u001b[0m \u001b[1m0s\u001b[0m 67ms/step - accuracy: 0.7500 - loss: 0.6289 - val_accuracy: 0.6875 - val_loss: 0.6317\n",
            "Epoch 15/100\n",
            "\u001b[1m2/2\u001b[0m \u001b[32m━━━━━━━━━━━━━━━━━━━━\u001b[0m\u001b[37m\u001b[0m \u001b[1m0s\u001b[0m 79ms/step - accuracy: 0.7604 - loss: 0.6148 - val_accuracy: 0.6875 - val_loss: 0.6241\n",
            "Epoch 16/100\n",
            "\u001b[1m2/2\u001b[0m \u001b[32m━━━━━━━━━━━━━━━━━━━━\u001b[0m\u001b[37m\u001b[0m \u001b[1m0s\u001b[0m 42ms/step - accuracy: 0.7083 - loss: 0.6164 - val_accuracy: 0.7500 - val_loss: 0.6170\n",
            "Epoch 17/100\n",
            "\u001b[1m2/2\u001b[0m \u001b[32m━━━━━━━━━━━━━━━━━━━━\u001b[0m\u001b[37m\u001b[0m \u001b[1m0s\u001b[0m 109ms/step - accuracy: 0.7604 - loss: 0.5914 - val_accuracy: 0.7500 - val_loss: 0.6102\n",
            "Epoch 18/100\n",
            "\u001b[1m2/2\u001b[0m \u001b[32m━━━━━━━━━━━━━━━━━━━━\u001b[0m\u001b[37m\u001b[0m \u001b[1m0s\u001b[0m 42ms/step - accuracy: 0.7188 - loss: 0.5985 - val_accuracy: 0.7500 - val_loss: 0.6039\n",
            "Epoch 19/100\n",
            "\u001b[1m2/2\u001b[0m \u001b[32m━━━━━━━━━━━━━━━━━━━━\u001b[0m\u001b[37m\u001b[0m \u001b[1m0s\u001b[0m 73ms/step - accuracy: 0.7188 - loss: 0.5842 - val_accuracy: 0.7500 - val_loss: 0.5979\n",
            "Epoch 20/100\n",
            "\u001b[1m2/2\u001b[0m \u001b[32m━━━━━━━━━━━━━━━━━━━━\u001b[0m\u001b[37m\u001b[0m \u001b[1m0s\u001b[0m 64ms/step - accuracy: 0.7917 - loss: 0.5646 - val_accuracy: 0.7500 - val_loss: 0.5922\n",
            "Epoch 21/100\n",
            "\u001b[1m2/2\u001b[0m \u001b[32m━━━━━━━━━━━━━━━━━━━━\u001b[0m\u001b[37m\u001b[0m \u001b[1m0s\u001b[0m 43ms/step - accuracy: 0.7500 - loss: 0.5657 - val_accuracy: 0.7500 - val_loss: 0.5870\n",
            "Epoch 22/100\n",
            "\u001b[1m2/2\u001b[0m \u001b[32m━━━━━━━━━━━━━━━━━━━━\u001b[0m\u001b[37m\u001b[0m \u001b[1m0s\u001b[0m 61ms/step - accuracy: 0.7396 - loss: 0.5565 - val_accuracy: 0.7500 - val_loss: 0.5821\n",
            "Epoch 23/100\n",
            "\u001b[1m2/2\u001b[0m \u001b[32m━━━━━━━━━━━━━━━━━━━━\u001b[0m\u001b[37m\u001b[0m \u001b[1m0s\u001b[0m 103ms/step - accuracy: 0.6979 - loss: 0.5576 - val_accuracy: 0.7500 - val_loss: 0.5777\n",
            "Epoch 24/100\n",
            "\u001b[1m2/2\u001b[0m \u001b[32m━━━━━━━━━━━━━━━━━━━━\u001b[0m\u001b[37m\u001b[0m \u001b[1m0s\u001b[0m 86ms/step - accuracy: 0.7292 - loss: 0.5499 - val_accuracy: 0.7500 - val_loss: 0.5736\n",
            "Epoch 25/100\n",
            "\u001b[1m2/2\u001b[0m \u001b[32m━━━━━━━━━━━━━━━━━━━━\u001b[0m\u001b[37m\u001b[0m \u001b[1m0s\u001b[0m 61ms/step - accuracy: 0.7083 - loss: 0.5458 - val_accuracy: 0.7500 - val_loss: 0.5698\n",
            "Epoch 26/100\n",
            "\u001b[1m2/2\u001b[0m \u001b[32m━━━━━━━━━━━━━━━━━━━━\u001b[0m\u001b[37m\u001b[0m \u001b[1m0s\u001b[0m 101ms/step - accuracy: 0.7604 - loss: 0.5199 - val_accuracy: 0.7500 - val_loss: 0.5663\n",
            "Epoch 27/100\n",
            "\u001b[1m2/2\u001b[0m \u001b[32m━━━━━━━━━━━━━━━━━━━━\u001b[0m\u001b[37m\u001b[0m \u001b[1m0s\u001b[0m 58ms/step - accuracy: 0.7396 - loss: 0.5326 - val_accuracy: 0.7500 - val_loss: 0.5632\n",
            "Epoch 28/100\n",
            "\u001b[1m2/2\u001b[0m \u001b[32m━━━━━━━━━━━━━━━━━━━━\u001b[0m\u001b[37m\u001b[0m \u001b[1m0s\u001b[0m 75ms/step - accuracy: 0.7500 - loss: 0.5226 - val_accuracy: 0.7500 - val_loss: 0.5604\n",
            "Epoch 29/100\n",
            "\u001b[1m2/2\u001b[0m \u001b[32m━━━━━━━━━━━━━━━━━━━━\u001b[0m\u001b[37m\u001b[0m \u001b[1m0s\u001b[0m 108ms/step - accuracy: 0.7500 - loss: 0.5164 - val_accuracy: 0.7500 - val_loss: 0.5579\n",
            "Epoch 30/100\n",
            "\u001b[1m2/2\u001b[0m \u001b[32m━━━━━━━━━━━━━━━━━━━━\u001b[0m\u001b[37m\u001b[0m \u001b[1m0s\u001b[0m 91ms/step - accuracy: 0.7292 - loss: 0.5190 - val_accuracy: 0.7500 - val_loss: 0.5557\n",
            "Epoch 31/100\n",
            "\u001b[1m2/2\u001b[0m \u001b[32m━━━━━━━━━━━━━━━━━━━━\u001b[0m\u001b[37m\u001b[0m \u001b[1m0s\u001b[0m 59ms/step - accuracy: 0.7396 - loss: 0.5022 - val_accuracy: 0.7500 - val_loss: 0.5537\n",
            "Epoch 32/100\n",
            "\u001b[1m2/2\u001b[0m \u001b[32m━━━━━━━━━━━━━━━━━━━━\u001b[0m\u001b[37m\u001b[0m \u001b[1m0s\u001b[0m 57ms/step - accuracy: 0.7812 - loss: 0.4684 - val_accuracy: 0.7500 - val_loss: 0.5520\n",
            "Epoch 33/100\n",
            "\u001b[1m2/2\u001b[0m \u001b[32m━━━━━━━━━━━━━━━━━━━━\u001b[0m\u001b[37m\u001b[0m \u001b[1m0s\u001b[0m 83ms/step - accuracy: 0.7604 - loss: 0.4873 - val_accuracy: 0.7500 - val_loss: 0.5505\n",
            "Epoch 34/100\n",
            "\u001b[1m2/2\u001b[0m \u001b[32m━━━━━━━━━━━━━━━━━━━━\u001b[0m\u001b[37m\u001b[0m \u001b[1m0s\u001b[0m 72ms/step - accuracy: 0.7396 - loss: 0.4977 - val_accuracy: 0.7500 - val_loss: 0.5493\n",
            "Epoch 35/100\n",
            "\u001b[1m2/2\u001b[0m \u001b[32m━━━━━━━━━━━━━━━━━━━━\u001b[0m\u001b[37m\u001b[0m \u001b[1m0s\u001b[0m 165ms/step - accuracy: 0.7500 - loss: 0.4719 - val_accuracy: 0.7500 - val_loss: 0.5483\n",
            "Epoch 36/100\n",
            "\u001b[1m2/2\u001b[0m \u001b[32m━━━━━━━━━━━━━━━━━━━━\u001b[0m\u001b[37m\u001b[0m \u001b[1m1s\u001b[0m 75ms/step - accuracy: 0.7396 - loss: 0.4781 - val_accuracy: 0.7500 - val_loss: 0.5475\n",
            "Epoch 37/100\n",
            "\u001b[1m2/2\u001b[0m \u001b[32m━━━━━━━━━━━━━━━━━━━━\u001b[0m\u001b[37m\u001b[0m \u001b[1m0s\u001b[0m 32ms/step - accuracy: 0.7812 - loss: 0.4609 - val_accuracy: 0.7500 - val_loss: 0.5468\n",
            "Epoch 38/100\n",
            "\u001b[1m2/2\u001b[0m \u001b[32m━━━━━━━━━━━━━━━━━━━━\u001b[0m\u001b[37m\u001b[0m \u001b[1m0s\u001b[0m 30ms/step - accuracy: 0.7708 - loss: 0.4559 - val_accuracy: 0.7500 - val_loss: 0.5463\n",
            "Epoch 39/100\n",
            "\u001b[1m2/2\u001b[0m \u001b[32m━━━━━━━━━━━━━━━━━━━━\u001b[0m\u001b[37m\u001b[0m \u001b[1m0s\u001b[0m 31ms/step - accuracy: 0.7396 - loss: 0.4864 - val_accuracy: 0.7500 - val_loss: 0.5460\n",
            "Epoch 40/100\n",
            "\u001b[1m2/2\u001b[0m \u001b[32m━━━━━━━━━━━━━━━━━━━━\u001b[0m\u001b[37m\u001b[0m \u001b[1m0s\u001b[0m 30ms/step - accuracy: 0.7396 - loss: 0.4667 - val_accuracy: 0.7500 - val_loss: 0.5458\n",
            "Epoch 41/100\n",
            "\u001b[1m2/2\u001b[0m \u001b[32m━━━━━━━━━━━━━━━━━━━━\u001b[0m\u001b[37m\u001b[0m \u001b[1m0s\u001b[0m 35ms/step - accuracy: 0.8021 - loss: 0.4557 - val_accuracy: 0.7500 - val_loss: 0.5457\n",
            "Epoch 42/100\n",
            "\u001b[1m2/2\u001b[0m \u001b[32m━━━━━━━━━━━━━━━━━━━━\u001b[0m\u001b[37m\u001b[0m \u001b[1m0s\u001b[0m 29ms/step - accuracy: 0.7917 - loss: 0.4671 - val_accuracy: 0.7500 - val_loss: 0.5458\n",
            "Epoch 43/100\n",
            "\u001b[1m2/2\u001b[0m \u001b[32m━━━━━━━━━━━━━━━━━━━━\u001b[0m\u001b[37m\u001b[0m \u001b[1m0s\u001b[0m 33ms/step - accuracy: 0.8021 - loss: 0.4524 - val_accuracy: 0.7500 - val_loss: 0.5459\n",
            "Epoch 44/100\n",
            "\u001b[1m2/2\u001b[0m \u001b[32m━━━━━━━━━━━━━━━━━━━━\u001b[0m\u001b[37m\u001b[0m \u001b[1m0s\u001b[0m 31ms/step - accuracy: 0.7708 - loss: 0.4721 - val_accuracy: 0.7500 - val_loss: 0.5461\n",
            "Epoch 45/100\n",
            "\u001b[1m2/2\u001b[0m \u001b[32m━━━━━━━━━━━━━━━━━━━━\u001b[0m\u001b[37m\u001b[0m \u001b[1m0s\u001b[0m 32ms/step - accuracy: 0.7812 - loss: 0.4527 - val_accuracy: 0.7500 - val_loss: 0.5464\n",
            "Epoch 46/100\n",
            "\u001b[1m2/2\u001b[0m \u001b[32m━━━━━━━━━━━━━━━━━━━━\u001b[0m\u001b[37m\u001b[0m \u001b[1m0s\u001b[0m 34ms/step - accuracy: 0.7812 - loss: 0.4616 - val_accuracy: 0.7500 - val_loss: 0.5467\n",
            "Epoch 47/100\n",
            "\u001b[1m2/2\u001b[0m \u001b[32m━━━━━━━━━━━━━━━━━━━━\u001b[0m\u001b[37m\u001b[0m \u001b[1m0s\u001b[0m 31ms/step - accuracy: 0.7812 - loss: 0.4583 - val_accuracy: 0.7500 - val_loss: 0.5472\n",
            "Epoch 48/100\n",
            "\u001b[1m2/2\u001b[0m \u001b[32m━━━━━━━━━━━━━━━━━━━━\u001b[0m\u001b[37m\u001b[0m \u001b[1m0s\u001b[0m 40ms/step - accuracy: 0.8125 - loss: 0.4302 - val_accuracy: 0.7500 - val_loss: 0.5476\n",
            "Epoch 49/100\n",
            "\u001b[1m2/2\u001b[0m \u001b[32m━━━━━━━━━━━━━━━━━━━━\u001b[0m\u001b[37m\u001b[0m \u001b[1m0s\u001b[0m 39ms/step - accuracy: 0.7292 - loss: 0.4800 - val_accuracy: 0.7500 - val_loss: 0.5480\n",
            "Epoch 50/100\n",
            "\u001b[1m2/2\u001b[0m \u001b[32m━━━━━━━━━━━━━━━━━━━━\u001b[0m\u001b[37m\u001b[0m \u001b[1m0s\u001b[0m 39ms/step - accuracy: 0.7708 - loss: 0.4325 - val_accuracy: 0.7500 - val_loss: 0.5485\n",
            "Epoch 51/100\n",
            "\u001b[1m2/2\u001b[0m \u001b[32m━━━━━━━━━━━━━━━━━━━━\u001b[0m\u001b[37m\u001b[0m \u001b[1m0s\u001b[0m 30ms/step - accuracy: 0.7604 - loss: 0.4565 - val_accuracy: 0.7500 - val_loss: 0.5490\n",
            "Epoch 52/100\n",
            "\u001b[1m2/2\u001b[0m \u001b[32m━━━━━━━━━━━━━━━━━━━━\u001b[0m\u001b[37m\u001b[0m \u001b[1m0s\u001b[0m 30ms/step - accuracy: 0.7292 - loss: 0.4629 - val_accuracy: 0.7500 - val_loss: 0.5495\n",
            "Epoch 53/100\n",
            "\u001b[1m2/2\u001b[0m \u001b[32m━━━━━━━━━━━━━━━━━━━━\u001b[0m\u001b[37m\u001b[0m \u001b[1m0s\u001b[0m 35ms/step - accuracy: 0.7812 - loss: 0.4316 - val_accuracy: 0.7500 - val_loss: 0.5501\n",
            "Epoch 54/100\n",
            "\u001b[1m2/2\u001b[0m \u001b[32m━━━━━━━━━━━━━━━━━━━━\u001b[0m\u001b[37m\u001b[0m \u001b[1m0s\u001b[0m 33ms/step - accuracy: 0.7500 - loss: 0.4545 - val_accuracy: 0.7500 - val_loss: 0.5506\n",
            "Epoch 55/100\n",
            "\u001b[1m2/2\u001b[0m \u001b[32m━━━━━━━━━━━━━━━━━━━━\u001b[0m\u001b[37m\u001b[0m \u001b[1m0s\u001b[0m 30ms/step - accuracy: 0.7500 - loss: 0.4378 - val_accuracy: 0.7500 - val_loss: 0.5512\n",
            "Epoch 56/100\n",
            "\u001b[1m2/2\u001b[0m \u001b[32m━━━━━━━━━━━━━━━━━━━━\u001b[0m\u001b[37m\u001b[0m \u001b[1m0s\u001b[0m 63ms/step - accuracy: 0.7396 - loss: 0.4753 - val_accuracy: 0.7500 - val_loss: 0.5516\n",
            "Epoch 57/100\n",
            "\u001b[1m2/2\u001b[0m \u001b[32m━━━━━━━━━━━━━━━━━━━━\u001b[0m\u001b[37m\u001b[0m \u001b[1m0s\u001b[0m 42ms/step - accuracy: 0.7500 - loss: 0.4368 - val_accuracy: 0.7500 - val_loss: 0.5522\n",
            "Epoch 58/100\n",
            "\u001b[1m2/2\u001b[0m \u001b[32m━━━━━━━━━━━━━━━━━━━━\u001b[0m\u001b[37m\u001b[0m \u001b[1m0s\u001b[0m 45ms/step - accuracy: 0.7604 - loss: 0.4623 - val_accuracy: 0.7500 - val_loss: 0.5526\n",
            "Epoch 59/100\n",
            "\u001b[1m2/2\u001b[0m \u001b[32m━━━━━━━━━━━━━━━━━━━━\u001b[0m\u001b[37m\u001b[0m \u001b[1m0s\u001b[0m 41ms/step - accuracy: 0.7917 - loss: 0.4298 - val_accuracy: 0.7500 - val_loss: 0.5531\n",
            "Epoch 60/100\n",
            "\u001b[1m2/2\u001b[0m \u001b[32m━━━━━━━━━━━━━━━━━━━━\u001b[0m\u001b[37m\u001b[0m \u001b[1m0s\u001b[0m 53ms/step - accuracy: 0.8125 - loss: 0.3873 - val_accuracy: 0.7500 - val_loss: 0.5536\n",
            "Epoch 61/100\n",
            "\u001b[1m2/2\u001b[0m \u001b[32m━━━━━━━━━━━━━━━━━━━━\u001b[0m\u001b[37m\u001b[0m \u001b[1m0s\u001b[0m 63ms/step - accuracy: 0.7812 - loss: 0.4263 - val_accuracy: 0.7500 - val_loss: 0.5541\n",
            "Epoch 62/100\n",
            "\u001b[1m2/2\u001b[0m \u001b[32m━━━━━━━━━━━━━━━━━━━━\u001b[0m\u001b[37m\u001b[0m \u001b[1m0s\u001b[0m 56ms/step - accuracy: 0.7812 - loss: 0.4368 - val_accuracy: 0.7500 - val_loss: 0.5546\n",
            "Epoch 63/100\n",
            "\u001b[1m2/2\u001b[0m \u001b[32m━━━━━━━━━━━━━━━━━━━━\u001b[0m\u001b[37m\u001b[0m \u001b[1m0s\u001b[0m 38ms/step - accuracy: 0.7812 - loss: 0.4495 - val_accuracy: 0.7500 - val_loss: 0.5550\n",
            "Epoch 64/100\n",
            "\u001b[1m2/2\u001b[0m \u001b[32m━━━━━━━━━━━━━━━━━━━━\u001b[0m\u001b[37m\u001b[0m \u001b[1m0s\u001b[0m 42ms/step - accuracy: 0.7708 - loss: 0.4168 - val_accuracy: 0.7500 - val_loss: 0.5555\n",
            "Epoch 65/100\n",
            "\u001b[1m2/2\u001b[0m \u001b[32m━━━━━━━━━━━━━━━━━━━━\u001b[0m\u001b[37m\u001b[0m \u001b[1m0s\u001b[0m 47ms/step - accuracy: 0.8125 - loss: 0.3989 - val_accuracy: 0.7500 - val_loss: 0.5560\n",
            "Epoch 66/100\n",
            "\u001b[1m2/2\u001b[0m \u001b[32m━━━━━━━━━━━━━━━━━━━━\u001b[0m\u001b[37m\u001b[0m \u001b[1m0s\u001b[0m 41ms/step - accuracy: 0.7708 - loss: 0.4552 - val_accuracy: 0.7500 - val_loss: 0.5563\n",
            "Epoch 67/100\n",
            "\u001b[1m2/2\u001b[0m \u001b[32m━━━━━━━━━━━━━━━━━━━━\u001b[0m\u001b[37m\u001b[0m \u001b[1m0s\u001b[0m 45ms/step - accuracy: 0.8125 - loss: 0.4264 - val_accuracy: 0.7500 - val_loss: 0.5567\n",
            "Epoch 68/100\n",
            "\u001b[1m2/2\u001b[0m \u001b[32m━━━━━━━━━━━━━━━━━━━━\u001b[0m\u001b[37m\u001b[0m \u001b[1m0s\u001b[0m 63ms/step - accuracy: 0.8125 - loss: 0.3969 - val_accuracy: 0.7500 - val_loss: 0.5571\n",
            "Epoch 69/100\n",
            "\u001b[1m2/2\u001b[0m \u001b[32m━━━━━━━━━━━━━━━━━━━━\u001b[0m\u001b[37m\u001b[0m \u001b[1m0s\u001b[0m 49ms/step - accuracy: 0.8229 - loss: 0.4066 - val_accuracy: 0.7500 - val_loss: 0.5574\n",
            "Epoch 70/100\n",
            "\u001b[1m2/2\u001b[0m \u001b[32m━━━━━━━━━━━━━━━━━━━━\u001b[0m\u001b[37m\u001b[0m \u001b[1m0s\u001b[0m 40ms/step - accuracy: 0.8021 - loss: 0.4417 - val_accuracy: 0.7500 - val_loss: 0.5577\n",
            "Epoch 71/100\n",
            "\u001b[1m2/2\u001b[0m \u001b[32m━━━━━━━━━━━━━━━━━━━━\u001b[0m\u001b[37m\u001b[0m \u001b[1m0s\u001b[0m 47ms/step - accuracy: 0.8021 - loss: 0.4400 - val_accuracy: 0.7500 - val_loss: 0.5580\n",
            "Epoch 72/100\n",
            "\u001b[1m2/2\u001b[0m \u001b[32m━━━━━━━━━━━━━━━━━━━━\u001b[0m\u001b[37m\u001b[0m \u001b[1m0s\u001b[0m 45ms/step - accuracy: 0.7812 - loss: 0.4495 - val_accuracy: 0.7500 - val_loss: 0.5583\n",
            "Epoch 73/100\n",
            "\u001b[1m2/2\u001b[0m \u001b[32m━━━━━━━━━━━━━━━━━━━━\u001b[0m\u001b[37m\u001b[0m \u001b[1m0s\u001b[0m 44ms/step - accuracy: 0.8125 - loss: 0.4179 - val_accuracy: 0.7500 - val_loss: 0.5586\n",
            "Epoch 74/100\n",
            "\u001b[1m2/2\u001b[0m \u001b[32m━━━━━━━━━━━━━━━━━━━━\u001b[0m\u001b[37m\u001b[0m \u001b[1m0s\u001b[0m 61ms/step - accuracy: 0.8125 - loss: 0.4191 - val_accuracy: 0.7500 - val_loss: 0.5590\n",
            "Epoch 75/100\n",
            "\u001b[1m2/2\u001b[0m \u001b[32m━━━━━━━━━━━━━━━━━━━━\u001b[0m\u001b[37m\u001b[0m \u001b[1m0s\u001b[0m 41ms/step - accuracy: 0.8333 - loss: 0.3963 - val_accuracy: 0.7500 - val_loss: 0.5594\n",
            "Epoch 76/100\n",
            "\u001b[1m2/2\u001b[0m \u001b[32m━━━━━━━━━━━━━━━━━━━━\u001b[0m\u001b[37m\u001b[0m \u001b[1m0s\u001b[0m 60ms/step - accuracy: 0.8229 - loss: 0.4085 - val_accuracy: 0.7500 - val_loss: 0.5597\n",
            "Epoch 77/100\n",
            "\u001b[1m2/2\u001b[0m \u001b[32m━━━━━━━━━━━━━━━━━━━━\u001b[0m\u001b[37m\u001b[0m \u001b[1m0s\u001b[0m 57ms/step - accuracy: 0.7812 - loss: 0.4580 - val_accuracy: 0.7500 - val_loss: 0.5599\n",
            "Epoch 78/100\n",
            "\u001b[1m2/2\u001b[0m \u001b[32m━━━━━━━━━━━━━━━━━━━━\u001b[0m\u001b[37m\u001b[0m \u001b[1m0s\u001b[0m 49ms/step - accuracy: 0.8125 - loss: 0.4199 - val_accuracy: 0.7500 - val_loss: 0.5602\n",
            "Epoch 79/100\n",
            "\u001b[1m2/2\u001b[0m \u001b[32m━━━━━━━━━━━━━━━━━━━━\u001b[0m\u001b[37m\u001b[0m \u001b[1m0s\u001b[0m 63ms/step - accuracy: 0.7812 - loss: 0.4434 - val_accuracy: 0.7500 - val_loss: 0.5604\n",
            "Epoch 80/100\n",
            "\u001b[1m2/2\u001b[0m \u001b[32m━━━━━━━━━━━━━━━━━━━━\u001b[0m\u001b[37m\u001b[0m \u001b[1m0s\u001b[0m 47ms/step - accuracy: 0.8333 - loss: 0.3992 - val_accuracy: 0.7500 - val_loss: 0.5607\n",
            "Epoch 81/100\n",
            "\u001b[1m2/2\u001b[0m \u001b[32m━━━━━━━━━━━━━━━━━━━━\u001b[0m\u001b[37m\u001b[0m \u001b[1m0s\u001b[0m 30ms/step - accuracy: 0.8021 - loss: 0.4376 - val_accuracy: 0.7500 - val_loss: 0.5609\n",
            "Epoch 82/100\n",
            "\u001b[1m2/2\u001b[0m \u001b[32m━━━━━━━━━━━━━━━━━━━━\u001b[0m\u001b[37m\u001b[0m \u001b[1m0s\u001b[0m 32ms/step - accuracy: 0.8125 - loss: 0.4519 - val_accuracy: 0.7500 - val_loss: 0.5611\n",
            "Epoch 83/100\n",
            "\u001b[1m2/2\u001b[0m \u001b[32m━━━━━━━━━━━━━━━━━━━━\u001b[0m\u001b[37m\u001b[0m \u001b[1m0s\u001b[0m 32ms/step - accuracy: 0.7812 - loss: 0.4554 - val_accuracy: 0.7500 - val_loss: 0.5612\n",
            "Epoch 84/100\n",
            "\u001b[1m2/2\u001b[0m \u001b[32m━━━━━━━━━━━━━━━━━━━━\u001b[0m\u001b[37m\u001b[0m \u001b[1m0s\u001b[0m 31ms/step - accuracy: 0.8229 - loss: 0.4146 - val_accuracy: 0.7500 - val_loss: 0.5615\n",
            "Epoch 85/100\n",
            "\u001b[1m2/2\u001b[0m \u001b[32m━━━━━━━━━━━━━━━━━━━━\u001b[0m\u001b[37m\u001b[0m \u001b[1m0s\u001b[0m 32ms/step - accuracy: 0.8438 - loss: 0.4004 - val_accuracy: 0.7500 - val_loss: 0.5618\n",
            "Epoch 86/100\n",
            "\u001b[1m2/2\u001b[0m \u001b[32m━━━━━━━━━━━━━━━━━━━━\u001b[0m\u001b[37m\u001b[0m \u001b[1m0s\u001b[0m 51ms/step - accuracy: 0.8333 - loss: 0.4004 - val_accuracy: 0.7500 - val_loss: 0.5621\n",
            "Epoch 87/100\n",
            "\u001b[1m2/2\u001b[0m \u001b[32m━━━━━━━━━━━━━━━━━━━━\u001b[0m\u001b[37m\u001b[0m \u001b[1m0s\u001b[0m 35ms/step - accuracy: 0.7708 - loss: 0.4615 - val_accuracy: 0.7500 - val_loss: 0.5622\n",
            "Epoch 88/100\n",
            "\u001b[1m2/2\u001b[0m \u001b[32m━━━━━━━━━━━━━━━━━━━━\u001b[0m\u001b[37m\u001b[0m \u001b[1m0s\u001b[0m 30ms/step - accuracy: 0.8229 - loss: 0.3911 - val_accuracy: 0.7500 - val_loss: 0.5625\n",
            "Epoch 89/100\n",
            "\u001b[1m2/2\u001b[0m \u001b[32m━━━━━━━━━━━━━━━━━━━━\u001b[0m\u001b[37m\u001b[0m \u001b[1m0s\u001b[0m 30ms/step - accuracy: 0.8229 - loss: 0.4040 - val_accuracy: 0.7500 - val_loss: 0.5627\n",
            "Epoch 90/100\n",
            "\u001b[1m2/2\u001b[0m \u001b[32m━━━━━━━━━━━━━━━━━━━━\u001b[0m\u001b[37m\u001b[0m \u001b[1m0s\u001b[0m 31ms/step - accuracy: 0.8021 - loss: 0.4116 - val_accuracy: 0.7500 - val_loss: 0.5630\n",
            "Epoch 91/100\n",
            "\u001b[1m2/2\u001b[0m \u001b[32m━━━━━━━━━━━━━━━━━━━━\u001b[0m\u001b[37m\u001b[0m \u001b[1m0s\u001b[0m 32ms/step - accuracy: 0.8125 - loss: 0.4057 - val_accuracy: 0.7500 - val_loss: 0.5632\n",
            "Epoch 92/100\n",
            "\u001b[1m2/2\u001b[0m \u001b[32m━━━━━━━━━━━━━━━━━━━━\u001b[0m\u001b[37m\u001b[0m \u001b[1m0s\u001b[0m 32ms/step - accuracy: 0.8229 - loss: 0.4097 - val_accuracy: 0.7500 - val_loss: 0.5634\n",
            "Epoch 93/100\n",
            "\u001b[1m2/2\u001b[0m \u001b[32m━━━━━━━━━━━━━━━━━━━━\u001b[0m\u001b[37m\u001b[0m \u001b[1m0s\u001b[0m 35ms/step - accuracy: 0.8021 - loss: 0.4196 - val_accuracy: 0.7500 - val_loss: 0.5636\n",
            "Epoch 94/100\n",
            "\u001b[1m2/2\u001b[0m \u001b[32m━━━━━━━━━━━━━━━━━━━━\u001b[0m\u001b[37m\u001b[0m \u001b[1m0s\u001b[0m 31ms/step - accuracy: 0.7917 - loss: 0.4356 - val_accuracy: 0.7500 - val_loss: 0.5637\n",
            "Epoch 95/100\n",
            "\u001b[1m2/2\u001b[0m \u001b[32m━━━━━━━━━━━━━━━━━━━━\u001b[0m\u001b[37m\u001b[0m \u001b[1m0s\u001b[0m 31ms/step - accuracy: 0.8333 - loss: 0.3817 - val_accuracy: 0.7500 - val_loss: 0.5640\n",
            "Epoch 96/100\n",
            "\u001b[1m2/2\u001b[0m \u001b[32m━━━━━━━━━━━━━━━━━━━━\u001b[0m\u001b[37m\u001b[0m \u001b[1m0s\u001b[0m 42ms/step - accuracy: 0.8125 - loss: 0.4168 - val_accuracy: 0.7500 - val_loss: 0.5642\n",
            "Epoch 97/100\n",
            "\u001b[1m2/2\u001b[0m \u001b[32m━━━━━━━━━━━━━━━━━━━━\u001b[0m\u001b[37m\u001b[0m \u001b[1m0s\u001b[0m 34ms/step - accuracy: 0.7917 - loss: 0.4339 - val_accuracy: 0.7500 - val_loss: 0.5643\n",
            "Epoch 98/100\n",
            "\u001b[1m2/2\u001b[0m \u001b[32m━━━━━━━━━━━━━━━━━━━━\u001b[0m\u001b[37m\u001b[0m \u001b[1m0s\u001b[0m 32ms/step - accuracy: 0.8229 - loss: 0.4136 - val_accuracy: 0.7500 - val_loss: 0.5645\n",
            "Epoch 99/100\n",
            "\u001b[1m2/2\u001b[0m \u001b[32m━━━━━━━━━━━━━━━━━━━━\u001b[0m\u001b[37m\u001b[0m \u001b[1m0s\u001b[0m 31ms/step - accuracy: 0.8229 - loss: 0.3852 - val_accuracy: 0.7500 - val_loss: 0.5648\n",
            "Epoch 100/100\n",
            "\u001b[1m2/2\u001b[0m \u001b[32m━━━━━━━━━━━━━━━━━━━━\u001b[0m\u001b[37m\u001b[0m \u001b[1m0s\u001b[0m 38ms/step - accuracy: 0.8125 - loss: 0.4007 - val_accuracy: 0.7500 - val_loss: 0.5650\n"
          ]
        }
      ]
    },
    {
      "cell_type": "code",
      "source": [
        "model.get_weights()"
      ],
      "metadata": {
        "colab": {
          "base_uri": "https://localhost:8080/"
        },
        "id": "f0Muf2ERw0C1",
        "outputId": "bb162b3c-c97c-4ee1-e074-e9d7b3f8a734"
      },
      "execution_count": 11,
      "outputs": [
        {
          "output_type": "execute_result",
          "data": {
            "text/plain": [
              "[array([[-0.18340299, -0.13746527, -0.84621894, -0.40195048, -0.6948758 ,\n",
              "         -0.95538753,  0.81741977,  0.39280295, -0.20298527,  0.61685914],\n",
              "        [ 0.30761525,  0.45456746,  0.9273153 ,  0.13796356,  1.2491964 ,\n",
              "          0.65242714, -0.38544327, -0.29388124,  0.11335777, -0.91264606]],\n",
              "       dtype=float32),\n",
              " array([ 0.02154048,  0.0243475 ,  0.05827032, -0.0633439 ,  0.0867271 ,\n",
              "        -0.03159261,  0.02656844, -0.0076436 , -0.02851657,  0.01024064],\n",
              "       dtype=float32),\n",
              " array([[-0.23430754, -0.1861698 , -0.21814936,  0.4433584 , -0.12393799,\n",
              "          0.42690378,  0.5206876 , -0.7929665 , -0.08612962, -0.04258406],\n",
              "        [ 0.0476722 , -1.5678927 , -0.5691508 , -0.1264029 ,  0.3781467 ,\n",
              "          0.155435  ,  0.6278076 , -0.42145264,  0.09989686, -0.0019159 ],\n",
              "        [ 0.22793566, -0.78383034, -0.5143286 , -0.03484229,  0.13855642,\n",
              "          0.03275649,  0.4760609 , -0.36439252, -0.27675673,  0.11706518],\n",
              "        [ 0.24622852, -0.511881  ,  0.13463241, -0.19313018,  0.27896902,\n",
              "          0.17458428, -0.17474082,  0.10141944, -0.13095796,  0.37178668],\n",
              "        [-0.1149586 , -0.15887891,  0.12316602,  0.40133527,  0.12350261,\n",
              "          0.37664434,  0.42155927, -0.6547969 ,  0.31068763,  0.131006  ],\n",
              "        [ 0.02406722,  0.62415665,  0.2587773 ,  0.22265239,  0.06902578,\n",
              "         -0.5161541 , -0.03535225,  0.5476276 , -0.15079108,  0.09471278],\n",
              "        [-0.06923041, -0.2689848 ,  0.12111906,  0.00335218,  0.25444645,\n",
              "          0.1275036 ,  0.27053195,  0.0612825 ,  0.00168438,  0.0895796 ],\n",
              "        [-0.6034391 , -0.22089519,  0.3172942 ,  0.27410296,  0.13159814,\n",
              "         -0.38543662,  0.18398838,  0.12957002, -0.15545121, -0.11134356],\n",
              "        [-0.3387081 ,  0.10414793,  0.14401244, -0.31385115, -0.26417646,\n",
              "         -0.24081442,  0.02553643, -0.26078078, -0.32318285,  0.262254  ],\n",
              "        [ 0.05687542,  0.02529852,  0.16578484, -0.38547036, -0.05353418,\n",
              "         -0.50376534,  0.19254647, -0.27282682, -0.06505536,  0.03055401]],\n",
              "       dtype=float32),\n",
              " array([-0.09356825, -0.02871444,  0.00578872,  0.04955743,  0.02085989,\n",
              "         0.04355457, -0.01444919, -0.00151526,  0.02448247, -0.034828  ],\n",
              "       dtype=float32),\n",
              " array([[ 3.92043561e-01, -2.52329439e-01,  2.64786899e-01,\n",
              "          7.01309144e-02, -3.52416098e-01,  5.28248191e-01,\n",
              "          3.06244433e-01, -6.51429713e-01,  2.73335487e-01,\n",
              "         -1.75853088e-01],\n",
              "        [-4.20452178e-01,  4.80119646e-01, -1.67721733e-01,\n",
              "         -1.19317561e-01,  4.50992674e-01,  9.19034928e-02,\n",
              "          1.37050703e-01, -5.41538596e-01, -4.92283762e-01,\n",
              "         -1.20688960e-01],\n",
              "        [-3.00639421e-01, -8.27492326e-02,  6.26115203e-01,\n",
              "          7.02715516e-01,  2.80988170e-04,  5.48197389e-01,\n",
              "          1.50815979e-01, -4.43625629e-01,  2.79292583e-01,\n",
              "          1.77375197e-01],\n",
              "        [ 2.97060937e-01,  2.50762671e-01,  1.82612225e-01,\n",
              "         -2.70659894e-01, -1.16289347e-01, -4.25220355e-02,\n",
              "         -5.41973650e-01,  8.19239914e-01,  4.18775938e-02,\n",
              "          5.56562722e-01],\n",
              "        [-1.08349465e-01, -3.94587934e-01, -7.16307014e-02,\n",
              "          8.66351947e-02,  6.60768986e-01,  4.15750742e-02,\n",
              "          3.93771976e-01, -2.53765769e-02,  3.15167755e-01,\n",
              "          2.66086429e-01],\n",
              "        [ 2.75146849e-02, -6.41508102e-02,  3.28944802e-01,\n",
              "          8.28895718e-02,  1.44560769e-01, -7.08585456e-02,\n",
              "         -5.90580463e-01,  5.89383423e-01,  1.41914085e-01,\n",
              "         -3.80609185e-01],\n",
              "        [-6.84801340e-02, -2.55940314e-02, -9.58908916e-01,\n",
              "          2.89240424e-02,  1.61509112e-01,  2.05483764e-01,\n",
              "         -2.74434090e-01,  5.26605323e-02,  4.41471726e-01,\n",
              "         -5.20157516e-01],\n",
              "        [ 1.06593207e-01,  3.05645078e-01,  2.96524793e-01,\n",
              "          3.72716904e-01,  1.88683942e-01,  1.00057364e-01,\n",
              "         -3.93560499e-01, -2.31286481e-01, -1.64891765e-01,\n",
              "          4.13069010e-01],\n",
              "        [-2.59105623e-01, -3.88257533e-01,  2.32261345e-02,\n",
              "         -9.89221707e-02, -1.27144873e-01, -1.88097395e-02,\n",
              "          3.55918884e-01,  4.19931822e-02, -2.34477982e-01,\n",
              "         -4.60708328e-02],\n",
              "        [ 4.56372619e-01, -3.64564955e-01, -2.59141922e-01,\n",
              "         -1.81031108e-01, -6.73365951e-01,  5.03717303e-01,\n",
              "         -5.02957344e-01, -1.84505627e-01, -4.31142211e-01,\n",
              "         -4.40873802e-01]], dtype=float32),\n",
              " array([-0.03049321,  0.03090096,  0.03122374,  0.03490192,  0.04678521,\n",
              "         0.04688064,  0.03448317,  0.01869279, -0.04054286,  0.03222527],\n",
              "       dtype=float32),\n",
              " array([[-0.38145256],\n",
              "        [ 0.16531377],\n",
              "        [ 0.33417147],\n",
              "        [ 0.6018143 ],\n",
              "        [ 0.40646505],\n",
              "        [ 0.05686031],\n",
              "        [ 0.38982764],\n",
              "        [-0.24870092],\n",
              "        [-0.26094848],\n",
              "        [ 0.60317796]], dtype=float32),\n",
              " array([0.05110545], dtype=float32)]"
            ]
          },
          "metadata": {},
          "execution_count": 11
        }
      ]
    },
    {
      "cell_type": "code",
      "source": [
        "from mlxtend.plotting import plot_decision_regions\n",
        "plot_decision_regions(x_train, y_train, clf=model)"
      ],
      "metadata": {
        "colab": {
          "base_uri": "https://localhost:8080/",
          "height": 469
        },
        "id": "IGi3wXEaw5AD",
        "outputId": "33707aec-2523-4519-cf32-5ba823c150ab"
      },
      "execution_count": 12,
      "outputs": [
        {
          "output_type": "stream",
          "name": "stdout",
          "text": [
            "\u001b[1m9600/9600\u001b[0m \u001b[32m━━━━━━━━━━━━━━━━━━━━\u001b[0m\u001b[37m\u001b[0m \u001b[1m12s\u001b[0m 1ms/step\n"
          ]
        },
        {
          "output_type": "execute_result",
          "data": {
            "text/plain": [
              "<Axes: >"
            ]
          },
          "metadata": {},
          "execution_count": 12
        },
        {
          "output_type": "display_data",
          "data": {
            "text/plain": [
              "<Figure size 640x480 with 1 Axes>"
            ],
            "image/png": "[encoded data removed]"
          },
          "metadata": {}
        }
      ]
    },
    {
      "cell_type": "markdown",
      "source": [
        "# He's Normal (For ReLU)"
      ],
      "metadata": {
        "id": "3gxtCy8iyBYi"
      }
    },
    {
      "cell_type": "code",
      "source": [
        "model = Sequential()\n",
        "model.add(Dense(10, input_dim=2, activation='relu'))\n",
        "model.add(Dense(10, activation='relu'))\n",
        "model.add(Dense(10, activation='relu'))\n",
        "model.add(Dense(1, activation='sigmoid'))\n",
        "model.summary()"
      ],
      "metadata": {
        "colab": {
          "base_uri": "https://localhost:8080/",
          "height": 274
        },
        "id": "HHNaQKt-ynJ0",
        "outputId": "b4de0149-ff37-4fd1-9eb7-04e3175b6abc"
      },
      "execution_count": 13,
      "outputs": [
        {
          "output_type": "display_data",
          "data": {
            "text/plain": [
              "\u001b[1mModel: \"sequential_1\"\u001b[0m\n"
            ],
            "text/html": [
              "<pre style=\"white-space:pre;overflow-x:auto;line-height:normal;font-family:Menlo,'DejaVu Sans Mono',consolas,'Courier New',monospace\"><span style=\"font-weight: bold\">Model: \"sequential_1\"</span>\n",
              "</pre>\n"
            ]
          },
          "metadata": {}
        },
        {
          "output_type": "display_data",
          "data": {
            "text/plain": [
              "┏━━━━━━━━━━━━━━━━━━━━━━━━━━━━━━━━━━━━━━┳━━━━━━━━━━━━━━━━━━━━━━━━━━━━━┳━━━━━━━━━━━━━━━━━┓\n",
              "┃\u001b[1m \u001b[0m\u001b[1mLayer (type)                        \u001b[0m\u001b[1m \u001b[0m┃\u001b[1m \u001b[0m\u001b[1mOutput Shape               \u001b[0m\u001b[1m \u001b[0m┃\u001b[1m \u001b[0m\u001b[1m        Param #\u001b[0m\u001b[1m \u001b[0m┃\n",
              "┡━━━━━━━━━━━━━━━━━━━━━━━━━━━━━━━━━━━━━━╇━━━━━━━━━━━━━━━━━━━━━━━━━━━━━╇━━━━━━━━━━━━━━━━━┩\n",
              "│ dense_4 (\u001b[38;5;33mDense\u001b[0m)                      │ (\u001b[38;5;45mNone\u001b[0m, \u001b[38;5;34m10\u001b[0m)                  │              \u001b[38;5;34m30\u001b[0m │\n",
              "├──────────────────────────────────────┼─────────────────────────────┼─────────────────┤\n",
              "│ dense_5 (\u001b[38;5;33mDense\u001b[0m)                      │ (\u001b[38;5;45mNone\u001b[0m, \u001b[38;5;34m10\u001b[0m)                  │             \u001b[38;5;34m110\u001b[0m │\n",
              "├──────────────────────────────────────┼─────────────────────────────┼─────────────────┤\n",
              "│ dense_6 (\u001b[38;5;33mDense\u001b[0m)                      │ (\u001b[38;5;45mNone\u001b[0m, \u001b[38;5;34m10\u001b[0m)                  │             \u001b[38;5;34m110\u001b[0m │\n",
              "├──────────────────────────────────────┼─────────────────────────────┼─────────────────┤\n",
              "│ dense_7 (\u001b[38;5;33mDense\u001b[0m)                      │ (\u001b[38;5;45mNone\u001b[0m, \u001b[38;5;34m1\u001b[0m)                   │              \u001b[38;5;34m11\u001b[0m │\n",
              "└──────────────────────────────────────┴─────────────────────────────┴─────────────────┘\n"
            ],
            "text/html": [
              "<pre style=\"white-space:pre;overflow-x:auto;line-height:normal;font-family:Menlo,'DejaVu Sans Mono',consolas,'Courier New',monospace\">┏━━━━━━━━━━━━━━━━━━━━━━━━━━━━━━━━━━━━━━┳━━━━━━━━━━━━━━━━━━━━━━━━━━━━━┳━━━━━━━━━━━━━━━━━┓\n",
              "┃<span style=\"font-weight: bold\"> Layer (type)                         </span>┃<span style=\"font-weight: bold\"> Output Shape                </span>┃<span style=\"font-weight: bold\">         Param # </span>┃\n",
              "┡━━━━━━━━━━━━━━━━━━━━━━━━━━━━━━━━━━━━━━╇━━━━━━━━━━━━━━━━━━━━━━━━━━━━━╇━━━━━━━━━━━━━━━━━┩\n",
              "│ dense_4 (<span style=\"color: #0087ff; text-decoration-color: #0087ff\">Dense</span>)                      │ (<span style=\"color: #00d7ff; text-decoration-color: #00d7ff\">None</span>, <span style=\"color: #00af00; text-decoration-color: #00af00\">10</span>)                  │              <span style=\"color: #00af00; text-decoration-color: #00af00\">30</span> │\n",
              "├──────────────────────────────────────┼─────────────────────────────┼─────────────────┤\n",
              "│ dense_5 (<span style=\"color: #0087ff; text-decoration-color: #0087ff\">Dense</span>)                      │ (<span style=\"color: #00d7ff; text-decoration-color: #00d7ff\">None</span>, <span style=\"color: #00af00; text-decoration-color: #00af00\">10</span>)                  │             <span style=\"color: #00af00; text-decoration-color: #00af00\">110</span> │\n",
              "├──────────────────────────────────────┼─────────────────────────────┼─────────────────┤\n",
              "│ dense_6 (<span style=\"color: #0087ff; text-decoration-color: #0087ff\">Dense</span>)                      │ (<span style=\"color: #00d7ff; text-decoration-color: #00d7ff\">None</span>, <span style=\"color: #00af00; text-decoration-color: #00af00\">10</span>)                  │             <span style=\"color: #00af00; text-decoration-color: #00af00\">110</span> │\n",
              "├──────────────────────────────────────┼─────────────────────────────┼─────────────────┤\n",
              "│ dense_7 (<span style=\"color: #0087ff; text-decoration-color: #0087ff\">Dense</span>)                      │ (<span style=\"color: #00d7ff; text-decoration-color: #00d7ff\">None</span>, <span style=\"color: #00af00; text-decoration-color: #00af00\">1</span>)                   │              <span style=\"color: #00af00; text-decoration-color: #00af00\">11</span> │\n",
              "└──────────────────────────────────────┴─────────────────────────────┴─────────────────┘\n",
              "</pre>\n"
            ]
          },
          "metadata": {}
        },
        {
          "output_type": "display_data",
          "data": {
            "text/plain": [
              "\u001b[1m Total params: \u001b[0m\u001b[38;5;34m261\u001b[0m (1.02 KB)\n"
            ],
            "text/html": [
              "<pre style=\"white-space:pre;overflow-x:auto;line-height:normal;font-family:Menlo,'DejaVu Sans Mono',consolas,'Courier New',monospace\"><span style=\"font-weight: bold\"> Total params: </span><span style=\"color: #00af00; text-decoration-color: #00af00\">261</span> (1.02 KB)\n",
              "</pre>\n"
            ]
          },
          "metadata": {}
        },
        {
          "output_type": "display_data",
          "data": {
            "text/plain": [
              "\u001b[1m Trainable params: \u001b[0m\u001b[38;5;34m261\u001b[0m (1.02 KB)\n"
            ],
            "text/html": [
              "<pre style=\"white-space:pre;overflow-x:auto;line-height:normal;font-family:Menlo,'DejaVu Sans Mono',consolas,'Courier New',monospace\"><span style=\"font-weight: bold\"> Trainable params: </span><span style=\"color: #00af00; text-decoration-color: #00af00\">261</span> (1.02 KB)\n",
              "</pre>\n"
            ]
          },
          "metadata": {}
        },
        {
          "output_type": "display_data",
          "data": {
            "text/plain": [
              "\u001b[1m Non-trainable params: \u001b[0m\u001b[38;5;34m0\u001b[0m (0.00 B)\n"
            ],
            "text/html": [
              "<pre style=\"white-space:pre;overflow-x:auto;line-height:normal;font-family:Menlo,'DejaVu Sans Mono',consolas,'Courier New',monospace\"><span style=\"font-weight: bold\"> Non-trainable params: </span><span style=\"color: #00af00; text-decoration-color: #00af00\">0</span> (0.00 B)\n",
              "</pre>\n"
            ]
          },
          "metadata": {}
        }
      ]
    },
    {
      "cell_type": "code",
      "source": [
        "model.get_weights()"
      ],
      "metadata": {
        "colab": {
          "base_uri": "https://localhost:8080/"
        },
        "id": "4mstY3clyzMm",
        "outputId": "83fc9680-948d-4bac-cf28-7207d78ced0c"
      },
      "execution_count": 14,
      "outputs": [
        {
          "output_type": "execute_result",
          "data": {
            "text/plain": [
              "[array([[-0.32018673, -0.5575497 ,  0.23980767,  0.46240658,  0.33961982,\n",
              "         -0.43914184,  0.17917436, -0.41564664, -0.6823244 ,  0.06234634],\n",
              "        [-0.4912999 , -0.32252437,  0.43303007,  0.6331176 , -0.5615555 ,\n",
              "         -0.29616085, -0.03831351,  0.6936889 , -0.37783924,  0.16502547]],\n",
              "       dtype=float32),\n",
              " array([0., 0., 0., 0., 0., 0., 0., 0., 0., 0.], dtype=float32),\n",
              " array([[ 0.3208654 ,  0.12779766,  0.36873347,  0.3596447 ,  0.2833823 ,\n",
              "          0.03329557, -0.39873233, -0.11230397,  0.0313403 ,  0.41805547],\n",
              "        [ 0.49179828,  0.38834018,  0.23786414, -0.41538066, -0.1349448 ,\n",
              "         -0.12956578, -0.3890472 , -0.02570152, -0.52559316, -0.02874905],\n",
              "        [ 0.03794515, -0.49430117,  0.42103142,  0.08245015,  0.3668424 ,\n",
              "         -0.12947491,  0.30498743, -0.08349395, -0.40174186,  0.21656418],\n",
              "        [ 0.43329227,  0.4178251 , -0.1013605 ,  0.25566226, -0.27501163,\n",
              "          0.39640045,  0.49724424, -0.28498378,  0.48214078, -0.02045268],\n",
              "        [-0.23081672,  0.02645099,  0.44673163, -0.17065114,  0.07332891,\n",
              "          0.07952881,  0.28594947, -0.42091545, -0.28768355, -0.27407938],\n",
              "        [-0.15031493,  0.40629292,  0.43625903,  0.1293937 ,  0.44988912,\n",
              "          0.5350548 , -0.10368183, -0.482278  , -0.21820593,  0.47036612],\n",
              "        [ 0.21188211,  0.24633938,  0.34115762,  0.2891417 , -0.0277617 ,\n",
              "         -0.19584063, -0.4093731 ,  0.27622557,  0.04853052, -0.54625833],\n",
              "        [-0.21195054, -0.14703876, -0.11843362,  0.45594442, -0.23821163,\n",
              "         -0.15980718, -0.09291375, -0.5281046 , -0.49670422,  0.23921949],\n",
              "        [-0.38073635, -0.30699182, -0.30974847,  0.22120082,  0.08356118,\n",
              "          0.43935096,  0.08887517,  0.36303788,  0.37269205,  0.28528637],\n",
              "        [-0.4350762 , -0.07631126,  0.01965666, -0.35707462,  0.26621306,\n",
              "         -0.11456144,  0.32377446, -0.04664564, -0.42719054,  0.5229422 ]],\n",
              "       dtype=float32),\n",
              " array([0., 0., 0., 0., 0., 0., 0., 0., 0., 0.], dtype=float32),\n",
              " array([[-0.1398246 , -0.12240607, -0.11459306, -0.24120808, -0.02088743,\n",
              "          0.38235068,  0.5362768 ,  0.06197983, -0.17248824,  0.07678241],\n",
              "        [-0.07214814,  0.49023354, -0.3365843 ,  0.03184813, -0.34085685,\n",
              "         -0.06874111,  0.4275489 ,  0.3706993 ,  0.404688  , -0.30973846],\n",
              "        [ 0.5108893 ,  0.4331119 , -0.3459517 ,  0.23155504, -0.24907479,\n",
              "         -0.30908054, -0.2229166 ,  0.40824574,  0.434218  ,  0.35938758],\n",
              "        [ 0.05551577,  0.23971105, -0.02528691,  0.25106466, -0.31623358,\n",
              "         -0.01574594, -0.2199994 ,  0.32401216,  0.50903475, -0.41792434],\n",
              "        [ 0.33957058, -0.22916049, -0.25000653,  0.1213721 , -0.16444707,\n",
              "         -0.34560212, -0.41397265,  0.23269016,  0.47375154, -0.2667836 ],\n",
              "        [ 0.01900369, -0.3059206 , -0.20899573,  0.10790133,  0.07410711,\n",
              "          0.4229781 ,  0.04181141,  0.19063938,  0.308367  , -0.11547112],\n",
              "        [-0.39267987,  0.09901804, -0.37495303,  0.25631416, -0.4606751 ,\n",
              "         -0.11045983, -0.5002748 ,  0.54565084,  0.22798759,  0.1914854 ],\n",
              "        [ 0.36386138,  0.28690618, -0.5333508 , -0.21943149,  0.15576446,\n",
              "         -0.4688745 ,  0.16182655, -0.44613642, -0.12276009, -0.1637303 ],\n",
              "        [ 0.03894645, -0.42888987, -0.05573896, -0.3160079 ,  0.4837327 ,\n",
              "          0.13903713,  0.4920429 , -0.14563116, -0.40438166, -0.25631717],\n",
              "        [ 0.46904588,  0.1726473 ,  0.10794044,  0.4950775 ,  0.01625234,\n",
              "         -0.47079378, -0.22596619,  0.20097351, -0.45400572, -0.27528378]],\n",
              "       dtype=float32),\n",
              " array([0., 0., 0., 0., 0., 0., 0., 0., 0., 0.], dtype=float32),\n",
              " array([[-0.2207573 ],\n",
              "        [-0.46085387],\n",
              "        [-0.16591936],\n",
              "        [-0.15127921],\n",
              "        [-0.3585913 ],\n",
              "        [ 0.13293517],\n",
              "        [-0.7312911 ],\n",
              "        [-0.05953783],\n",
              "        [ 0.5557881 ],\n",
              "        [-0.5508188 ]], dtype=float32),\n",
              " array([0.], dtype=float32)]"
            ]
          },
          "metadata": {},
          "execution_count": 14
        }
      ]
    },
    {
      "cell_type": "code",
      "source": [
        "initialized_weights= model.get_weights()"
      ],
      "metadata": {
        "id": "4FexQes6y0Gj"
      },
      "execution_count": 15,
      "outputs": []
    },
    {
      "cell_type": "code",
      "source": [
        "initialized_weights[0] = np.random.randn(2,10)*np.sqrt(2/2)\n",
        "initialized_weights[1] = np.zeros(model.get_weights()[1].shape)\n",
        "initialized_weights[2] = np.random.randn(10,10)*np.sqrt(2/10)\n",
        "initialized_weights[3] = np.zeros(model.get_weights()[3].shape)\n",
        "initialized_weights[4] = np.random.randn(10,10)*np.sqrt(2/10)\n",
        "initialized_weights[5] = np.zeros(model.get_weights()[5].shape)\n",
        "initialized_weights[6] = np.random.randn(10,1)*np.sqrt(2/10)\n",
        "initialized_weights[7] = np.zeros(model.get_weights()[7].shape)"
      ],
      "metadata": {
        "id": "7RZvW12iy2J6"
      },
      "execution_count": 16,
      "outputs": []
    },
    {
      "cell_type": "code",
      "source": [
        "model.set_weights(initialized_weights)"
      ],
      "metadata": {
        "id": "GWSVvvE1y7h3"
      },
      "execution_count": 17,
      "outputs": []
    },
    {
      "cell_type": "code",
      "source": [
        "model.compile(loss='binary_crossentropy', optimizer='Adam', metrics=['accuracy'])\n",
        "history = model.fit(x_train,y_train,epochs = 100,validation_split = 0.2)"
      ],
      "metadata": {
        "colab": {
          "base_uri": "https://localhost:8080/"
        },
        "id": "ReeSFyuAy-TI",
        "outputId": "02500988-a731-4d0d-a7a4-f591d876a400"
      },
      "execution_count": 18,
      "outputs": [
        {
          "output_type": "stream",
          "name": "stdout",
          "text": [
            "Epoch 1/100\n",
            "\u001b[1m2/2\u001b[0m \u001b[32m━━━━━━━━━━━━━━━━━━━━\u001b[0m\u001b[37m\u001b[0m \u001b[1m2s\u001b[0m 289ms/step - accuracy: 0.6250 - loss: 0.6165 - val_accuracy: 0.6250 - val_loss: 0.6373\n",
            "Epoch 2/100\n",
            "\u001b[1m2/2\u001b[0m \u001b[32m━━━━━━━━━━━━━━━━━━━━\u001b[0m\u001b[37m\u001b[0m \u001b[1m0s\u001b[0m 61ms/step - accuracy: 0.6250 - loss: 0.6114 - val_accuracy: 0.6250 - val_loss: 0.6359\n",
            "Epoch 3/100\n",
            "\u001b[1m2/2\u001b[0m \u001b[32m━━━━━━━━━━━━━━━━━━━━\u001b[0m\u001b[37m\u001b[0m \u001b[1m0s\u001b[0m 40ms/step - accuracy: 0.6458 - loss: 0.5947 - val_accuracy: 0.6250 - val_loss: 0.6346\n",
            "Epoch 4/100\n",
            "\u001b[1m2/2\u001b[0m \u001b[32m━━━━━━━━━━━━━━━━━━━━\u001b[0m\u001b[37m\u001b[0m \u001b[1m0s\u001b[0m 42ms/step - accuracy: 0.6562 - loss: 0.5964 - val_accuracy: 0.6250 - val_loss: 0.6334\n",
            "Epoch 5/100\n",
            "\u001b[1m2/2\u001b[0m \u001b[32m━━━━━━━━━━━━━━━━━━━━\u001b[0m\u001b[37m\u001b[0m \u001b[1m0s\u001b[0m 45ms/step - accuracy: 0.6875 - loss: 0.5881 - val_accuracy: 0.6250 - val_loss: 0.6322\n",
            "Epoch 6/100\n",
            "\u001b[1m2/2\u001b[0m \u001b[32m━━━━━━━━━━━━━━━━━━━━\u001b[0m\u001b[37m\u001b[0m \u001b[1m0s\u001b[0m 41ms/step - accuracy: 0.6562 - loss: 0.5986 - val_accuracy: 0.6250 - val_loss: 0.6311\n",
            "Epoch 7/100\n",
            "\u001b[1m2/2\u001b[0m \u001b[32m━━━━━━━━━━━━━━━━━━━━\u001b[0m\u001b[37m\u001b[0m \u001b[1m0s\u001b[0m 41ms/step - accuracy: 0.6562 - loss: 0.5974 - val_accuracy: 0.6250 - val_loss: 0.6300\n",
            "Epoch 8/100\n",
            "\u001b[1m2/2\u001b[0m \u001b[32m━━━━━━━━━━━━━━━━━━━━\u001b[0m\u001b[37m\u001b[0m \u001b[1m0s\u001b[0m 47ms/step - accuracy: 0.6667 - loss: 0.5915 - val_accuracy: 0.6250 - val_loss: 0.6290\n",
            "Epoch 9/100\n",
            "\u001b[1m2/2\u001b[0m \u001b[32m━━━━━━━━━━━━━━━━━━━━\u001b[0m\u001b[37m\u001b[0m \u001b[1m0s\u001b[0m 54ms/step - accuracy: 0.6771 - loss: 0.5916 - val_accuracy: 0.6250 - val_loss: 0.6280\n",
            "Epoch 10/100\n",
            "\u001b[1m2/2\u001b[0m \u001b[32m━━━━━━━━━━━━━━━━━━━━\u001b[0m\u001b[37m\u001b[0m \u001b[1m0s\u001b[0m 72ms/step - accuracy: 0.6354 - loss: 0.5930 - val_accuracy: 0.5625 - val_loss: 0.6270\n",
            "Epoch 11/100\n",
            "\u001b[1m2/2\u001b[0m \u001b[32m━━━━━━━━━━━━━━━━━━━━\u001b[0m\u001b[37m\u001b[0m \u001b[1m0s\u001b[0m 66ms/step - accuracy: 0.6979 - loss: 0.5646 - val_accuracy: 0.5625 - val_loss: 0.6260\n",
            "Epoch 12/100\n",
            "\u001b[1m2/2\u001b[0m \u001b[32m━━━━━━━━━━━━━━━━━━━━\u001b[0m\u001b[37m\u001b[0m \u001b[1m0s\u001b[0m 58ms/step - accuracy: 0.6562 - loss: 0.5931 - val_accuracy: 0.5625 - val_loss: 0.6253\n",
            "Epoch 13/100\n",
            "\u001b[1m2/2\u001b[0m \u001b[32m━━━━━━━━━━━━━━━━━━━━\u001b[0m\u001b[37m\u001b[0m \u001b[1m0s\u001b[0m 45ms/step - accuracy: 0.7188 - loss: 0.5676 - val_accuracy: 0.5625 - val_loss: 0.6246\n",
            "Epoch 14/100\n",
            "\u001b[1m2/2\u001b[0m \u001b[32m━━━━━━━━━━━━━━━━━━━━\u001b[0m\u001b[37m\u001b[0m \u001b[1m0s\u001b[0m 50ms/step - accuracy: 0.6354 - loss: 0.5841 - val_accuracy: 0.5625 - val_loss: 0.6239\n",
            "Epoch 15/100\n",
            "\u001b[1m2/2\u001b[0m \u001b[32m━━━━━━━━━━━━━━━━━━━━\u001b[0m\u001b[37m\u001b[0m \u001b[1m0s\u001b[0m 82ms/step - accuracy: 0.7083 - loss: 0.5539 - val_accuracy: 0.6250 - val_loss: 0.6231\n",
            "Epoch 16/100\n",
            "\u001b[1m2/2\u001b[0m \u001b[32m━━━━━━━━━━━━━━━━━━━━\u001b[0m\u001b[37m\u001b[0m \u001b[1m0s\u001b[0m 49ms/step - accuracy: 0.6458 - loss: 0.5710 - val_accuracy: 0.6250 - val_loss: 0.6226\n",
            "Epoch 17/100\n",
            "\u001b[1m2/2\u001b[0m \u001b[32m━━━━━━━━━━━━━━━━━━━━\u001b[0m\u001b[37m\u001b[0m \u001b[1m0s\u001b[0m 81ms/step - accuracy: 0.6875 - loss: 0.5543 - val_accuracy: 0.6250 - val_loss: 0.6216\n",
            "Epoch 18/100\n",
            "\u001b[1m2/2\u001b[0m \u001b[32m━━━━━━━━━━━━━━━━━━━━\u001b[0m\u001b[37m\u001b[0m \u001b[1m0s\u001b[0m 29ms/step - accuracy: 0.6875 - loss: 0.5568 - val_accuracy: 0.6250 - val_loss: 0.6201\n",
            "Epoch 19/100\n",
            "\u001b[1m2/2\u001b[0m \u001b[32m━━━━━━━━━━━━━━━━━━━━\u001b[0m\u001b[37m\u001b[0m \u001b[1m0s\u001b[0m 30ms/step - accuracy: 0.6771 - loss: 0.5577 - val_accuracy: 0.6250 - val_loss: 0.6186\n",
            "Epoch 20/100\n",
            "\u001b[1m2/2\u001b[0m \u001b[32m━━━━━━━━━━━━━━━━━━━━\u001b[0m\u001b[37m\u001b[0m \u001b[1m0s\u001b[0m 30ms/step - accuracy: 0.6771 - loss: 0.5397 - val_accuracy: 0.6250 - val_loss: 0.6172\n",
            "Epoch 21/100\n",
            "\u001b[1m2/2\u001b[0m \u001b[32m━━━━━━━━━━━━━━━━━━━━\u001b[0m\u001b[37m\u001b[0m \u001b[1m0s\u001b[0m 30ms/step - accuracy: 0.7188 - loss: 0.5348 - val_accuracy: 0.6250 - val_loss: 0.6158\n",
            "Epoch 22/100\n",
            "\u001b[1m2/2\u001b[0m \u001b[32m━━━━━━━━━━━━━━━━━━━━\u001b[0m\u001b[37m\u001b[0m \u001b[1m0s\u001b[0m 31ms/step - accuracy: 0.7083 - loss: 0.5460 - val_accuracy: 0.6875 - val_loss: 0.6144\n",
            "Epoch 23/100\n",
            "\u001b[1m2/2\u001b[0m \u001b[32m━━━━━━━━━━━━━━━━━━━━\u001b[0m\u001b[37m\u001b[0m \u001b[1m0s\u001b[0m 30ms/step - accuracy: 0.7708 - loss: 0.5315 - val_accuracy: 0.7500 - val_loss: 0.6130\n",
            "Epoch 24/100\n",
            "\u001b[1m2/2\u001b[0m \u001b[32m━━━━━━━━━━━━━━━━━━━━\u001b[0m\u001b[37m\u001b[0m \u001b[1m0s\u001b[0m 33ms/step - accuracy: 0.7708 - loss: 0.5156 - val_accuracy: 0.7500 - val_loss: 0.6118\n",
            "Epoch 25/100\n",
            "\u001b[1m2/2\u001b[0m \u001b[32m━━━━━━━━━━━━━━━━━━━━\u001b[0m\u001b[37m\u001b[0m \u001b[1m0s\u001b[0m 30ms/step - accuracy: 0.7500 - loss: 0.5436 - val_accuracy: 0.7500 - val_loss: 0.6106\n",
            "Epoch 26/100\n",
            "\u001b[1m2/2\u001b[0m \u001b[32m━━━━━━━━━━━━━━━━━━━━\u001b[0m\u001b[37m\u001b[0m \u001b[1m0s\u001b[0m 30ms/step - accuracy: 0.7292 - loss: 0.5476 - val_accuracy: 0.7500 - val_loss: 0.6093\n",
            "Epoch 27/100\n",
            "\u001b[1m2/2\u001b[0m \u001b[32m━━━━━━━━━━━━━━━━━━━━\u001b[0m\u001b[37m\u001b[0m \u001b[1m0s\u001b[0m 29ms/step - accuracy: 0.7396 - loss: 0.5296 - val_accuracy: 0.7500 - val_loss: 0.6082\n",
            "Epoch 28/100\n",
            "\u001b[1m2/2\u001b[0m \u001b[32m━━━━━━━━━━━━━━━━━━━━\u001b[0m\u001b[37m\u001b[0m \u001b[1m0s\u001b[0m 32ms/step - accuracy: 0.7396 - loss: 0.5167 - val_accuracy: 0.7500 - val_loss: 0.6070\n",
            "Epoch 29/100\n",
            "\u001b[1m2/2\u001b[0m \u001b[32m━━━━━━━━━━━━━━━━━━━━\u001b[0m\u001b[37m\u001b[0m \u001b[1m0s\u001b[0m 31ms/step - accuracy: 0.7708 - loss: 0.5207 - val_accuracy: 0.7500 - val_loss: 0.6057\n",
            "Epoch 30/100\n",
            "\u001b[1m2/2\u001b[0m \u001b[32m━━━━━━━━━━━━━━━━━━━━\u001b[0m\u001b[37m\u001b[0m \u001b[1m0s\u001b[0m 31ms/step - accuracy: 0.7708 - loss: 0.5060 - val_accuracy: 0.7500 - val_loss: 0.6046\n",
            "Epoch 31/100\n",
            "\u001b[1m2/2\u001b[0m \u001b[32m━━━━━━━━━━━━━━━━━━━━\u001b[0m\u001b[37m\u001b[0m \u001b[1m0s\u001b[0m 38ms/step - accuracy: 0.7708 - loss: 0.5060 - val_accuracy: 0.7500 - val_loss: 0.6034\n",
            "Epoch 32/100\n",
            "\u001b[1m2/2\u001b[0m \u001b[32m━━━━━━━━━━━━━━━━━━━━\u001b[0m\u001b[37m\u001b[0m \u001b[1m0s\u001b[0m 38ms/step - accuracy: 0.7708 - loss: 0.5067 - val_accuracy: 0.7500 - val_loss: 0.6023\n",
            "Epoch 33/100\n",
            "\u001b[1m2/2\u001b[0m \u001b[32m━━━━━━━━━━━━━━━━━━━━\u001b[0m\u001b[37m\u001b[0m \u001b[1m0s\u001b[0m 40ms/step - accuracy: 0.7500 - loss: 0.5069 - val_accuracy: 0.7500 - val_loss: 0.6013\n",
            "Epoch 34/100\n",
            "\u001b[1m2/2\u001b[0m \u001b[32m━━━━━━━━━━━━━━━━━━━━\u001b[0m\u001b[37m\u001b[0m \u001b[1m0s\u001b[0m 31ms/step - accuracy: 0.7604 - loss: 0.4938 - val_accuracy: 0.7500 - val_loss: 0.6004\n",
            "Epoch 35/100\n",
            "\u001b[1m2/2\u001b[0m \u001b[32m━━━━━━━━━━━━━━━━━━━━\u001b[0m\u001b[37m\u001b[0m \u001b[1m0s\u001b[0m 30ms/step - accuracy: 0.8125 - loss: 0.4781 - val_accuracy: 0.7500 - val_loss: 0.5994\n",
            "Epoch 36/100\n",
            "\u001b[1m2/2\u001b[0m \u001b[32m━━━━━━━━━━━━━━━━━━━━\u001b[0m\u001b[37m\u001b[0m \u001b[1m0s\u001b[0m 31ms/step - accuracy: 0.8021 - loss: 0.4857 - val_accuracy: 0.7500 - val_loss: 0.5985\n",
            "Epoch 37/100\n",
            "\u001b[1m2/2\u001b[0m \u001b[32m━━━━━━━━━━━━━━━━━━━━\u001b[0m\u001b[37m\u001b[0m \u001b[1m0s\u001b[0m 31ms/step - accuracy: 0.7812 - loss: 0.4903 - val_accuracy: 0.7500 - val_loss: 0.5976\n",
            "Epoch 38/100\n",
            "\u001b[1m2/2\u001b[0m \u001b[32m━━━━━━━━━━━━━━━━━━━━\u001b[0m\u001b[37m\u001b[0m \u001b[1m0s\u001b[0m 32ms/step - accuracy: 0.8021 - loss: 0.4786 - val_accuracy: 0.7500 - val_loss: 0.5967\n",
            "Epoch 39/100\n",
            "\u001b[1m2/2\u001b[0m \u001b[32m━━━━━━━━━━━━━━━━━━━━\u001b[0m\u001b[37m\u001b[0m \u001b[1m0s\u001b[0m 45ms/step - accuracy: 0.8021 - loss: 0.4805 - val_accuracy: 0.7500 - val_loss: 0.5959\n",
            "Epoch 40/100\n",
            "\u001b[1m2/2\u001b[0m \u001b[32m━━━━━━━━━━━━━━━━━━━━\u001b[0m\u001b[37m\u001b[0m \u001b[1m0s\u001b[0m 31ms/step - accuracy: 0.8125 - loss: 0.4759 - val_accuracy: 0.7500 - val_loss: 0.5952\n",
            "Epoch 41/100\n",
            "\u001b[1m2/2\u001b[0m \u001b[32m━━━━━━━━━━━━━━━━━━━━\u001b[0m\u001b[37m\u001b[0m \u001b[1m0s\u001b[0m 35ms/step - accuracy: 0.7917 - loss: 0.4713 - val_accuracy: 0.7500 - val_loss: 0.5945\n",
            "Epoch 42/100\n",
            "\u001b[1m2/2\u001b[0m \u001b[32m━━━━━━━━━━━━━━━━━━━━\u001b[0m\u001b[37m\u001b[0m \u001b[1m0s\u001b[0m 31ms/step - accuracy: 0.8125 - loss: 0.4620 - val_accuracy: 0.7500 - val_loss: 0.5939\n",
            "Epoch 43/100\n",
            "\u001b[1m2/2\u001b[0m \u001b[32m━━━━━━━━━━━━━━━━━━━━\u001b[0m\u001b[37m\u001b[0m \u001b[1m0s\u001b[0m 31ms/step - accuracy: 0.7917 - loss: 0.4813 - val_accuracy: 0.7500 - val_loss: 0.5932\n",
            "Epoch 44/100\n",
            "\u001b[1m2/2\u001b[0m \u001b[32m━━━━━━━━━━━━━━━━━━━━\u001b[0m\u001b[37m\u001b[0m \u001b[1m0s\u001b[0m 41ms/step - accuracy: 0.7812 - loss: 0.4951 - val_accuracy: 0.7500 - val_loss: 0.5924\n",
            "Epoch 45/100\n",
            "\u001b[1m2/2\u001b[0m \u001b[32m━━━━━━━━━━━━━━━━━━━━\u001b[0m\u001b[37m\u001b[0m \u001b[1m0s\u001b[0m 31ms/step - accuracy: 0.8125 - loss: 0.4678 - val_accuracy: 0.7500 - val_loss: 0.5917\n",
            "Epoch 46/100\n",
            "\u001b[1m2/2\u001b[0m \u001b[32m━━━━━━━━━━━━━━━━━━━━\u001b[0m\u001b[37m\u001b[0m \u001b[1m0s\u001b[0m 30ms/step - accuracy: 0.8229 - loss: 0.4547 - val_accuracy: 0.7500 - val_loss: 0.5910\n",
            "Epoch 47/100\n",
            "\u001b[1m2/2\u001b[0m \u001b[32m━━━━━━━━━━━━━━━━━━━━\u001b[0m\u001b[37m\u001b[0m \u001b[1m0s\u001b[0m 31ms/step - accuracy: 0.8333 - loss: 0.4407 - val_accuracy: 0.7500 - val_loss: 0.5905\n",
            "Epoch 48/100\n",
            "\u001b[1m2/2\u001b[0m \u001b[32m━━━━━━━━━━━━━━━━━━━━\u001b[0m\u001b[37m\u001b[0m \u001b[1m0s\u001b[0m 32ms/step - accuracy: 0.8854 - loss: 0.4178 - val_accuracy: 0.7500 - val_loss: 0.5901\n",
            "Epoch 49/100\n",
            "\u001b[1m2/2\u001b[0m \u001b[32m━━━━━━━━━━━━━━━━━━━━\u001b[0m\u001b[37m\u001b[0m \u001b[1m0s\u001b[0m 33ms/step - accuracy: 0.8125 - loss: 0.4728 - val_accuracy: 0.7500 - val_loss: 0.5897\n",
            "Epoch 50/100\n",
            "\u001b[1m2/2\u001b[0m \u001b[32m━━━━━━━━━━━━━━━━━━━━\u001b[0m\u001b[37m\u001b[0m \u001b[1m0s\u001b[0m 32ms/step - accuracy: 0.8125 - loss: 0.4569 - val_accuracy: 0.7500 - val_loss: 0.5893\n",
            "Epoch 51/100\n",
            "\u001b[1m2/2\u001b[0m \u001b[32m━━━━━━━━━━━━━━━━━━━━\u001b[0m\u001b[37m\u001b[0m \u001b[1m0s\u001b[0m 33ms/step - accuracy: 0.8333 - loss: 0.4369 - val_accuracy: 0.7500 - val_loss: 0.5889\n",
            "Epoch 52/100\n",
            "\u001b[1m2/2\u001b[0m \u001b[32m━━━━━━━━━━━━━━━━━━━━\u001b[0m\u001b[37m\u001b[0m \u001b[1m0s\u001b[0m 31ms/step - accuracy: 0.8125 - loss: 0.4623 - val_accuracy: 0.7500 - val_loss: 0.5885\n",
            "Epoch 53/100\n",
            "\u001b[1m2/2\u001b[0m \u001b[32m━━━━━━━━━━━━━━━━━━━━\u001b[0m\u001b[37m\u001b[0m \u001b[1m0s\u001b[0m 30ms/step - accuracy: 0.8229 - loss: 0.4497 - val_accuracy: 0.7500 - val_loss: 0.5881\n",
            "Epoch 54/100\n",
            "\u001b[1m2/2\u001b[0m \u001b[32m━━━━━━━━━━━━━━━━━━━━\u001b[0m\u001b[37m\u001b[0m \u001b[1m0s\u001b[0m 31ms/step - accuracy: 0.8333 - loss: 0.4458 - val_accuracy: 0.7500 - val_loss: 0.5877\n",
            "Epoch 55/100\n",
            "\u001b[1m2/2\u001b[0m \u001b[32m━━━━━━━━━━━━━━━━━━━━\u001b[0m\u001b[37m\u001b[0m \u001b[1m0s\u001b[0m 32ms/step - accuracy: 0.8646 - loss: 0.4202 - val_accuracy: 0.7500 - val_loss: 0.5874\n",
            "Epoch 56/100\n",
            "\u001b[1m2/2\u001b[0m \u001b[32m━━━━━━━━━━━━━━━━━━━━\u001b[0m\u001b[37m\u001b[0m \u001b[1m0s\u001b[0m 40ms/step - accuracy: 0.8438 - loss: 0.4490 - val_accuracy: 0.7500 - val_loss: 0.5871\n",
            "Epoch 57/100\n",
            "\u001b[1m2/2\u001b[0m \u001b[32m━━━━━━━━━━━━━━━━━━━━\u001b[0m\u001b[37m\u001b[0m \u001b[1m0s\u001b[0m 37ms/step - accuracy: 0.8438 - loss: 0.4243 - val_accuracy: 0.7500 - val_loss: 0.5870\n",
            "Epoch 58/100\n",
            "\u001b[1m2/2\u001b[0m \u001b[32m━━━━━━━━━━━━━━━━━━━━\u001b[0m\u001b[37m\u001b[0m \u001b[1m0s\u001b[0m 32ms/step - accuracy: 0.8125 - loss: 0.4420 - val_accuracy: 0.7500 - val_loss: 0.5867\n",
            "Epoch 59/100\n",
            "\u001b[1m2/2\u001b[0m \u001b[32m━━━━━━━━━━━━━━━━━━━━\u001b[0m\u001b[37m\u001b[0m \u001b[1m0s\u001b[0m 31ms/step - accuracy: 0.8229 - loss: 0.4510 - val_accuracy: 0.7500 - val_loss: 0.5865\n",
            "Epoch 60/100\n",
            "\u001b[1m2/2\u001b[0m \u001b[32m━━━━━━━━━━━━━━━━━━━━\u001b[0m\u001b[37m\u001b[0m \u001b[1m0s\u001b[0m 31ms/step - accuracy: 0.8333 - loss: 0.4318 - val_accuracy: 0.7500 - val_loss: 0.5864\n",
            "Epoch 61/100\n",
            "\u001b[1m2/2\u001b[0m \u001b[32m━━━━━━━━━━━━━━━━━━━━\u001b[0m\u001b[37m\u001b[0m \u001b[1m0s\u001b[0m 32ms/step - accuracy: 0.8021 - loss: 0.4418 - val_accuracy: 0.7500 - val_loss: 0.5863\n",
            "Epoch 62/100\n",
            "\u001b[1m2/2\u001b[0m \u001b[32m━━━━━━━━━━━━━━━━━━━━\u001b[0m\u001b[37m\u001b[0m \u001b[1m0s\u001b[0m 32ms/step - accuracy: 0.8229 - loss: 0.4370 - val_accuracy: 0.7500 - val_loss: 0.5862\n",
            "Epoch 63/100\n",
            "\u001b[1m2/2\u001b[0m \u001b[32m━━━━━━━━━━━━━━━━━━━━\u001b[0m\u001b[37m\u001b[0m \u001b[1m0s\u001b[0m 37ms/step - accuracy: 0.8333 - loss: 0.4235 - val_accuracy: 0.7500 - val_loss: 0.5864\n",
            "Epoch 64/100\n",
            "\u001b[1m2/2\u001b[0m \u001b[32m━━━━━━━━━━━━━━━━━━━━\u001b[0m\u001b[37m\u001b[0m \u001b[1m0s\u001b[0m 31ms/step - accuracy: 0.8021 - loss: 0.4503 - val_accuracy: 0.7500 - val_loss: 0.5866\n",
            "Epoch 65/100\n",
            "\u001b[1m2/2\u001b[0m \u001b[32m━━━━━━━━━━━━━━━━━━━━\u001b[0m\u001b[37m\u001b[0m \u001b[1m0s\u001b[0m 32ms/step - accuracy: 0.8438 - loss: 0.4044 - val_accuracy: 0.7500 - val_loss: 0.5866\n",
            "Epoch 66/100\n",
            "\u001b[1m2/2\u001b[0m \u001b[32m━━━━━━━━━━━━━━━━━━━━\u001b[0m\u001b[37m\u001b[0m \u001b[1m0s\u001b[0m 33ms/step - accuracy: 0.8125 - loss: 0.4136 - val_accuracy: 0.7500 - val_loss: 0.5866\n",
            "Epoch 67/100\n",
            "\u001b[1m2/2\u001b[0m \u001b[32m━━━━━━━━━━━━━━━━━━━━\u001b[0m\u001b[37m\u001b[0m \u001b[1m0s\u001b[0m 37ms/step - accuracy: 0.7917 - loss: 0.4599 - val_accuracy: 0.7500 - val_loss: 0.5867\n",
            "Epoch 68/100\n",
            "\u001b[1m2/2\u001b[0m \u001b[32m━━━━━━━━━━━━━━━━━━━━\u001b[0m\u001b[37m\u001b[0m \u001b[1m0s\u001b[0m 38ms/step - accuracy: 0.8229 - loss: 0.4274 - val_accuracy: 0.7500 - val_loss: 0.5868\n",
            "Epoch 69/100\n",
            "\u001b[1m2/2\u001b[0m \u001b[32m━━━━━━━━━━━━━━━━━━━━\u001b[0m\u001b[37m\u001b[0m \u001b[1m0s\u001b[0m 31ms/step - accuracy: 0.8333 - loss: 0.4081 - val_accuracy: 0.7500 - val_loss: 0.5869\n",
            "Epoch 70/100\n",
            "\u001b[1m2/2\u001b[0m \u001b[32m━━━━━━━━━━━━━━━━━━━━\u001b[0m\u001b[37m\u001b[0m \u001b[1m0s\u001b[0m 30ms/step - accuracy: 0.8542 - loss: 0.3743 - val_accuracy: 0.7500 - val_loss: 0.5871\n",
            "Epoch 71/100\n",
            "\u001b[1m2/2\u001b[0m \u001b[32m━━━━━━━━━━━━━━━━━━━━\u001b[0m\u001b[37m\u001b[0m \u001b[1m0s\u001b[0m 31ms/step - accuracy: 0.8333 - loss: 0.4044 - val_accuracy: 0.7500 - val_loss: 0.5873\n",
            "Epoch 72/100\n",
            "\u001b[1m2/2\u001b[0m \u001b[32m━━━━━━━━━━━━━━━━━━━━\u001b[0m\u001b[37m\u001b[0m \u001b[1m0s\u001b[0m 31ms/step - accuracy: 0.8125 - loss: 0.4186 - val_accuracy: 0.7500 - val_loss: 0.5875\n",
            "Epoch 73/100\n",
            "\u001b[1m2/2\u001b[0m \u001b[32m━━━━━━━━━━━━━━━━━━━━\u001b[0m\u001b[37m\u001b[0m \u001b[1m0s\u001b[0m 32ms/step - accuracy: 0.8646 - loss: 0.3751 - val_accuracy: 0.7500 - val_loss: 0.5877\n",
            "Epoch 74/100\n",
            "\u001b[1m2/2\u001b[0m \u001b[32m━━━━━━━━━━━━━━━━━━━━\u001b[0m\u001b[37m\u001b[0m \u001b[1m0s\u001b[0m 31ms/step - accuracy: 0.8333 - loss: 0.3921 - val_accuracy: 0.7500 - val_loss: 0.5878\n",
            "Epoch 75/100\n",
            "\u001b[1m2/2\u001b[0m \u001b[32m━━━━━━━━━━━━━━━━━━━━\u001b[0m\u001b[37m\u001b[0m \u001b[1m0s\u001b[0m 33ms/step - accuracy: 0.8229 - loss: 0.4024 - val_accuracy: 0.7500 - val_loss: 0.5880\n",
            "Epoch 76/100\n",
            "\u001b[1m2/2\u001b[0m \u001b[32m━━━━━━━━━━━━━━━━━━━━\u001b[0m\u001b[37m\u001b[0m \u001b[1m0s\u001b[0m 31ms/step - accuracy: 0.8333 - loss: 0.3934 - val_accuracy: 0.7500 - val_loss: 0.5882\n",
            "Epoch 77/100\n",
            "\u001b[1m2/2\u001b[0m \u001b[32m━━━━━━━━━━━━━━━━━━━━\u001b[0m\u001b[37m\u001b[0m \u001b[1m0s\u001b[0m 38ms/step - accuracy: 0.8229 - loss: 0.3972 - val_accuracy: 0.7500 - val_loss: 0.5888\n",
            "Epoch 78/100\n",
            "\u001b[1m2/2\u001b[0m \u001b[32m━━━━━━━━━━━━━━━━━━━━\u001b[0m\u001b[37m\u001b[0m \u001b[1m0s\u001b[0m 32ms/step - accuracy: 0.7917 - loss: 0.4414 - val_accuracy: 0.7500 - val_loss: 0.5891\n",
            "Epoch 79/100\n",
            "\u001b[1m2/2\u001b[0m \u001b[32m━━━━━━━━━━━━━━━━━━━━\u001b[0m\u001b[37m\u001b[0m \u001b[1m0s\u001b[0m 32ms/step - accuracy: 0.8438 - loss: 0.3893 - val_accuracy: 0.7500 - val_loss: 0.5895\n",
            "Epoch 80/100\n",
            "\u001b[1m2/2\u001b[0m \u001b[32m━━━━━━━━━━━━━━━━━━━━\u001b[0m\u001b[37m\u001b[0m \u001b[1m0s\u001b[0m 35ms/step - accuracy: 0.8021 - loss: 0.4084 - val_accuracy: 0.7500 - val_loss: 0.5900\n",
            "Epoch 81/100\n",
            "\u001b[1m2/2\u001b[0m \u001b[32m━━━━━━━━━━━━━━━━━━━━\u001b[0m\u001b[37m\u001b[0m \u001b[1m0s\u001b[0m 37ms/step - accuracy: 0.8333 - loss: 0.3908 - val_accuracy: 0.7500 - val_loss: 0.5904\n",
            "Epoch 82/100\n",
            "\u001b[1m2/2\u001b[0m \u001b[32m━━━━━━━━━━━━━━━━━━━━\u001b[0m\u001b[37m\u001b[0m \u001b[1m0s\u001b[0m 37ms/step - accuracy: 0.8438 - loss: 0.3596 - val_accuracy: 0.7500 - val_loss: 0.5909\n",
            "Epoch 83/100\n",
            "\u001b[1m2/2\u001b[0m \u001b[32m━━━━━━━━━━━━━━━━━━━━\u001b[0m\u001b[37m\u001b[0m \u001b[1m0s\u001b[0m 39ms/step - accuracy: 0.8333 - loss: 0.4037 - val_accuracy: 0.7500 - val_loss: 0.5915\n",
            "Epoch 84/100\n",
            "\u001b[1m2/2\u001b[0m \u001b[32m━━━━━━━━━━━━━━━━━━━━\u001b[0m\u001b[37m\u001b[0m \u001b[1m0s\u001b[0m 33ms/step - accuracy: 0.8125 - loss: 0.3968 - val_accuracy: 0.7500 - val_loss: 0.5920\n",
            "Epoch 85/100\n",
            "\u001b[1m2/2\u001b[0m \u001b[32m━━━━━━━━━━━━━━━━━━━━\u001b[0m\u001b[37m\u001b[0m \u001b[1m0s\u001b[0m 31ms/step - accuracy: 0.8229 - loss: 0.3796 - val_accuracy: 0.7500 - val_loss: 0.5925\n",
            "Epoch 86/100\n",
            "\u001b[1m2/2\u001b[0m \u001b[32m━━━━━━━━━━━━━━━━━━━━\u001b[0m\u001b[37m\u001b[0m \u001b[1m0s\u001b[0m 30ms/step - accuracy: 0.8125 - loss: 0.3763 - val_accuracy: 0.7500 - val_loss: 0.5931\n",
            "Epoch 87/100\n",
            "\u001b[1m2/2\u001b[0m \u001b[32m━━━━━━━━━━━━━━━━━━━━\u001b[0m\u001b[37m\u001b[0m \u001b[1m0s\u001b[0m 32ms/step - accuracy: 0.8229 - loss: 0.3771 - val_accuracy: 0.7500 - val_loss: 0.5936\n",
            "Epoch 88/100\n",
            "\u001b[1m2/2\u001b[0m \u001b[32m━━━━━━━━━━━━━━━━━━━━\u001b[0m\u001b[37m\u001b[0m \u001b[1m0s\u001b[0m 31ms/step - accuracy: 0.8333 - loss: 0.3650 - val_accuracy: 0.7500 - val_loss: 0.5940\n",
            "Epoch 89/100\n",
            "\u001b[1m2/2\u001b[0m \u001b[32m━━━━━━━━━━━━━━━━━━━━\u001b[0m\u001b[37m\u001b[0m \u001b[1m0s\u001b[0m 35ms/step - accuracy: 0.8333 - loss: 0.3554 - val_accuracy: 0.7500 - val_loss: 0.5942\n",
            "Epoch 90/100\n",
            "\u001b[1m2/2\u001b[0m \u001b[32m━━━━━━━━━━━━━━━━━━━━\u001b[0m\u001b[37m\u001b[0m \u001b[1m0s\u001b[0m 32ms/step - accuracy: 0.8229 - loss: 0.3738 - val_accuracy: 0.7500 - val_loss: 0.5944\n",
            "Epoch 91/100\n",
            "\u001b[1m2/2\u001b[0m \u001b[32m━━━━━━━━━━━━━━━━━━━━\u001b[0m\u001b[37m\u001b[0m \u001b[1m0s\u001b[0m 32ms/step - accuracy: 0.8229 - loss: 0.3564 - val_accuracy: 0.7500 - val_loss: 0.5947\n",
            "Epoch 92/100\n",
            "\u001b[1m2/2\u001b[0m \u001b[32m━━━━━━━━━━━━━━━━━━━━\u001b[0m\u001b[37m\u001b[0m \u001b[1m0s\u001b[0m 32ms/step - accuracy: 0.8333 - loss: 0.3508 - val_accuracy: 0.7500 - val_loss: 0.5948\n",
            "Epoch 93/100\n",
            "\u001b[1m2/2\u001b[0m \u001b[32m━━━━━━━━━━━━━━━━━━━━\u001b[0m\u001b[37m\u001b[0m \u001b[1m0s\u001b[0m 37ms/step - accuracy: 0.8125 - loss: 0.3643 - val_accuracy: 0.7500 - val_loss: 0.5951\n",
            "Epoch 94/100\n",
            "\u001b[1m2/2\u001b[0m \u001b[32m━━━━━━━━━━━━━━━━━━━━\u001b[0m\u001b[37m\u001b[0m \u001b[1m0s\u001b[0m 39ms/step - accuracy: 0.8229 - loss: 0.3623 - val_accuracy: 0.7500 - val_loss: 0.5951\n",
            "Epoch 95/100\n",
            "\u001b[1m2/2\u001b[0m \u001b[32m━━━━━━━━━━━━━━━━━━━━\u001b[0m\u001b[37m\u001b[0m \u001b[1m0s\u001b[0m 38ms/step - accuracy: 0.8125 - loss: 0.3913 - val_accuracy: 0.7500 - val_loss: 0.5951\n",
            "Epoch 96/100\n",
            "\u001b[1m2/2\u001b[0m \u001b[32m━━━━━━━━━━━━━━━━━━━━\u001b[0m\u001b[37m\u001b[0m \u001b[1m0s\u001b[0m 37ms/step - accuracy: 0.8125 - loss: 0.3669 - val_accuracy: 0.7500 - val_loss: 0.5955\n",
            "Epoch 97/100\n",
            "\u001b[1m2/2\u001b[0m \u001b[32m━━━━━━━━━━━━━━━━━━━━\u001b[0m\u001b[37m\u001b[0m \u001b[1m0s\u001b[0m 31ms/step - accuracy: 0.8229 - loss: 0.3540 - val_accuracy: 0.7500 - val_loss: 0.5956\n",
            "Epoch 98/100\n",
            "\u001b[1m2/2\u001b[0m \u001b[32m━━━━━━━━━━━━━━━━━━━━\u001b[0m\u001b[37m\u001b[0m \u001b[1m0s\u001b[0m 31ms/step - accuracy: 0.8125 - loss: 0.3872 - val_accuracy: 0.7500 - val_loss: 0.5957\n",
            "Epoch 99/100\n",
            "\u001b[1m2/2\u001b[0m \u001b[32m━━━━━━━━━━━━━━━━━━━━\u001b[0m\u001b[37m\u001b[0m \u001b[1m0s\u001b[0m 33ms/step - accuracy: 0.8021 - loss: 0.3960 - val_accuracy: 0.7500 - val_loss: 0.5957\n",
            "Epoch 100/100\n",
            "\u001b[1m2/2\u001b[0m \u001b[32m━━━━━━━━━━━━━━━━━━━━\u001b[0m\u001b[37m\u001b[0m \u001b[1m0s\u001b[0m 31ms/step - accuracy: 0.7812 - loss: 0.3930 - val_accuracy: 0.7500 - val_loss: 0.5957\n"
          ]
        }
      ]
    },
    {
      "cell_type": "code",
      "source": [
        "from mlxtend.plotting import plot_decision_regions\n",
        "plot_decision_regions(x_train, y_train, clf=model)"
      ],
      "metadata": {
        "colab": {
          "base_uri": "https://localhost:8080/",
          "height": 469
        },
        "id": "6ksugoVjzEMu",
        "outputId": "da7099b0-1901-4076-baaa-67d8945e39ae"
      },
      "execution_count": 19,
      "outputs": [
        {
          "output_type": "stream",
          "name": "stdout",
          "text": [
            "\u001b[1m9600/9600\u001b[0m \u001b[32m━━━━━━━━━━━━━━━━━━━━\u001b[0m\u001b[37m\u001b[0m \u001b[1m12s\u001b[0m 1ms/step\n"
          ]
        },
        {
          "output_type": "execute_result",
          "data": {
            "text/plain": [
              "<Axes: >"
            ]
          },
          "metadata": {},
          "execution_count": 19
        },
        {
          "output_type": "display_data",
          "data": {
            "text/plain": [
              "<Figure size 640x480 with 1 Axes>"
            ],
            "image/png": "[encoded data removed]"
          },
          "metadata": {}
        }
      ]
    },
    {
      "cell_type": "markdown",
      "source": [
        "# Based on Uniform Distribution"
      ],
      "metadata": {
        "id": "lqoqo_WezN3S"
      }
    },
    {
      "cell_type": "markdown",
      "source": [
        "#1. Xavior / Glorot  Uniform\n",
        "### Description : [-limit, limit] where limit = sqrt(6/(fan_in-fan_out))"
      ],
      "metadata": {
        "id": "fS2nksnWzSL_"
      }
    },
    {
      "cell_type": "markdown",
      "source": [
        "#2. He's Uniform\n",
        "### Description : weights belong to [-limit, limit] where limit = sqrt(6/(fan_in))"
      ],
      "metadata": {
        "id": "rPKTI5-b0L0K"
      }
    },
    {
      "cell_type": "markdown",
      "source": [],
      "metadata": {
        "id": "SfMVlQHU0cW7"
      }
    }
  ]
}
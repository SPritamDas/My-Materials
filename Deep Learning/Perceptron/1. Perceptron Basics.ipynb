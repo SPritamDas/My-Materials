{
 "cells": [
  {
   "cell_type": "markdown",
   "id": "aaf6bade-fc92-4c33-b709-bdbcd41ee4a2",
   "metadata": {},
   "source": [
    "# Perceptron Basics\n",
    "### 🧑‍💼 **Shuvendu Pritam Das**  \n",
    "*Data Science / ML Enthusiast*  \n",
    "\n",
    "- **GitHub:** [SPritamDas](https://github.com/SPritamDas/My-Profile)  \n",
    "- **LinkedIn:** [Shuvendu Pritam Das](https://www.linkedin.com/in/shuvendupritamdas/)  \n",
    "- **Email:** shuvendupritamdas181@gmail.com  "
   ]
  },
  {
   "cell_type": "code",
   "execution_count": null,
   "id": "54f9a5c1-e3dd-4b4f-8120-30cb2c2bcb51",
   "metadata": {},
   "outputs": [],
   "source": [
    "import numpy as np\n",
    "import pandas as pd\n",
    "import matplotlib.pyplot as plt\n",
    "import seaborn as sns\n",
    "sns.set\n",
    "import warnings\n",
    "warnings.filterwarnings('ignore')\n",
    "import sklearn\n",
    "import mlxtend"
   ]
  },
  {
   "cell_type": "code",
   "execution_count": null,
   "id": "96646c3c-1808-4537-ba23-890c5f4a1635",
   "metadata": {},
   "outputs": [],
   "source": [
    "df = pd.read_csv(\"placement_data.csv\")"
   ]
  },
  {
   "cell_type": "code",
   "execution_count": null,
   "id": "0e65904e-c469-4fc0-910d-59d1f96458cd",
   "metadata": {},
   "outputs": [],
   "source": [
    "df.shape"
   ]
  },
  {
   "cell_type": "code",
   "execution_count": null,
   "id": "8b1e8e35-4b3c-48d2-89aa-31bc8d6fa9e9",
   "metadata": {
    "scrolled": true
   },
   "outputs": [],
   "source": [
    "df.sample(3)"
   ]
  },
  {
   "cell_type": "code",
   "execution_count": null,
   "id": "03478ae3-bfef-4cdf-89b0-48704114f09d",
   "metadata": {
    "scrolled": true
   },
   "outputs": [],
   "source": [
    "sns.scatterplot(data = df, x = 'cgpa', y = 'resume_score', hue='placed')\n",
    "plt.title(\"Scatterplot of cgpa Vs resume_score\")\n",
    "plt.show()"
   ]
  },
  {
   "cell_type": "code",
   "execution_count": null,
   "id": "a24a1edc-17ae-4715-9a67-c71b624709aa",
   "metadata": {},
   "outputs": [],
   "source": [
    "X = df.iloc[:,:2]\n",
    "y = df.iloc[:,-1]"
   ]
  },
  {
   "cell_type": "code",
   "execution_count": null,
   "id": "ca589cd7-822a-41a8-b027-9123512c3142",
   "metadata": {},
   "outputs": [],
   "source": [
    "from sklearn.model_selection import train_test_split\n",
    "X_train, X_test, y_train , y_test = train_test_split(X, y, test_size=0.1, random_state=42)"
   ]
  },
  {
   "cell_type": "code",
   "execution_count": null,
   "id": "11a69e3e-dd43-4d43-a438-12382eacc727",
   "metadata": {},
   "outputs": [],
   "source": [
    "from sklearn.linear_model import  Perceptron"
   ]
  },
  {
   "cell_type": "code",
   "execution_count": null,
   "id": "db2d4f68-2bb9-4dcc-bd51-c76bdde31013",
   "metadata": {},
   "outputs": [],
   "source": [
    "P = Perceptron()"
   ]
  },
  {
   "cell_type": "code",
   "execution_count": null,
   "id": "9cfbf6a4-7a5a-4971-bfd3-4d8ef6b34042",
   "metadata": {},
   "outputs": [],
   "source": [
    "P.fit(X_train,y_train)"
   ]
  },
  {
   "cell_type": "code",
   "execution_count": null,
   "id": "911b5791-25e4-4b4b-8ae0-a85f47e18d86",
   "metadata": {},
   "outputs": [],
   "source": [
    "P.coef_"
   ]
  },
  {
   "cell_type": "code",
   "execution_count": null,
   "id": "647ea74a-d5c3-4b67-9190-65a4be485a85",
   "metadata": {
    "scrolled": true
   },
   "outputs": [],
   "source": [
    "P.intercept_"
   ]
  },
  {
   "cell_type": "code",
   "execution_count": null,
   "id": "29d79b44-f204-416e-9bf3-ef4f35698726",
   "metadata": {},
   "outputs": [],
   "source": [
    "from mlxtend.plotting import plot_decision_regions"
   ]
  },
  {
   "cell_type": "code",
   "execution_count": null,
   "id": "762dd8e2-b39c-47c5-9f4e-d09c8813ab1f",
   "metadata": {},
   "outputs": [],
   "source": [
    "plot_decision_regions(X.values, y.values,clf = P, legend=2)\n",
    "plt.show()"
   ]
  },
  {
   "cell_type": "code",
   "execution_count": null,
   "id": "660b9981-2cbf-4d0b-bc66-f7896797138d",
   "metadata": {
    "scrolled": true
   },
   "outputs": [],
   "source": [
    "y_pred  = pd.Series(P.predict(X_test))\n",
    "y_pred"
   ]
  },
  {
   "cell_type": "code",
   "execution_count": null,
   "id": "ed77943f-2011-4360-a1ef-35f81954dd67",
   "metadata": {
    "scrolled": true
   },
   "outputs": [],
   "source": [
    "y_test"
   ]
  },
  {
   "cell_type": "code",
   "execution_count": null,
   "id": "943b6d40-0ea5-4577-b941-21a3d0a12f70",
   "metadata": {},
   "outputs": [],
   "source": [
    "from sklearn.metrics import confusion_matrix"
   ]
  },
  {
   "cell_type": "code",
   "execution_count": null,
   "id": "cad4a6bd-3743-4f43-a42a-af5ddd6aa794",
   "metadata": {},
   "outputs": [],
   "source": [
    "Confusion_matrix = confusion_matrix(y_test,y_pred)\n",
    "Confusion_matrix"
   ]
  },
  {
   "cell_type": "code",
   "execution_count": null,
   "id": "d773bb67-2a0e-4443-897b-ade4baa4bbd1",
   "metadata": {},
   "outputs": [],
   "source": [
    "from mlxtend.plotting import plot_confusion_matrix"
   ]
  },
  {
   "cell_type": "code",
   "execution_count": null,
   "id": "a9c9479c-2151-40d0-8d8a-4bf822d1dfb6",
   "metadata": {
    "scrolled": true
   },
   "outputs": [],
   "source": [
    "plot_confusion_matrix(Confusion_matrix)\n",
    "plt.show()"
   ]
  },
  {
   "cell_type": "code",
   "execution_count": null,
   "id": "42648f28-bf23-4f04-bb01-2a17d5b92ad9",
   "metadata": {},
   "outputs": [],
   "source": [
    "from sklearn.metrics import roc_auc_score\n",
    "roc_auc_score(y_test, y_pred)"
   ]
  },
  {
   "cell_type": "markdown",
   "id": "6561feac-00d2-498c-a814-91406cb42253",
   "metadata": {},
   "source": [
    "## Trying for XOR data"
   ]
  },
  {
   "cell_type": "code",
   "execution_count": null,
   "id": "e4a0d582-5ddf-4b32-b177-c062c48a374e",
   "metadata": {},
   "outputs": [],
   "source": [
    "x1 = np.array([])\n",
    "x2 = np.array([])\n",
    "for i in range(1000):\n",
    "    random_1 = np.round(np.random.randint(0,100))\n",
    "    random_2 = np.round(np.random.randint(0,30))\n",
    "    x1 = np.append(x1,random_1)\n",
    "    x2 = np.append(x2,random_2)\n",
    "output = np.array([])\n",
    "for i in range(1000):\n",
    "    if x1[i]%2 ==0 and x2[i]%2 ==0:\n",
    "        output = np.append(output,0)\n",
    "    else:\n",
    "        output = np.append(output,1)\n",
    "df_xor = pd.DataFrame([])\n",
    "df_xor['x1'] = x1\n",
    "df_xor['x2'] = x2\n",
    "df_xor['output'] = output\n",
    "df_xor.head(3)"
   ]
  },
  {
   "cell_type": "code",
   "execution_count": null,
   "id": "2c8525d3-88c5-4ac8-ad97-35cc0de2fb4a",
   "metadata": {
    "scrolled": true
   },
   "outputs": [],
   "source": [
    "df_xor.shape"
   ]
  },
  {
   "cell_type": "code",
   "execution_count": null,
   "id": "c79ac6f3-87c0-4d92-bb18-9fb35cca4534",
   "metadata": {},
   "outputs": [],
   "source": [
    "df_xor = df_xor.astype(int)"
   ]
  },
  {
   "cell_type": "code",
   "execution_count": null,
   "id": "bc63aa97-3c05-4cd1-9c4d-64d33a6c2720",
   "metadata": {},
   "outputs": [],
   "source": [
    "sns.scatterplot(data = df_xor, x = 'x1', y = 'x2', hue='output')\n",
    "plt.title(\"Scatterplot of cgpa Vs resume_score\")\n",
    "plt.show()"
   ]
  },
  {
   "cell_type": "code",
   "execution_count": null,
   "id": "84260be0-333a-4031-b9e1-5d0d7c904ee5",
   "metadata": {},
   "outputs": [],
   "source": [
    "X = df_xor.iloc[:,:2]\n",
    "y = df_xor.iloc[:,-1]"
   ]
  },
  {
   "cell_type": "code",
   "execution_count": null,
   "id": "af34d449-377f-4939-89d3-5d7737e34788",
   "metadata": {},
   "outputs": [],
   "source": [
    "X_train, X_test, y_train , y_test = train_test_split(X, y, test_size=0.1, random_state=42)"
   ]
  },
  {
   "cell_type": "code",
   "execution_count": null,
   "id": "b6e23b71-0ea8-46dd-a5ef-a3a5afeb7cba",
   "metadata": {},
   "outputs": [],
   "source": [
    "P.fit(X_train,y_train)"
   ]
  },
  {
   "cell_type": "code",
   "execution_count": null,
   "id": "d0d9d0c0-13c2-4a73-be33-e21872a43709",
   "metadata": {},
   "outputs": [],
   "source": [
    "P.coef_"
   ]
  },
  {
   "cell_type": "code",
   "execution_count": null,
   "id": "ac7c8b79-3736-4e90-b03d-4a632ae13590",
   "metadata": {
    "scrolled": true
   },
   "outputs": [],
   "source": [
    "P.intercept_"
   ]
  },
  {
   "cell_type": "code",
   "execution_count": null,
   "id": "b4a26f8a-36e1-4885-92a3-ff21689db150",
   "metadata": {
    "scrolled": true
   },
   "outputs": [],
   "source": [
    "plot_decision_regions(X.values, y.values,clf = P, legend=2)\n",
    "plt.show()"
   ]
  },
  {
   "cell_type": "code",
   "execution_count": null,
   "id": "0b1c07bc-aa6d-4f01-84ed-51ec69960844",
   "metadata": {},
   "outputs": [],
   "source": [
    "y_pred  = pd.Series(P.predict(X_test))\n",
    "y_pred"
   ]
  },
  {
   "cell_type": "code",
   "execution_count": null,
   "id": "41df2463-008f-43ac-bb0b-47b58b706251",
   "metadata": {},
   "outputs": [],
   "source": [
    "y_test"
   ]
  },
  {
   "cell_type": "code",
   "execution_count": null,
   "id": "6a358859-f58e-4ccc-97d4-49447b7bc7fd",
   "metadata": {},
   "outputs": [],
   "source": [
    "Confusion_matrix = confusion_matrix(y_test,y_pred)\n",
    "Confusion_matrix"
   ]
  },
  {
   "cell_type": "code",
   "execution_count": null,
   "id": "1f84a7a7-bf57-4805-9af4-0d3ddae5b46c",
   "metadata": {},
   "outputs": [],
   "source": [
    "plot_confusion_matrix(Confusion_matrix)\n",
    "plt.show()"
   ]
  },
  {
   "cell_type": "markdown",
   "id": "f46f08d8-1943-4af1-a372-e85ffea55985",
   "metadata": {},
   "source": [
    "### AUC plotting"
   ]
  },
  {
   "cell_type": "code",
   "execution_count": null,
   "id": "932a5f79-b1a4-4805-a2bd-9679465ade71",
   "metadata": {},
   "outputs": [],
   "source": [
    "from sklearn.metrics import roc_auc_score\n",
    "roc_auc_score(y_test, y_pred)"
   ]
  }
 ],
 "metadata": {
  "kernelspec": {
   "display_name": "Python 3 (ipykernel)",
   "language": "python",
   "name": "python3"
  },
  "language_info": {
   "codemirror_mode": {
    "name": "ipython",
    "version": 3
   },
   "file_extension": ".py",
   "mimetype": "text/x-python",
   "name": "python",
   "nbconvert_exporter": "python",
   "pygments_lexer": "ipython3",
   "version": "3.12.4"
  }
 },
 "nbformat": 4,
 "nbformat_minor": 5
}
